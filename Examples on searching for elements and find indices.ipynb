{
 "cells": [
  {
   "cell_type": "code",
   "execution_count": 1,
   "id": "0496cf6d-07a0-4e3e-9dad-3dc94fbd1f05",
   "metadata": {},
   "outputs": [],
   "source": [
    "import numpy as np"
   ]
  },
  {
   "cell_type": "code",
   "execution_count": 2,
   "id": "a9b3d087-ca39-4b21-af3f-7000b9542fdb",
   "metadata": {},
   "outputs": [
    {
     "name": "stdout",
     "output_type": "stream",
     "text": [
      "[[10 20 30]\n",
      " [20 10 40]\n",
      " [10 50 60]]\n"
     ]
    }
   ],
   "source": [
    "a = np.array([[10,20,30],[20,10,40],[10,50,60]])\n",
    "print(a)"
   ]
  },
  {
   "cell_type": "code",
   "execution_count": 3,
   "id": "a6f1eb94-6152-46e3-9416-f004bbadd9d1",
   "metadata": {},
   "outputs": [
    {
     "name": "stdout",
     "output_type": "stream",
     "text": [
      "(array([0, 1, 2]), array([0, 1, 0]))\n"
     ]
    }
   ],
   "source": [
    "ind = np.where(a==10)\n",
    "print(ind)"
   ]
  },
  {
   "cell_type": "code",
   "execution_count": 4,
   "id": "190bf076-6216-4114-8729-25f242ef811d",
   "metadata": {},
   "outputs": [
    {
     "name": "stdout",
     "output_type": "stream",
     "text": [
      "(array([0, 1]), array([1, 0]))\n"
     ]
    }
   ],
   "source": [
    "ind = np.where(a==20)\n",
    "print(ind)"
   ]
  },
  {
   "cell_type": "code",
   "execution_count": 5,
   "id": "434dcbe2-2f6c-40f6-93b1-6c9f03ce5f98",
   "metadata": {},
   "outputs": [
    {
     "name": "stdout",
     "output_type": "stream",
     "text": [
      "(array([0]), array([2]))\n"
     ]
    }
   ],
   "source": [
    "ind = np.where(a==30)\n",
    "print(ind)"
   ]
  },
  {
   "cell_type": "code",
   "execution_count": null,
   "id": "2b9e619b-e12f-4cf8-bdd4-059dcde406f1",
   "metadata": {},
   "outputs": [],
   "source": []
  },
  {
   "cell_type": "code",
   "execution_count": 7,
   "id": "ea168fe9-d4d3-4d7d-8b24-992ef9deb7e4",
   "metadata": {},
   "outputs": [
    {
     "name": "stdout",
     "output_type": "stream",
     "text": [
      "['M' 'I' 'S' 'S' 'I' 'S' 'S' 'I' 'P' 'P' 'I']\n",
      "---------------------------\n",
      "(array([ 1,  4,  7, 10]),)\n"
     ]
    }
   ],
   "source": [
    "a = np.array(list(\"MISSISSIPPI\"))\n",
    "print(a)\n",
    "print(\"---------------------------\")\n",
    "ind = np.where(a == \"I\")\n",
    "print(ind)"
   ]
  },
  {
   "cell_type": "code",
   "execution_count": 8,
   "id": "c3a90f13-04be-4651-8253-f9d1ac535ce4",
   "metadata": {},
   "outputs": [
    {
     "name": "stdout",
     "output_type": "stream",
     "text": [
      "(array([2, 3, 5, 6]),)\n"
     ]
    }
   ],
   "source": [
    "ind = np.where(a == \"S\")\n",
    "print(ind)"
   ]
  },
  {
   "cell_type": "code",
   "execution_count": 9,
   "id": "76ff8885-6018-425c-b054-f07ca6a965d9",
   "metadata": {},
   "outputs": [
    {
     "name": "stdout",
     "output_type": "stream",
     "text": [
      "(array([8, 9]),)\n"
     ]
    }
   ],
   "source": [
    "ind = np.where(a == \"P\")\n",
    "print(ind)"
   ]
  },
  {
   "cell_type": "code",
   "execution_count": null,
   "id": "d22fb4dc-0ac7-4f55-9f43-329f1ae92a8e",
   "metadata": {},
   "outputs": [],
   "source": []
  },
  {
   "cell_type": "code",
   "execution_count": 10,
   "id": "6ab0d65b-fe70-4cb8-bd50-74e0a6c9ecef",
   "metadata": {},
   "outputs": [
    {
     "name": "stdout",
     "output_type": "stream",
     "text": [
      "['A' 'B' 'R' 'A' 'K' 'A' 'D' 'A' 'B' 'R' 'A']\n",
      "---------------------------\n",
      "(array([2, 9]),)\n"
     ]
    }
   ],
   "source": [
    "a = np.array(list(\"ABRAKADABRA\"))\n",
    "print(a)\n",
    "print(\"---------------------------\")\n",
    "ind = np.where(a == \"R\")\n",
    "print(ind)"
   ]
  },
  {
   "cell_type": "code",
   "execution_count": 11,
   "id": "129c79db-f825-471f-a335-ebe2e2ae2d97",
   "metadata": {},
   "outputs": [
    {
     "name": "stdout",
     "output_type": "stream",
     "text": [
      "(array([1, 8]),)\n"
     ]
    }
   ],
   "source": [
    "ind = np.where(a == \"B\")\n",
    "print(ind)"
   ]
  },
  {
   "cell_type": "code",
   "execution_count": 12,
   "id": "30886fb4-2c8d-45a2-80f2-705a1ce55398",
   "metadata": {},
   "outputs": [
    {
     "name": "stdout",
     "output_type": "stream",
     "text": [
      "(array([ 0,  3,  5,  7, 10]),)\n"
     ]
    }
   ],
   "source": [
    "ind = np.where(a == \"A\")\n",
    "print(ind)"
   ]
  },
  {
   "cell_type": "code",
   "execution_count": null,
   "id": "906ee239-f0d5-4e61-98f4-b6e6e22e824d",
   "metadata": {},
   "outputs": [],
   "source": []
  },
  {
   "cell_type": "code",
   "execution_count": null,
   "id": "a03e7f8a-2681-4f4c-9710-32624df2f412",
   "metadata": {},
   "outputs": [],
   "source": []
  },
  {
   "cell_type": "code",
   "execution_count": null,
   "id": "2b988721-ef14-437c-ade4-c2a3088ab797",
   "metadata": {},
   "outputs": [],
   "source": []
  },
  {
   "cell_type": "code",
   "execution_count": null,
   "id": "d9ec0839-ef91-474a-b6b8-2115c6e6be72",
   "metadata": {},
   "outputs": [],
   "source": []
  },
  {
   "cell_type": "code",
   "execution_count": null,
   "id": "165d726b-1e10-4cd5-9303-ff485ff682ce",
   "metadata": {},
   "outputs": [],
   "source": []
  },
  {
   "cell_type": "code",
   "execution_count": null,
   "id": "a907bc54-ef80-400d-b83d-de86fb26fcea",
   "metadata": {},
   "outputs": [],
   "source": []
  }
 ],
 "metadata": {
  "kernelspec": {
   "display_name": "Python 3 (ipykernel)",
   "language": "python",
   "name": "python3"
  },
  "language_info": {
   "codemirror_mode": {
    "name": "ipython",
    "version": 3
   },
   "file_extension": ".py",
   "mimetype": "text/x-python",
   "name": "python",
   "nbconvert_exporter": "python",
   "pygments_lexer": "ipython3",
   "version": "3.13.5"
  }
 },
 "nbformat": 4,
 "nbformat_minor": 5
}
