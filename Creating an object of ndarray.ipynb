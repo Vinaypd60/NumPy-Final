{
 "cells": [
  {
   "cell_type": "markdown",
   "id": "12698f6f-8b71-4a23-ae77-dd0c2dcc2e63",
   "metadata": {},
   "source": [
    "# Number of NumPy approaches for creating an object of ndarray"
   ]
  },
  {
   "cell_type": "markdown",
   "id": "f6901e4b-ff04-4df8-bddf-ed70658aa113",
   "metadata": {},
   "source": [
    "## In Python programming, we have number of approaches for creating an object of ndarray.\n",
    "## Some essential approaches for creating an object of ndarray are:\n",
    "### a) array()\n",
    "### b) range()\n",
    "### c) zeros()\n",
    "### d) ones()\n",
    "### e) full()\n",
    "### f) linspace()\n",
    "### g) eye()\n",
    "### h) identity()\n",
    "### i) hstack()\n",
    "### j) vstack()\n",
    "### k) numpy.random\n",
    "#### 1) randint()\n",
    "#### 2) randn()\n",
    "#### 3) normal()\n",
    "#### 4) rand()\n",
    "#### 5) uniform()\n",
    "#### 6) shuffle()\n",
    "## Note: Here ndarray is a pre-defined class present in numpy module."
   ]
  },
  {
   "cell_type": "code",
   "execution_count": null,
   "id": "84cc2326-3705-4ba9-bc33-8e885210f2ec",
   "metadata": {},
   "outputs": [],
   "source": []
  },
  {
   "cell_type": "markdown",
   "id": "4238e9cd-e76d-4d08-a0c5-36f1d9239b02",
   "metadata": {},
   "source": [
    "# a) array()\n",
    "## syntax: varname = numpy.array(object,dtype) #obj=int,float,complex,bool\n",
    "## This function is used for converting traditional python object into ndarray object."
   ]
  },
  {
   "cell_type": "code",
   "execution_count": 1,
   "id": "a241b457-8484-4f55-8e38-b0e57c7b61ea",
   "metadata": {},
   "outputs": [],
   "source": [
    "import numpy as np"
   ]
  },
  {
   "cell_type": "code",
   "execution_count": 2,
   "id": "7d2dccd3-b3fe-4f99-8260-159ca173ce45",
   "metadata": {},
   "outputs": [
    {
     "name": "stdout",
     "output_type": "stream",
     "text": [
      "100 <class 'int'> 140725240184840\n",
      "---------------------\n",
      "100 <class 'numpy.ndarray'> 1797881644496\n"
     ]
    }
   ],
   "source": [
    "b = 100\n",
    "print(b,type(b),id(b))\n",
    "print(\"---------------------\")\n",
    "a = np.array(b)\n",
    "print(a,type(a),id(a))"
   ]
  },
  {
   "cell_type": "code",
   "execution_count": 3,
   "id": "eec70567-42fd-4ce3-af98-4717463e4b51",
   "metadata": {},
   "outputs": [
    {
     "name": "stdout",
     "output_type": "stream",
     "text": [
      "2.3 <class 'float'> 1797922960048\n",
      "-------------------------------\n",
      "2.3 <class 'numpy.ndarray'> 1797920892720\n"
     ]
    }
   ],
   "source": [
    "c = 2.3\n",
    "print(c,type(c),id(c))\n",
    "print(\"-------------------------------\")\n",
    "d = np.array(c)\n",
    "print(d,type(d),id(d))"
   ]
  },
  {
   "cell_type": "code",
   "execution_count": 4,
   "id": "0e439685-4130-4170-8f29-6605d0f77eb7",
   "metadata": {},
   "outputs": [
    {
     "name": "stdout",
     "output_type": "stream",
     "text": [
      "5.3 <class 'float'> 1797918669328\n",
      "-------------------------------\n",
      "5.3 <class 'numpy.ndarray'> 1797923653840\n",
      "-------------------------------\n",
      "0\n",
      "()\n",
      "1\n",
      "float64\n"
     ]
    }
   ],
   "source": [
    "c = 5.3\n",
    "print(c,type(c),id(c))\n",
    "print(\"-------------------------------\")\n",
    "d = np.array(c)\n",
    "print(d,type(d),id(d))\n",
    "print(\"-------------------------------\")\n",
    "print(d.ndim)\n",
    "print(d.shape)\n",
    "print(d.size)\n",
    "print(d.dtype)"
   ]
  },
  {
   "cell_type": "code",
   "execution_count": 6,
   "id": "5528b211-4b25-44ca-a832-9b967bd0a22c",
   "metadata": {},
   "outputs": [
    {
     "name": "stdout",
     "output_type": "stream",
     "text": [
      "100 <class 'int'> 140725240184840\n",
      "---------------------\n",
      "100 <class 'numpy.ndarray'> 1797923653648\n",
      "---------------------\n",
      "Dimensions= 0\n",
      "Shape= ()\n",
      "Size= 1\n",
      "Internal data-type= int64\n"
     ]
    }
   ],
   "source": [
    "b = 100\n",
    "print(b,type(b),id(b))\n",
    "print(\"---------------------\")\n",
    "a = np.array(b)\n",
    "print(a,type(a),id(a))\n",
    "print(\"---------------------\")\n",
    "print(\"Dimensions=\",a.ndim)\n",
    "print(\"Shape=\",a.shape)\n",
    "print(\"Size=\",a.size)\n",
    "print(\"Internal data-type=\",a.dtype)"
   ]
  },
  {
   "cell_type": "code",
   "execution_count": null,
   "id": "8da62f7c-57dd-4eec-be33-7016009e54ab",
   "metadata": {},
   "outputs": [],
   "source": []
  },
  {
   "cell_type": "markdown",
   "id": "a4bbae09-9657-46d8-914f-a7f172457742",
   "metadata": {},
   "source": [
    "# b) range()"
   ]
  },
  {
   "cell_type": "code",
   "execution_count": 7,
   "id": "42df8ce5-e07c-4054-98f9-3ad3edb8deee",
   "metadata": {},
   "outputs": [
    {
     "name": "stdout",
     "output_type": "stream",
     "text": [
      "range(0, 10) <class 'range'> 1797897106464\n"
     ]
    }
   ],
   "source": [
    "r = range(10)\n",
    "print(r,type(r),id(r))"
   ]
  },
  {
   "cell_type": "code",
   "execution_count": 8,
   "id": "18a83524-96a9-4b19-85ac-4e7132d4be65",
   "metadata": {},
   "outputs": [
    {
     "name": "stdout",
     "output_type": "stream",
     "text": [
      "0\t1\t2\t3\t4\t5\t6\t7\t8\t9\t"
     ]
    }
   ],
   "source": [
    "for val in r:\n",
    "    print(val,end=\"\\t\")"
   ]
  },
  {
   "cell_type": "code",
   "execution_count": 9,
   "id": "9958a23f-430a-455e-a9b6-6c413cc43831",
   "metadata": {},
   "outputs": [
    {
     "name": "stdout",
     "output_type": "stream",
     "text": [
      "0\n",
      "1\n",
      "2\n",
      "3\n",
      "4\n",
      "5\n",
      "6\n",
      "7\n",
      "8\n",
      "9\n"
     ]
    }
   ],
   "source": [
    "for val in r:\n",
    "    print(val,end=\"\\n\")"
   ]
  },
  {
   "cell_type": "code",
   "execution_count": 11,
   "id": "64acdd9e-569e-4457-9996-3de179068eeb",
   "metadata": {},
   "outputs": [
    {
     "name": "stdout",
     "output_type": "stream",
     "text": [
      "0\t1\t2\t3\t4\t5\t6\t7\t8\t9\t10\t11\t12\t13\t14\t"
     ]
    }
   ],
   "source": [
    "for val in range(0,15):\n",
    "    print(val,end=\"\\t\")"
   ]
  },
  {
   "cell_type": "code",
   "execution_count": 12,
   "id": "2a86f1ea-3eae-4b2a-b762-28034c8b697d",
   "metadata": {},
   "outputs": [
    {
     "name": "stdout",
     "output_type": "stream",
     "text": [
      "0\t2\t4\t6\t8\t10\t12\t14\t16\t18\t20\t"
     ]
    }
   ],
   "source": [
    "for val in range(0,21,2):\n",
    "    print(val,end=\"\\t\")"
   ]
  },
  {
   "cell_type": "code",
   "execution_count": 16,
   "id": "e98768bb-4bcd-42c5-aaa1-234d91a91cce",
   "metadata": {},
   "outputs": [
    {
     "name": "stdout",
     "output_type": "stream",
     "text": [
      "range(10, 61, 2) <class 'range'> 1797920111328\n",
      "-------------------------------------------------\n",
      "[10 12 14 16 18 20 22 24 26 28 30 32 34 36 38 40 42 44 46 48 50 52 54 56\n",
      " 58 60] <class 'numpy.ndarray'> 1797938563184\n",
      "-------------------------------------------------\n",
      "Dimensional= 1\n",
      "Shape= (26,)\n",
      "Size= 26\n",
      "Internal datatype= int64\n"
     ]
    }
   ],
   "source": [
    "r = range(10,61,2)\n",
    "print(r,type(r),id(r))\n",
    "print(\"-------------------------------------------------\")\n",
    "a = np.array(r)\n",
    "print(a,type(a),id(a))\n",
    "print(\"-------------------------------------------------\")\n",
    "print(\"Dimensional=\",a.ndim)\n",
    "print(\"Shape=\",a.shape)\n",
    "print(\"Size=\",a.size)\n",
    "print(\"Internal datatype=\",a.dtype)"
   ]
  },
  {
   "cell_type": "markdown",
   "id": "e3e0c60c-2338-4905-a979-2ad595ce82eb",
   "metadata": {},
   "source": [
    "## Now, I want to re-shape the 1D into 2D array.\n",
    "## To reshape the ndarray object we can use\n",
    "## 1) shape() 2) reshape()\n",
    "## syntax: ndarrayobj.shape(row,cal) or ndarrayobj.reshape(row,cal)"
   ]
  },
  {
   "cell_type": "code",
   "execution_count": 18,
   "id": "2ebb0074-c230-4c39-858f-86a17b0d8ec4",
   "metadata": {},
   "outputs": [
    {
     "name": "stdout",
     "output_type": "stream",
     "text": [
      "range(100, 156, 5) <class 'range'> 1797899174368\n",
      "---------------------------------------------\n",
      "[100 105 110 115 120 125 130 135 140 145 150 155] <class 'numpy.ndarray'>\n",
      "-------------------------------------------------\n",
      "Dimensional= 1\n",
      "Shape= (12,)\n",
      "Size= 12\n",
      "Internal datatype= int64\n"
     ]
    }
   ],
   "source": [
    "a = range(100,156,5)\n",
    "print(a,type(a),id(a))\n",
    "print(\"---------------------------------------------\")\n",
    "b = np.array(a)\n",
    "print(b,type(b))\n",
    "print(\"-------------------------------------------------\")\n",
    "print(\"Dimensional=\",b.ndim)\n",
    "print(\"Shape=\",b.shape)\n",
    "print(\"Size=\",b.size)\n",
    "print(\"Internal datatype=\",b.dtype)"
   ]
  },
  {
   "cell_type": "code",
   "execution_count": 23,
   "id": "7458222e-5dcd-4e54-8c70-fe80cfbbbaa0",
   "metadata": {},
   "outputs": [
    {
     "name": "stdout",
     "output_type": "stream",
     "text": [
      "----------------------\n",
      "[[100 105 110]\n",
      " [115 120 125]\n",
      " [130 135 140]\n",
      " [145 150 155]] <class 'numpy.ndarray'>\n",
      "----------------------\n",
      "Dimensional= 2\n",
      "Shape= (4, 3)\n",
      "Size= 12\n",
      "Internal datatype= int64\n"
     ]
    }
   ],
   "source": [
    "b.shape = (4,3)\n",
    "print(\"----------------------\")\n",
    "print(b,type(b))\n",
    "print(\"----------------------\")\n",
    "print(\"Dimensional=\",b.ndim)\n",
    "print(\"Shape=\",b.shape)\n",
    "print(\"Size=\",b.size)\n",
    "print(\"Internal datatype=\",b.dtype)"
   ]
  },
  {
   "cell_type": "code",
   "execution_count": 24,
   "id": "f4c6f0ed-ea9b-48c3-bd0f-1d4e525bf506",
   "metadata": {},
   "outputs": [
    {
     "name": "stdout",
     "output_type": "stream",
     "text": [
      "range(0, 16) <class 'range'>\n",
      "--------------------------\n",
      "[ 0  1  2  3  4  5  6  7  8  9 10 11 12 13 14 15] <class 'numpy.ndarray'>\n",
      "---------------------------\n",
      "Dimensional= 1\n",
      "Shape= (16,)\n",
      "Size= 16\n",
      "Internal datatype= int64\n"
     ]
    }
   ],
   "source": [
    "x = range(0,16)\n",
    "print(x,type(x))\n",
    "print(\"--------------------------\")\n",
    "y = np.array(x)\n",
    "print(y,type(y))\n",
    "print(\"---------------------------\")\n",
    "print(\"Dimensional=\",y.ndim)\n",
    "print(\"Shape=\",y.shape)\n",
    "print(\"Size=\",y.size)\n",
    "print(\"Internal datatype=\",y.dtype)"
   ]
  },
  {
   "cell_type": "code",
   "execution_count": 25,
   "id": "1fb696ef-80a3-43eb-9e19-c424445a39c2",
   "metadata": {},
   "outputs": [
    {
     "name": "stdout",
     "output_type": "stream",
     "text": [
      "[[ 0  1  2  3]\n",
      " [ 4  5  6  7]\n",
      " [ 8  9 10 11]\n",
      " [12 13 14 15]] <class 'numpy.ndarray'>\n",
      "-------------------\n",
      "Dimensional= 2\n",
      "Shape= (4, 4)\n",
      "Size= 16\n",
      "Internal datatype= int64\n"
     ]
    }
   ],
   "source": [
    "y.shape = (4,4)\n",
    "print(y,type(y))\n",
    "print(\"-------------------\")\n",
    "print(\"Dimensional=\",y.ndim)\n",
    "print(\"Shape=\",y.shape)\n",
    "print(\"Size=\",y.size)\n",
    "print(\"Internal datatype=\",y.dtype)"
   ]
  },
  {
   "cell_type": "code",
   "execution_count": 29,
   "id": "a2ed3be1-e84d-4362-9b38-8e305affb64a",
   "metadata": {},
   "outputs": [
    {
     "name": "stdout",
     "output_type": "stream",
     "text": [
      "[[ 0  1  2  3]\n",
      " [ 4  5  6  7]\n",
      " [ 8  9 10 11]\n",
      " [12 13 14 15]]\n"
     ]
    }
   ],
   "source": [
    "x = y.reshape(4,4)\n",
    "print(x)"
   ]
  },
  {
   "cell_type": "code",
   "execution_count": 30,
   "id": "cbfcb89f-7e51-4757-8c58-426514be8d88",
   "metadata": {},
   "outputs": [
    {
     "name": "stdout",
     "output_type": "stream",
     "text": [
      "[[ 0  1]\n",
      " [ 2  3]\n",
      " [ 4  5]\n",
      " [ 6  7]\n",
      " [ 8  9]\n",
      " [10 11]\n",
      " [12 13]\n",
      " [14 15]]\n"
     ]
    }
   ],
   "source": [
    "x = y.reshape(8,2)\n",
    "print(x)"
   ]
  },
  {
   "cell_type": "code",
   "execution_count": 31,
   "id": "3a167a7b-c2bf-44e4-aeef-36b400689fe3",
   "metadata": {},
   "outputs": [
    {
     "name": "stdout",
     "output_type": "stream",
     "text": [
      "[[ 0  1  2  3  4  5  6  7]\n",
      " [ 8  9 10 11 12 13 14 15]]\n"
     ]
    }
   ],
   "source": [
    "x = y.reshape(2,8)\n",
    "print(x)"
   ]
  },
  {
   "cell_type": "code",
   "execution_count": 32,
   "id": "699c1844-bd0d-4be1-a5be-1971d3303b20",
   "metadata": {},
   "outputs": [
    {
     "name": "stdout",
     "output_type": "stream",
     "text": [
      "[ 0  1  2  3  4  5  6  7  8  9 10 11 12 13 14 15]\n"
     ]
    }
   ],
   "source": [
    "x = y.reshape(16,) # flatten is nothing but single dimensional array\n",
    "print(x)"
   ]
  },
  {
   "cell_type": "markdown",
   "id": "49618634-d207-440e-b582-f72b3fd54bc0",
   "metadata": {},
   "source": []
  },
  {
   "cell_type": "markdown",
   "id": "22d63e60-3f1e-4d32-b003-8b8bbcd2dedf",
   "metadata": {},
   "source": [
    "# 2) arange()"
   ]
  },
  {
   "cell_type": "markdown",
   "id": "39dceac7-c84e-4a1e-adc5-a44ced34ccca",
   "metadata": {},
   "source": [
    "## arange() by default create an object of ndarray with 1-D array only. it can't build 2-D and N-D arrays\n",
    "## To build 2D and ND arrays from arange(), we will use reshape() or shape() attribute.\n",
    "## arange() is used for generating range of values with equal interval of value (Default interval (or) step value is 1)"
   ]
  },
  {
   "cell_type": "markdown",
   "id": "3b629e27-dece-43fc-a55f-51990ac6b81f",
   "metadata": {},
   "source": [
    "### syntax: varname = numpy.arange(start)\n",
    "### syntax: varname = numpy.arange(start,stop)\n",
    "### syntax: varname = numpy.arange(start,stop,step)"
   ]
  },
  {
   "cell_type": "code",
   "execution_count": 36,
   "id": "d3d62197-d013-4c69-867d-e16bdfb6b165",
   "metadata": {},
   "outputs": [],
   "source": [
    "import numpy as np"
   ]
  },
  {
   "cell_type": "code",
   "execution_count": 39,
   "id": "9870e680-c5c7-4b54-a555-84715dcaa0ea",
   "metadata": {},
   "outputs": [
    {
     "name": "stdout",
     "output_type": "stream",
     "text": [
      "[0 1 2 3 4 5 6 7 8 9] <class 'numpy.ndarray'>\n"
     ]
    }
   ],
   "source": [
    "a = np.arange(10)\n",
    "print(a,type(a))"
   ]
  },
  {
   "cell_type": "code",
   "execution_count": 41,
   "id": "a6473bb3-8705-4b81-a5c3-6d17049355fd",
   "metadata": {},
   "outputs": [
    {
     "name": "stdout",
     "output_type": "stream",
     "text": [
      "[[0 1 2 3 4]\n",
      " [5 6 7 8 9]] <class 'numpy.ndarray'>\n",
      "---------------------\n",
      "Dimensional= 2\n",
      "Shape= (2, 5)\n",
      "Size= 10\n",
      "Internal datatype= int64\n"
     ]
    }
   ],
   "source": [
    "a.shape=(2,5)\n",
    "print(a,type(a))\n",
    "print(\"---------------------\")\n",
    "print(\"Dimensional=\",a.ndim)\n",
    "print(\"Shape=\",a.shape)\n",
    "print(\"Size=\",a.size)\n",
    "print(\"Internal datatype=\",a.dtype)"
   ]
  },
  {
   "cell_type": "code",
   "execution_count": 42,
   "id": "dc4f3ca0-3ace-42a4-b23a-6fd253230ffc",
   "metadata": {},
   "outputs": [
    {
     "name": "stdout",
     "output_type": "stream",
     "text": [
      "[10 11 12 13 14 15 16 17 18 19 20 21] <class 'numpy.ndarray'>\n",
      "-------------------\n",
      "[[10 11 12]\n",
      " [13 14 15]\n",
      " [16 17 18]\n",
      " [19 20 21]] <class 'numpy.ndarray'>\n",
      "---------------------\n",
      "Dimensional= 2\n",
      "Shape= (4, 3)\n",
      "Size= 12\n",
      "Internal datatype= int64\n"
     ]
    }
   ],
   "source": [
    "a = np.arange(10,22)\n",
    "print(a,type(a))\n",
    "print(\"-------------------\")\n",
    "a.shape=(4,3)\n",
    "print(a,type(a))\n",
    "print(\"---------------------\")\n",
    "print(\"Dimensional=\",a.ndim)\n",
    "print(\"Shape=\",a.shape)\n",
    "print(\"Size=\",a.size)\n",
    "print(\"Internal datatype=\",a.dtype)"
   ]
  },
  {
   "cell_type": "code",
   "execution_count": 43,
   "id": "9153d723-d066-49e3-ae63-7ed5ee2d85e9",
   "metadata": {},
   "outputs": [
    {
     "name": "stdout",
     "output_type": "stream",
     "text": [
      "[ 10  15  20  25  30  35  40  45  50  55  60  65  70  75  80  85  90  95\n",
      " 100 105] <class 'numpy.ndarray'>\n",
      "-------------------\n",
      "[[ 10  15  20  25]\n",
      " [ 30  35  40  45]\n",
      " [ 50  55  60  65]\n",
      " [ 70  75  80  85]\n",
      " [ 90  95 100 105]] <class 'numpy.ndarray'>\n",
      "---------------------\n",
      "Dimensional= 2\n",
      "Shape= (5, 4)\n",
      "Size= 20\n",
      "Internal datatype= int64\n"
     ]
    }
   ],
   "source": [
    "a = np.arange(10,106,5)\n",
    "print(a,type(a))\n",
    "print(\"-------------------\")\n",
    "a.shape=(5,4)\n",
    "print(a,type(a))\n",
    "print(\"---------------------\")\n",
    "print(\"Dimensional=\",a.ndim)\n",
    "print(\"Shape=\",a.shape)\n",
    "print(\"Size=\",a.size)\n",
    "print(\"Internal datatype=\",a.dtype)"
   ]
  },
  {
   "cell_type": "code",
   "execution_count": null,
   "id": "bf0d2ae6-bd93-4e2a-ad9b-032fbe13984f",
   "metadata": {},
   "outputs": [],
   "source": []
  },
  {
   "cell_type": "markdown",
   "id": "715d1262-344d-433d-8124-74e70e8b0e2a",
   "metadata": {},
   "source": [
    "# linspace()\n",
    "## linspace() stands for equal linear generated value.\n",
    "## syntax: varname = numpy.linspace(start,stop,num,endpoint,returnstep,dtype)"
   ]
  },
  {
   "cell_type": "code",
   "execution_count": 44,
   "id": "03c55bfd-0271-442a-a073-7a1e8f28c92a",
   "metadata": {},
   "outputs": [],
   "source": [
    "import numpy as np"
   ]
  },
  {
   "cell_type": "code",
   "execution_count": 45,
   "id": "3e0edd5f-9181-4988-8618-c60cbaa3ef31",
   "metadata": {},
   "outputs": [
    {
     "name": "stdout",
     "output_type": "stream",
     "text": [
      "[1.         1.04081633 1.08163265 1.12244898 1.16326531 1.20408163\n",
      " 1.24489796 1.28571429 1.32653061 1.36734694 1.40816327 1.44897959\n",
      " 1.48979592 1.53061224 1.57142857 1.6122449  1.65306122 1.69387755\n",
      " 1.73469388 1.7755102  1.81632653 1.85714286 1.89795918 1.93877551\n",
      " 1.97959184 2.02040816 2.06122449 2.10204082 2.14285714 2.18367347\n",
      " 2.2244898  2.26530612 2.30612245 2.34693878 2.3877551  2.42857143\n",
      " 2.46938776 2.51020408 2.55102041 2.59183673 2.63265306 2.67346939\n",
      " 2.71428571 2.75510204 2.79591837 2.83673469 2.87755102 2.91836735\n",
      " 2.95918367 3.        ] <class 'numpy.ndarray'>\n"
     ]
    }
   ],
   "source": [
    "a = np.linspace(1,3)\n",
    "print(a,type(a))"
   ]
  },
  {
   "cell_type": "code",
   "execution_count": 46,
   "id": "cafbf44f-d262-4010-a0ef-a2315d989097",
   "metadata": {},
   "outputs": [
    {
     "name": "stdout",
     "output_type": "stream",
     "text": [
      "[1.  1.5 2.  2.5 3. ] <class 'numpy.ndarray'>\n"
     ]
    }
   ],
   "source": [
    "a = np.linspace(1,3,num=5) # equal intervals\n",
    "print(a,type(a))"
   ]
  },
  {
   "cell_type": "code",
   "execution_count": 47,
   "id": "67268a10-0688-4666-8c84-e18f3c9dab4e",
   "metadata": {},
   "outputs": [
    {
     "name": "stdout",
     "output_type": "stream",
     "text": [
      "[1.  1.4 1.8 2.2 2.6] <class 'numpy.ndarray'>\n"
     ]
    }
   ],
   "source": [
    "a = np.linspace(1,3,num=5,endpoint=False)\n",
    "print(a,type(a))"
   ]
  },
  {
   "cell_type": "code",
   "execution_count": 48,
   "id": "152e9051-f117-4f94-94ba-490f36efb3bc",
   "metadata": {},
   "outputs": [
    {
     "name": "stdout",
     "output_type": "stream",
     "text": [
      "[1.  1.5 2.  2.5 3. ] <class 'numpy.ndarray'>\n"
     ]
    }
   ],
   "source": [
    "a = np.linspace(1,3,num=5,endpoint=True)\n",
    "print(a,type(a))"
   ]
  },
  {
   "cell_type": "code",
   "execution_count": 49,
   "id": "99e0d3a3-9bff-42dd-84a8-ffbca6f7c04f",
   "metadata": {},
   "outputs": [
    {
     "name": "stdout",
     "output_type": "stream",
     "text": [
      "(array([1. , 1.4, 1.8, 2.2, 2.6]), np.float64(0.4)) <class 'tuple'>\n"
     ]
    }
   ],
   "source": [
    "a = np.linspace(1,3,num=5,endpoint=False,retstep=True)\n",
    "print(a,type(a))"
   ]
  },
  {
   "cell_type": "code",
   "execution_count": 50,
   "id": "4aaf7308-f0e3-4617-ae93-aa3909ce12e0",
   "metadata": {},
   "outputs": [
    {
     "name": "stdout",
     "output_type": "stream",
     "text": [
      "[1.  1.4 1.8 2.2 2.6] <class 'numpy.ndarray'>\n"
     ]
    }
   ],
   "source": [
    "a = np.linspace(1,3,num=5,endpoint=False,retstep=False)\n",
    "print(a,type(a))"
   ]
  },
  {
   "cell_type": "code",
   "execution_count": 51,
   "id": "b8db4978-e07f-43bd-9c6c-37b30a0f343e",
   "metadata": {},
   "outputs": [
    {
     "name": "stdout",
     "output_type": "stream",
     "text": [
      "(array([1, 1, 1, 2, 2]), np.float64(0.4)) <class 'tuple'>\n"
     ]
    }
   ],
   "source": [
    "a = np.linspace(1,3,num=5,endpoint=False,retstep=True,dtype=int)\n",
    "print(a,type(a))"
   ]
  },
  {
   "cell_type": "code",
   "execution_count": 52,
   "id": "471b534a-0fbf-45de-94e4-bd1bc9ef99d7",
   "metadata": {},
   "outputs": [
    {
     "name": "stdout",
     "output_type": "stream",
     "text": [
      "(array([ True,  True,  True,  True,  True]), np.float64(0.4)) <class 'tuple'>\n"
     ]
    }
   ],
   "source": [
    "a = np.linspace(1,3,num=5,endpoint=False,retstep=True,dtype=bool)\n",
    "print(a,type(a))"
   ]
  },
  {
   "cell_type": "code",
   "execution_count": 53,
   "id": "f3b8008f-40ac-48ae-947a-a2ad4461d6db",
   "metadata": {},
   "outputs": [
    {
     "name": "stdout",
     "output_type": "stream",
     "text": [
      "(array([1. +0.j, 1.4+0.j, 1.8+0.j, 2.2+0.j, 2.6+0.j]), np.float64(0.4)) <class 'tuple'>\n"
     ]
    }
   ],
   "source": [
    "a = np.linspace(1,3,num=5,endpoint=False,retstep=True,dtype=complex)\n",
    "print(a,type(a))"
   ]
  },
  {
   "cell_type": "code",
   "execution_count": null,
   "id": "8f564a70-fb62-43c4-abda-7cd9ba768991",
   "metadata": {},
   "outputs": [],
   "source": []
  },
  {
   "cell_type": "markdown",
   "id": "018011af-7e87-4851-aba6-c617fece61ea",
   "metadata": {},
   "source": [
    "# 4)Zeros()\n",
    "## In NumPy, zeros() is a function used to create an array filled entirely with zeros. It's super handy when you need a placeholder or want to initialize an array before populating it with actual data.\n",
    "## syntax: varname = numpy.zeros(shape,dtype)"
   ]
  },
  {
   "cell_type": "code",
   "execution_count": 54,
   "id": "685d2bf3-d941-467d-9a5c-5f7f909badcc",
   "metadata": {},
   "outputs": [],
   "source": [
    "import numpy as np"
   ]
  },
  {
   "cell_type": "code",
   "execution_count": 55,
   "id": "2a4ac9f1-c4fc-4d5c-b39f-7e4d15d09e1d",
   "metadata": {},
   "outputs": [
    {
     "name": "stdout",
     "output_type": "stream",
     "text": [
      "[0. 0. 0. 0. 0. 0. 0. 0.] <class 'numpy.ndarray'>\n"
     ]
    }
   ],
   "source": [
    "a = np.zeros(8)\n",
    "print(a,type(a))"
   ]
  },
  {
   "cell_type": "code",
   "execution_count": 56,
   "id": "ba978d4b-5b6d-4363-8382-2c8bcb86e713",
   "metadata": {},
   "outputs": [
    {
     "name": "stdout",
     "output_type": "stream",
     "text": [
      "[0 0 0 0 0 0 0 0] <class 'numpy.ndarray'>\n"
     ]
    }
   ],
   "source": [
    "a = np.zeros(8,dtype=int)\n",
    "print(a,type(a))"
   ]
  },
  {
   "cell_type": "code",
   "execution_count": 57,
   "id": "82f5fef8-12a2-4837-a23b-88833f876d73",
   "metadata": {},
   "outputs": [
    {
     "name": "stdout",
     "output_type": "stream",
     "text": [
      "[[0 0 0 0]\n",
      " [0 0 0 0]]\n"
     ]
    }
   ],
   "source": [
    "A =a.reshape(2,4)\n",
    "print(A)"
   ]
  },
  {
   "cell_type": "code",
   "execution_count": 59,
   "id": "be3e6252-acf8-42d2-a316-f14a91e3ec32",
   "metadata": {},
   "outputs": [
    {
     "name": "stdout",
     "output_type": "stream",
     "text": [
      "[[0 0]\n",
      " [0 0]\n",
      " [0 0]\n",
      " [0 0]]\n"
     ]
    }
   ],
   "source": [
    "A =a.reshape(4,2)\n",
    "print(A)"
   ]
  },
  {
   "cell_type": "code",
   "execution_count": 60,
   "id": "ad865820-c313-4c67-bdc4-281411493fb6",
   "metadata": {},
   "outputs": [
    {
     "name": "stdout",
     "output_type": "stream",
     "text": [
      "[[0 0 0 0 0 0 0 0]]\n"
     ]
    }
   ],
   "source": [
    "A =a.reshape(1,8)\n",
    "print(A)"
   ]
  },
  {
   "cell_type": "code",
   "execution_count": 61,
   "id": "51df6d36-86be-4a47-bfd3-1847de8d3328",
   "metadata": {},
   "outputs": [
    {
     "name": "stdout",
     "output_type": "stream",
     "text": [
      "[[0]\n",
      " [0]\n",
      " [0]\n",
      " [0]\n",
      " [0]\n",
      " [0]\n",
      " [0]\n",
      " [0]]\n"
     ]
    }
   ],
   "source": [
    "A =a.reshape(8,1)\n",
    "print(A)"
   ]
  },
  {
   "cell_type": "code",
   "execution_count": 62,
   "id": "d054bdb7-0bde-4765-b455-f8b194fabbb1",
   "metadata": {},
   "outputs": [
    {
     "name": "stdout",
     "output_type": "stream",
     "text": [
      "[[0 0 0 0]\n",
      " [0 0 0 0]]\n",
      "-----------------------\n",
      "Dimensional= 2\n",
      "Shape= (2, 4)\n",
      "Size= 8\n",
      "Internal datatype= int64\n"
     ]
    }
   ],
   "source": [
    "A =a.reshape(2,4)\n",
    "print(A)\n",
    "print(\"-----------------------\")\n",
    "print(\"Dimensional=\",A.ndim)\n",
    "print(\"Shape=\",A.shape)\n",
    "print(\"Size=\",A.size)\n",
    "print(\"Internal datatype=\",A.dtype)"
   ]
  },
  {
   "cell_type": "code",
   "execution_count": 64,
   "id": "646429bb-c346-4096-820b-e7defbf6df90",
   "metadata": {},
   "outputs": [
    {
     "name": "stdout",
     "output_type": "stream",
     "text": [
      "[[[0 0 0]\n",
      "  [0 0 0]\n",
      "  [0 0 0]]\n",
      "\n",
      " [[0 0 0]\n",
      "  [0 0 0]\n",
      "  [0 0 0]]\n",
      "\n",
      " [[0 0 0]\n",
      "  [0 0 0]\n",
      "  [0 0 0]]]\n"
     ]
    }
   ],
   "source": [
    "a = np.zeros((3,3,3),dtype=int)\n",
    "print(a)"
   ]
  },
  {
   "cell_type": "code",
   "execution_count": 65,
   "id": "7c17bf77-1cb5-4c07-9a7e-ffd71bb14fad",
   "metadata": {},
   "outputs": [
    {
     "name": "stdout",
     "output_type": "stream",
     "text": [
      "[[0 0 0 0]\n",
      " [0 0 0 0]\n",
      " [0 0 0 0]\n",
      " [0 0 0 0]] <class 'numpy.ndarray'>\n"
     ]
    }
   ],
   "source": [
    "a = np.zeros((4,4),dtype=int)\n",
    "print(a,type(a))"
   ]
  },
  {
   "cell_type": "code",
   "execution_count": 66,
   "id": "3337f6a4-0008-4821-9ebe-c93f0476b7cd",
   "metadata": {},
   "outputs": [
    {
     "name": "stdout",
     "output_type": "stream",
     "text": [
      "[[[0 0 0 0]\n",
      "  [0 0 0 0]\n",
      "  [0 0 0 0]\n",
      "  [0 0 0 0]]\n",
      "\n",
      " [[0 0 0 0]\n",
      "  [0 0 0 0]\n",
      "  [0 0 0 0]\n",
      "  [0 0 0 0]]\n",
      "\n",
      " [[0 0 0 0]\n",
      "  [0 0 0 0]\n",
      "  [0 0 0 0]\n",
      "  [0 0 0 0]]\n",
      "\n",
      " [[0 0 0 0]\n",
      "  [0 0 0 0]\n",
      "  [0 0 0 0]\n",
      "  [0 0 0 0]]] <class 'numpy.ndarray'>\n"
     ]
    }
   ],
   "source": [
    "a = np.zeros((4,4,4),dtype=int)\n",
    "print(a,type(a))"
   ]
  },
  {
   "cell_type": "code",
   "execution_count": null,
   "id": "98b26923-2498-490b-96c7-51af71ed23af",
   "metadata": {},
   "outputs": [],
   "source": []
  },
  {
   "cell_type": "markdown",
   "id": "deaa4dc6-97e9-4c42-986d-afa16fae1402",
   "metadata": {},
   "source": [
    "# 5) ones()\n",
    "## In NumPy, ones() is a function that creates an array filled entirely with the number 1. It's perfect when you need a default array of ones for initialization, testing, or mathematical operations.\n",
    "## syntax: varname = numpy.ones(shape,dtype)"
   ]
  },
  {
   "cell_type": "code",
   "execution_count": 67,
   "id": "65698326-37fc-4888-b66d-f3bb5354dfcb",
   "metadata": {},
   "outputs": [],
   "source": [
    "import numpy as np"
   ]
  },
  {
   "cell_type": "code",
   "execution_count": 69,
   "id": "f92baf23-7618-4753-9c97-32bba4cba307",
   "metadata": {},
   "outputs": [
    {
     "name": "stdout",
     "output_type": "stream",
     "text": [
      "[1. 1. 1. 1. 1. 1.] <class 'numpy.ndarray'>\n"
     ]
    }
   ],
   "source": [
    "A = np.ones(6)\n",
    "print(A,type(A))"
   ]
  },
  {
   "cell_type": "code",
   "execution_count": 72,
   "id": "aec1f547-32b3-4d8a-9750-99b4c5ad2fed",
   "metadata": {},
   "outputs": [
    {
     "name": "stdout",
     "output_type": "stream",
     "text": [
      "[[1 1 1]\n",
      " [1 1 1]] <class 'numpy.ndarray'> 1797938574512\n",
      "-------------------------\n",
      "Dimensional= 2\n",
      "Shape= (2, 3)\n",
      "Size= 6\n",
      "Internal datatype= int64\n"
     ]
    }
   ],
   "source": [
    "A = np.ones((2,3),dtype=int)\n",
    "print(A,type(A),id(A))\n",
    "print(\"-------------------------\")\n",
    "print(\"Dimensional=\",A.ndim)\n",
    "print(\"Shape=\",A.shape)\n",
    "print(\"Size=\",A.size)\n",
    "print(\"Internal datatype=\",A.dtype)"
   ]
  },
  {
   "cell_type": "code",
   "execution_count": 73,
   "id": "e4536d59-1f92-4f49-b209-44e39388acb0",
   "metadata": {},
   "outputs": [
    {
     "name": "stdout",
     "output_type": "stream",
     "text": [
      "[[[1 1 1 1]\n",
      "  [1 1 1 1]\n",
      "  [1 1 1 1]\n",
      "  [1 1 1 1]]\n",
      "\n",
      " [[1 1 1 1]\n",
      "  [1 1 1 1]\n",
      "  [1 1 1 1]\n",
      "  [1 1 1 1]]\n",
      "\n",
      " [[1 1 1 1]\n",
      "  [1 1 1 1]\n",
      "  [1 1 1 1]\n",
      "  [1 1 1 1]]] <class 'numpy.ndarray'> 1797938567408\n",
      "-------------------------\n",
      "Dimensional= 3\n",
      "Shape= (3, 4, 4)\n",
      "Size= 48\n",
      "Internal datatype= int64\n"
     ]
    }
   ],
   "source": [
    "A = np.ones((3,4,4),dtype=int)\n",
    "print(A,type(A),id(A))\n",
    "print(\"-------------------------\")\n",
    "print(\"Dimensional=\",A.ndim)\n",
    "print(\"Shape=\",A.shape)\n",
    "print(\"Size=\",A.size)\n",
    "print(\"Internal datatype=\",A.dtype)"
   ]
  },
  {
   "cell_type": "code",
   "execution_count": 74,
   "id": "c9fe2bf5-e1ce-46bd-9602-d9fa566a5cae",
   "metadata": {},
   "outputs": [
    {
     "name": "stdout",
     "output_type": "stream",
     "text": [
      "[[[ True  True  True  True]\n",
      "  [ True  True  True  True]\n",
      "  [ True  True  True  True]\n",
      "  [ True  True  True  True]]\n",
      "\n",
      " [[ True  True  True  True]\n",
      "  [ True  True  True  True]\n",
      "  [ True  True  True  True]\n",
      "  [ True  True  True  True]]\n",
      "\n",
      " [[ True  True  True  True]\n",
      "  [ True  True  True  True]\n",
      "  [ True  True  True  True]\n",
      "  [ True  True  True  True]]] <class 'numpy.ndarray'> 1797938565680\n",
      "-------------------------\n",
      "Dimensional= 3\n",
      "Shape= (3, 4, 4)\n",
      "Size= 48\n",
      "Internal datatype= bool\n"
     ]
    }
   ],
   "source": [
    "A = np.ones((3,4,4),dtype=bool)\n",
    "print(A,type(A),id(A))\n",
    "print(\"-------------------------\")\n",
    "print(\"Dimensional=\",A.ndim)\n",
    "print(\"Shape=\",A.shape)\n",
    "print(\"Size=\",A.size)\n",
    "print(\"Internal datatype=\",A.dtype)"
   ]
  },
  {
   "cell_type": "code",
   "execution_count": 75,
   "id": "b262411f-151f-4b65-8236-f034cf2e8e16",
   "metadata": {},
   "outputs": [
    {
     "name": "stdout",
     "output_type": "stream",
     "text": [
      "[[[1. 1. 1. 1.]\n",
      "  [1. 1. 1. 1.]\n",
      "  [1. 1. 1. 1.]\n",
      "  [1. 1. 1. 1.]]\n",
      "\n",
      " [[1. 1. 1. 1.]\n",
      "  [1. 1. 1. 1.]\n",
      "  [1. 1. 1. 1.]\n",
      "  [1. 1. 1. 1.]]\n",
      "\n",
      " [[1. 1. 1. 1.]\n",
      "  [1. 1. 1. 1.]\n",
      "  [1. 1. 1. 1.]\n",
      "  [1. 1. 1. 1.]]\n",
      "\n",
      " [[1. 1. 1. 1.]\n",
      "  [1. 1. 1. 1.]\n",
      "  [1. 1. 1. 1.]\n",
      "  [1. 1. 1. 1.]]] <class 'numpy.ndarray'> 1797938574992\n",
      "-------------------------\n",
      "Dimensional= 3\n",
      "Shape= (4, 4, 4)\n",
      "Size= 64\n",
      "Internal datatype= float64\n"
     ]
    }
   ],
   "source": [
    "A = np.ones((4,4,4),dtype=float)\n",
    "print(A,type(A),id(A))\n",
    "print(\"-------------------------\")\n",
    "print(\"Dimensional=\",A.ndim)\n",
    "print(\"Shape=\",A.shape)\n",
    "print(\"Size=\",A.size)\n",
    "print(\"Internal datatype=\",A.dtype)"
   ]
  },
  {
   "cell_type": "code",
   "execution_count": 76,
   "id": "1e346628-2e85-40ca-a531-9b071ca88368",
   "metadata": {},
   "outputs": [
    {
     "name": "stdout",
     "output_type": "stream",
     "text": [
      "[[[1.+0.j 1.+0.j 1.+0.j 1.+0.j]\n",
      "  [1.+0.j 1.+0.j 1.+0.j 1.+0.j]\n",
      "  [1.+0.j 1.+0.j 1.+0.j 1.+0.j]\n",
      "  [1.+0.j 1.+0.j 1.+0.j 1.+0.j]]\n",
      "\n",
      " [[1.+0.j 1.+0.j 1.+0.j 1.+0.j]\n",
      "  [1.+0.j 1.+0.j 1.+0.j 1.+0.j]\n",
      "  [1.+0.j 1.+0.j 1.+0.j 1.+0.j]\n",
      "  [1.+0.j 1.+0.j 1.+0.j 1.+0.j]]\n",
      "\n",
      " [[1.+0.j 1.+0.j 1.+0.j 1.+0.j]\n",
      "  [1.+0.j 1.+0.j 1.+0.j 1.+0.j]\n",
      "  [1.+0.j 1.+0.j 1.+0.j 1.+0.j]\n",
      "  [1.+0.j 1.+0.j 1.+0.j 1.+0.j]]\n",
      "\n",
      " [[1.+0.j 1.+0.j 1.+0.j 1.+0.j]\n",
      "  [1.+0.j 1.+0.j 1.+0.j 1.+0.j]\n",
      "  [1.+0.j 1.+0.j 1.+0.j 1.+0.j]\n",
      "  [1.+0.j 1.+0.j 1.+0.j 1.+0.j]]] <class 'numpy.ndarray'> 1797938565680\n",
      "-------------------------\n",
      "Dimensional= 3\n",
      "Shape= (4, 4, 4)\n",
      "Size= 64\n",
      "Internal datatype= complex128\n"
     ]
    }
   ],
   "source": [
    "A = np.ones((4,4,4),dtype=complex)\n",
    "print(A,type(A),id(A))\n",
    "print(\"-------------------------\")\n",
    "print(\"Dimensional=\",A.ndim)\n",
    "print(\"Shape=\",A.shape)\n",
    "print(\"Size=\",A.size)\n",
    "print(\"Internal datatype=\",A.dtype)"
   ]
  },
  {
   "cell_type": "code",
   "execution_count": null,
   "id": "65de3d4a-d87f-472f-a418-9be8f8deec2b",
   "metadata": {},
   "outputs": [],
   "source": []
  },
  {
   "cell_type": "markdown",
   "id": "f9a146c0-e71f-4430-ae7c-f966f534bfa6",
   "metadata": {},
   "source": [
    "# 6) Identity()\n",
    "## This function is always build identity (or) unit matrix.\n",
    "## syntax: varname = numpy.identity(N,dtype) \n",
    "### Here N represents either we can take rows (or) cols and PVM takes as NxN matrix."
   ]
  },
  {
   "cell_type": "code",
   "execution_count": 77,
   "id": "2635845a-db65-4440-b801-cb8aeaaf37d1",
   "metadata": {},
   "outputs": [],
   "source": [
    "import numpy as np"
   ]
  },
  {
   "cell_type": "code",
   "execution_count": 78,
   "id": "8daa9780-a11f-4387-afa0-ed43af5d4523",
   "metadata": {},
   "outputs": [
    {
     "name": "stdout",
     "output_type": "stream",
     "text": [
      "[[1. 0.]\n",
      " [0. 1.]] <class 'numpy.ndarray'> 1797938567024\n"
     ]
    }
   ],
   "source": [
    "a = np.identity(2)\n",
    "print(a,type(a),id(a))"
   ]
  },
  {
   "cell_type": "code",
   "execution_count": 79,
   "id": "d6eca3f1-d3b7-409a-924d-a05aa7286010",
   "metadata": {},
   "outputs": [
    {
     "name": "stdout",
     "output_type": "stream",
     "text": [
      "[[1 0 0 0]\n",
      " [0 1 0 0]\n",
      " [0 0 1 0]\n",
      " [0 0 0 1]] <class 'numpy.ndarray'> 1797938565296\n"
     ]
    }
   ],
   "source": [
    "a = np.identity(4,dtype=int)\n",
    "print(a,type(a),id(a))"
   ]
  },
  {
   "cell_type": "code",
   "execution_count": 80,
   "id": "97adb883-5589-4f12-aaa9-ec08a0848c7a",
   "metadata": {},
   "outputs": [
    {
     "name": "stdout",
     "output_type": "stream",
     "text": [
      "[[ True False False False]\n",
      " [False  True False False]\n",
      " [False False  True False]\n",
      " [False False False  True]] <class 'numpy.ndarray'> 1797938572016\n",
      "----------------------------------------------\n",
      "Dimensional= 2\n",
      "Shape= (4, 4)\n",
      "Size= 16\n",
      "Internal datatype= bool\n"
     ]
    }
   ],
   "source": [
    "a = np.identity(4,dtype=bool)\n",
    "print(a,type(a),id(a))\n",
    "print(\"----------------------------------------------\")\n",
    "print(\"Dimensional=\",a.ndim)\n",
    "print(\"Shape=\",a.shape)\n",
    "print(\"Size=\",a.size)\n",
    "print(\"Internal datatype=\",a.dtype)"
   ]
  },
  {
   "cell_type": "code",
   "execution_count": null,
   "id": "751564ab-9d3f-4f1f-89ec-80bab984589e",
   "metadata": {},
   "outputs": [],
   "source": []
  },
  {
   "cell_type": "markdown",
   "id": "3d43c122-a096-4978-9aff-2d80d0c88ed1",
   "metadata": {},
   "source": [
    "# 7)eye()\n",
    "## This function is used to create a 2D array with ones on the diagonal and zeros elsewhere.\n",
    "## It is commonly used in linear algebra and matrix operation.\n",
    "## It is useful for generating matrices to transform, rotate (or) scale vector.\n",
    "## Syntax: varname = numpy.eye(N,M=none,K=0,dtype)\n",
    "### N = No of rows in output\n",
    "### M = No of cols in output\n",
    "### K = Index of the diagonal\n",
    "### dtype = Datatype of the returned array"
   ]
  },
  {
   "cell_type": "code",
   "execution_count": 81,
   "id": "52170d50-269c-4249-8887-b7761544dc82",
   "metadata": {},
   "outputs": [],
   "source": [
    "import numpy as np"
   ]
  },
  {
   "cell_type": "code",
   "execution_count": 82,
   "id": "18f70d24-5dcd-4cd9-a129-fdf98863303d",
   "metadata": {},
   "outputs": [
    {
     "name": "stdout",
     "output_type": "stream",
     "text": [
      "[[1. 0. 0.]\n",
      " [0. 1. 0.]\n",
      " [0. 0. 1.]] <class 'numpy.ndarray'>\n"
     ]
    }
   ],
   "source": [
    "a = np.eye(3)\n",
    "print(a,type(a))"
   ]
  },
  {
   "cell_type": "code",
   "execution_count": 83,
   "id": "b48393b2-347e-4382-befa-3fbc62fba556",
   "metadata": {},
   "outputs": [
    {
     "name": "stdout",
     "output_type": "stream",
     "text": [
      "[[0 1 0 0 0]\n",
      " [0 0 1 0 0]\n",
      " [0 0 0 1 0]\n",
      " [0 0 0 0 1]] <class 'numpy.ndarray'>\n"
     ]
    }
   ],
   "source": [
    "a = np.eye(N=4, M=5, k=1, dtype=int, order='F')\n",
    "print(a,type(a))"
   ]
  },
  {
   "cell_type": "code",
   "execution_count": 89,
   "id": "5a4b5c00-2589-4684-a760-c67817447bce",
   "metadata": {},
   "outputs": [
    {
     "name": "stdout",
     "output_type": "stream",
     "text": [
      "[[0 1 0 0 0 0]\n",
      " [0 0 1 0 0 0]\n",
      " [0 0 0 1 0 0]\n",
      " [0 0 0 0 1 0]\n",
      " [0 0 0 0 0 1]] <class 'numpy.ndarray'>\n"
     ]
    }
   ],
   "source": [
    "a = np.eye(N=5, M=6, k=1, dtype=int, order='F')\n",
    "print(a,type(a))"
   ]
  },
  {
   "cell_type": "code",
   "execution_count": null,
   "id": "b15a8de3-2388-4b7c-9aa2-f512090961bb",
   "metadata": {},
   "outputs": [],
   "source": []
  },
  {
   "cell_type": "markdown",
   "id": "93949896-01ea-41b0-acba-552cd4d7864d",
   "metadata": {},
   "source": [
    "# 8) Full()\n",
    "## In NumPy, full() is a function used to create an array of a specified shape, filled with a specified value. It's a flexible way to initialize arrays when you want every element to start with the same number — not just zeros or ones.\n",
    "## syntax: varname = numpy.full(shape,fill_value,dtype)"
   ]
  },
  {
   "cell_type": "code",
   "execution_count": 90,
   "id": "406b7608-b684-40c3-98d6-6db4c88a8ef3",
   "metadata": {},
   "outputs": [],
   "source": [
    "import numpy as np"
   ]
  },
  {
   "cell_type": "code",
   "execution_count": 94,
   "id": "7cb5150c-e14b-484a-9b9a-16a2bb29238f",
   "metadata": {},
   "outputs": [
    {
     "name": "stdout",
     "output_type": "stream",
     "text": [
      "[[9 9]\n",
      " [9 9]\n",
      " [9 9]] <class 'numpy.ndarray'>\n"
     ]
    }
   ],
   "source": [
    "a = np.full((3,2),9,dtype=int)\n",
    "print(a,type(a))"
   ]
  },
  {
   "cell_type": "code",
   "execution_count": 95,
   "id": "9c9a756c-3cd0-41b3-8b37-8020eb1e9ab3",
   "metadata": {},
   "outputs": [
    {
     "name": "stdout",
     "output_type": "stream",
     "text": [
      "[[2 2 2 2]\n",
      " [2 2 2 2]\n",
      " [2 2 2 2]\n",
      " [2 2 2 2]] <class 'numpy.ndarray'>\n"
     ]
    }
   ],
   "source": [
    "a = np.full((4,4),2,dtype=int)\n",
    "print(a,type(a))"
   ]
  },
  {
   "cell_type": "code",
   "execution_count": 98,
   "id": "19987b85-44e4-4b95-adfc-87094243e4d2",
   "metadata": {},
   "outputs": [
    {
     "name": "stdout",
     "output_type": "stream",
     "text": [
      "[[5 5 5 5]\n",
      " [5 5 5 5]\n",
      " [5 5 5 5]\n",
      " [5 5 5 5]] <class 'numpy.ndarray'>\n"
     ]
    }
   ],
   "source": [
    "a = np.full((4,4),5,dtype=int)\n",
    "print(a,type(a))"
   ]
  },
  {
   "cell_type": "code",
   "execution_count": 99,
   "id": "a2746879-acd5-40db-863f-9ce2ac3e9913",
   "metadata": {},
   "outputs": [
    {
     "name": "stdout",
     "output_type": "stream",
     "text": [
      "[[ True  True]\n",
      " [ True  True]\n",
      " [ True  True]] <class 'numpy.ndarray'>\n"
     ]
    }
   ],
   "source": [
    "a = np.full((3,2),True)\n",
    "print(a,type(a))"
   ]
  },
  {
   "cell_type": "code",
   "execution_count": 100,
   "id": "368ed0a6-c16a-4505-87ec-428cfebd3e49",
   "metadata": {},
   "outputs": [
    {
     "name": "stdout",
     "output_type": "stream",
     "text": [
      "[['Vinay' 'Vinay' 'Vinay' 'Vinay']\n",
      " ['Vinay' 'Vinay' 'Vinay' 'Vinay']\n",
      " ['Vinay' 'Vinay' 'Vinay' 'Vinay']\n",
      " ['Vinay' 'Vinay' 'Vinay' 'Vinay']] <class 'numpy.ndarray'>\n"
     ]
    }
   ],
   "source": [
    "a = np.full((4,4),\"Vinay\")\n",
    "print(a,type(a))"
   ]
  },
  {
   "cell_type": "code",
   "execution_count": 101,
   "id": "30855b9f-1a21-4ad3-8c6d-f0285d9b78e7",
   "metadata": {},
   "outputs": [
    {
     "name": "stdout",
     "output_type": "stream",
     "text": [
      "[['Vinnu' 'Vinnu' 'Vinnu' 'Vinnu']\n",
      " ['Vinnu' 'Vinnu' 'Vinnu' 'Vinnu']\n",
      " ['Vinnu' 'Vinnu' 'Vinnu' 'Vinnu']\n",
      " ['Vinnu' 'Vinnu' 'Vinnu' 'Vinnu']] <class 'numpy.ndarray'>\n",
      "----------------------------\n",
      "Dimensional= 2\n",
      "Shape= (4, 4)\n",
      "Size= 16\n",
      "Internal datatype= <U5\n"
     ]
    }
   ],
   "source": [
    "a = np.full((4,4),\"Vinnu\")\n",
    "print(a,type(a))\n",
    "print(\"----------------------------\")\n",
    "print(\"Dimensional=\",a.ndim)\n",
    "print(\"Shape=\",a.shape)\n",
    "print(\"Size=\",a.size)\n",
    "print(\"Internal datatype=\",a.dtype)"
   ]
  },
  {
   "cell_type": "code",
   "execution_count": null,
   "id": "797281e6-223a-4575-9a54-057188bcc73b",
   "metadata": {},
   "outputs": [],
   "source": []
  },
  {
   "cell_type": "markdown",
   "id": "f4566d52-5374-4a3b-9300-000f5462da4e",
   "metadata": {},
   "source": [
    "# 9) v & h stack\n",
    "## In NumPy, vstack() and hstack() are used to stack arrays vertically or horizontally, respectively. They're super useful when you're combining arrays to build larger structures."
   ]
  },
  {
   "cell_type": "code",
   "execution_count": 102,
   "id": "28878abf-c7f7-48c4-8f03-d836f9813029",
   "metadata": {},
   "outputs": [],
   "source": [
    "import numpy as np"
   ]
  },
  {
   "cell_type": "code",
   "execution_count": 103,
   "id": "36d7456e-67b7-4c0d-82ea-29e2f49b8d1e",
   "metadata": {},
   "outputs": [
    {
     "name": "stdout",
     "output_type": "stream",
     "text": [
      "[[1 2]\n",
      " [3 4]]\n"
     ]
    }
   ],
   "source": [
    "a = np.array([1, 2])\n",
    "b = np.array([3, 4])\n",
    "result = np.vstack((a, b))\n",
    "print(result)"
   ]
  },
  {
   "cell_type": "code",
   "execution_count": 104,
   "id": "6d56df6b-b08a-416d-bfcc-8e2ce3dc3a04",
   "metadata": {},
   "outputs": [
    {
     "name": "stdout",
     "output_type": "stream",
     "text": [
      "[1 2 3 4]\n"
     ]
    }
   ],
   "source": [
    "a = np.array([1, 2])\n",
    "b = np.array([3, 4])\n",
    "result = np.hstack((a, b))\n",
    "print(result)"
   ]
  },
  {
   "cell_type": "code",
   "execution_count": 105,
   "id": "4f466bff-d8b1-45ca-bdb2-ddaa5fd05479",
   "metadata": {},
   "outputs": [
    {
     "name": "stdout",
     "output_type": "stream",
     "text": [
      "Vertical Stack:\n",
      " [[1 2]\n",
      " [3 4]\n",
      " [5 6]\n",
      " [7 8]]\n",
      "Horizontal Stack:\n",
      " [[1 2 5 6]\n",
      " [3 4 7 8]]\n"
     ]
    }
   ],
   "source": [
    "a = np.array([[1, 2], [3, 4]])\n",
    "b = np.array([[5, 6], [7, 8]])\n",
    "\n",
    "# Vertical stack: adds rows\n",
    "v_result = np.vstack((a, b))\n",
    "print(\"Vertical Stack:\\n\", v_result)\n",
    "\n",
    "# Horizontal stack: adds columns\n",
    "h_result = np.hstack((a, b))\n",
    "print(\"Horizontal Stack:\\n\", h_result)\n"
   ]
  },
  {
   "cell_type": "code",
   "execution_count": 106,
   "id": "22a6f2c5-e7e6-4ed6-9bfb-541c40605f34",
   "metadata": {},
   "outputs": [
    {
     "name": "stdout",
     "output_type": "stream",
     "text": [
      "Vertical Stack:\n",
      " [[ 1  2]\n",
      " [ 3  4]\n",
      " [11 22]\n",
      " [ 5  6]\n",
      " [ 7  8]\n",
      " [23 43]]\n",
      "--------------------------------\n",
      "Dimensional= 2\n",
      "Shape= (6, 2)\n",
      "Size= 12\n",
      "Internal datatype= int64\n",
      "--------------------------------\n",
      "Horizontal Stack:\n",
      " [[ 1  2  5  6]\n",
      " [ 3  4  7  8]\n",
      " [11 22 23 43]]\n",
      "--------------------------------\n",
      "Dimensional= 2\n",
      "Shape= (3, 4)\n",
      "Size= 12\n",
      "Internal datatype= int64\n"
     ]
    }
   ],
   "source": [
    "a = np.array([[1, 2], [3, 4], [11,22]])\n",
    "b = np.array([[5, 6], [7, 8],[23,43]])\n",
    "\n",
    "# Vertical stack: adds rows\n",
    "v_result = np.vstack((a, b))\n",
    "print(\"Vertical Stack:\\n\", v_result)\n",
    "print(\"--------------------------------\")\n",
    "print(\"Dimensional=\",v_result.ndim)\n",
    "print(\"Shape=\",v_result.shape)\n",
    "print(\"Size=\",v_result.size)\n",
    "print(\"Internal datatype=\",v_result.dtype)\n",
    "print(\"--------------------------------\")\n",
    "# Horizontal stack: adds columns\n",
    "h_result = np.hstack((a, b))\n",
    "print(\"Horizontal Stack:\\n\", h_result)\n",
    "print(\"--------------------------------\")\n",
    "print(\"Dimensional=\",h_result.ndim)\n",
    "print(\"Shape=\",h_result.shape)\n",
    "print(\"Size=\",h_result.size)\n",
    "print(\"Internal datatype=\",h_result.dtype)"
   ]
  },
  {
   "cell_type": "code",
   "execution_count": null,
   "id": "5099a8ed-1561-4cf7-ac2b-9f437b8fd5f9",
   "metadata": {},
   "outputs": [],
   "source": []
  },
  {
   "cell_type": "markdown",
   "id": "24a63cec-7531-4cdf-bf1d-b44f8dd3071e",
   "metadata": {},
   "source": [
    "# Random numbers generating in numpy"
   ]
  },
  {
   "cell_type": "markdown",
   "id": "7a89f844-89d6-4900-997e-0ace572d1d14",
   "metadata": {},
   "source": [
    "# numpy.random\n",
    "## 1) randint()\n",
    "## 2) randn()\n",
    "## 3) normal()\n",
    "## 4) rand()\n",
    "## 5) uniform()\n",
    "## 6) shuffle()¶"
   ]
  },
  {
   "cell_type": "markdown",
   "id": "3ebccc4c-5f56-4816-a331-a850655b38fe",
   "metadata": {},
   "source": [
    "## a) randint():-\n",
    "### It will generate random integer value between the specified values range.\n",
    "### syntax: randint(low, high=none,size=none,dtype=int)\n",
    "## Note: It Will Generate only one int value"
   ]
  },
  {
   "cell_type": "code",
   "execution_count": 111,
   "id": "d176840d-c4f0-4608-bfff-feecb54cb301",
   "metadata": {},
   "outputs": [],
   "source": [
    "import numpy as np"
   ]
  },
  {
   "cell_type": "code",
   "execution_count": 112,
   "id": "069e6278-4c80-4040-b61c-7544b9823551",
   "metadata": {},
   "outputs": [
    {
     "name": "stdout",
     "output_type": "stream",
     "text": [
      "6 <class 'int'> 140725240181832\n"
     ]
    }
   ],
   "source": [
    "a = np.random.randint(10)\n",
    "print(a,type(a),id(a))"
   ]
  },
  {
   "cell_type": "code",
   "execution_count": 113,
   "id": "78d30adb-3232-4495-a3c3-20e4771d5c20",
   "metadata": {},
   "outputs": [
    {
     "name": "stdout",
     "output_type": "stream",
     "text": [
      "0 <class 'int'> 140725240181640\n"
     ]
    }
   ],
   "source": [
    "a = np.random.randint(10)\n",
    "print(a,type(a),id(a))"
   ]
  },
  {
   "cell_type": "code",
   "execution_count": 114,
   "id": "a86a68bc-12a2-40ed-8bd4-d2ad9554aa62",
   "metadata": {},
   "outputs": [
    {
     "name": "stdout",
     "output_type": "stream",
     "text": [
      "1 <class 'int'> 140725240181672\n"
     ]
    }
   ],
   "source": [
    "a = np.random.randint(10)\n",
    "print(a,type(a),id(a))"
   ]
  },
  {
   "cell_type": "code",
   "execution_count": 115,
   "id": "5bc23db7-e536-4bb4-9fec-5efcf61ec532",
   "metadata": {},
   "outputs": [
    {
     "name": "stdout",
     "output_type": "stream",
     "text": [
      "3 <class 'int'> 140725240181736\n"
     ]
    }
   ],
   "source": [
    "a = np.random.randint(10)\n",
    "print(a,type(a),id(a))"
   ]
  },
  {
   "cell_type": "code",
   "execution_count": 117,
   "id": "29406382-3fc2-4ce6-a1ca-234b9b768009",
   "metadata": {},
   "outputs": [
    {
     "name": "stdout",
     "output_type": "stream",
     "text": [
      "31\n"
     ]
    }
   ],
   "source": [
    "print(np.random.randint(10,100))"
   ]
  },
  {
   "cell_type": "code",
   "execution_count": 118,
   "id": "f01efe9f-3cce-46f0-b335-83b29927f830",
   "metadata": {},
   "outputs": [
    {
     "name": "stdout",
     "output_type": "stream",
     "text": [
      "23\n"
     ]
    }
   ],
   "source": [
    "print(np.random.randint(10,100))"
   ]
  },
  {
   "cell_type": "code",
   "execution_count": 119,
   "id": "aae7898a-af9e-403c-8ea6-084863541acd",
   "metadata": {},
   "outputs": [
    {
     "name": "stdout",
     "output_type": "stream",
     "text": [
      "192\n"
     ]
    }
   ],
   "source": [
    "print(np.random.randint(100,200))"
   ]
  },
  {
   "cell_type": "code",
   "execution_count": 120,
   "id": "3ebeca44-5ce7-45be-9a2e-7fd6d27d1399",
   "metadata": {},
   "outputs": [
    {
     "name": "stdout",
     "output_type": "stream",
     "text": [
      "4451\n"
     ]
    }
   ],
   "source": [
    "print(np.random.randint(1000,9999))"
   ]
  },
  {
   "cell_type": "code",
   "execution_count": 121,
   "id": "535e5a6d-b0f3-41bd-a407-6342ceba7b5c",
   "metadata": {},
   "outputs": [
    {
     "name": "stdout",
     "output_type": "stream",
     "text": [
      "4675\n"
     ]
    }
   ],
   "source": [
    "print(np.random.randint(1000,9999))"
   ]
  },
  {
   "cell_type": "code",
   "execution_count": 122,
   "id": "b87a807b-b580-424c-b34c-2a4bf46c29f9",
   "metadata": {},
   "outputs": [
    {
     "name": "stdout",
     "output_type": "stream",
     "text": [
      "1700\n"
     ]
    }
   ],
   "source": [
    "print(np.random.randint(1000,9999))"
   ]
  },
  {
   "cell_type": "code",
   "execution_count": 123,
   "id": "2309f8c7-6cfd-477c-a7c8-66b9bde9f355",
   "metadata": {},
   "outputs": [
    {
     "name": "stdout",
     "output_type": "stream",
     "text": [
      "[14 17 12 17 12] <class 'numpy.ndarray'> 1797948750704\n"
     ]
    }
   ],
   "source": [
    "a = np.random.randint(10,20,size=5)\n",
    "print(a,type(a),id(a))"
   ]
  },
  {
   "cell_type": "code",
   "execution_count": 124,
   "id": "40e82e74-0bd3-4886-8e6e-59967475b89c",
   "metadata": {},
   "outputs": [
    {
     "name": "stdout",
     "output_type": "stream",
     "text": [
      "[28 16 28 20 10] <class 'numpy.ndarray'> 1797949162768\n"
     ]
    }
   ],
   "source": [
    "a = np.random.randint(10,30,size=5)\n",
    "print(a,type(a),id(a))"
   ]
  },
  {
   "cell_type": "code",
   "execution_count": 126,
   "id": "9ad1e438-ae67-47cd-b201-66928f5499b4",
   "metadata": {},
   "outputs": [
    {
     "name": "stdout",
     "output_type": "stream",
     "text": [
      "[[29 24 21 26 24 10 29 26 29 11 21 13 15 22 21 18 26 26 25 26]\n",
      " [24 14 10 21 23 27 24 16 20 16 12 28 12 12 25 26 12 21 25 17]\n",
      " [29 10 10 21 20 27 27 23 20 17 22 19 29 10 28 28 26 10 17 17]\n",
      " [25 26 20 18 19 11 11 22 20 13 12 25 19 28 17 13 20 27 13 24]\n",
      " [18 29 12 18 20 19 18 28 15 28 22 21 22 20 20 28 22 19 17 18]\n",
      " [19 23 28 25 23 17 29 22 28 24 17 11 13 26 18 21 24 23 27 10]\n",
      " [10 25 27 14 22 11 23 28 20 26 16 24 26 13 27 24 10 24 14 20]\n",
      " [21 25 18 17 13 13 12 13 13 28 12 16 15 20 29 12 19 27 10 15]\n",
      " [28 25 11 19 16 22 10 10 27 11 26 18 13 17 15 11 21 11 19 16]\n",
      " [16 25 15 26 29 24 15 19 17 19 18 15 15 16 22 28 25 21 18 14]] <class 'numpy.ndarray'> 1797949163632\n"
     ]
    }
   ],
   "source": [
    "a = np.random.randint(10,30,size=(10,20))\n",
    "print(a,type(a),id(a))"
   ]
  },
  {
   "cell_type": "code",
   "execution_count": 127,
   "id": "05494b58-b963-4688-8ed5-e6579fb19c02",
   "metadata": {},
   "outputs": [
    {
     "name": "stdout",
     "output_type": "stream",
     "text": [
      "[10 11 48 31 39] <class 'numpy.ndarray'>\n",
      "-----------------------------------------------------\n",
      "Dimensional= 1\n",
      "Shape= (5,)\n",
      "Size= 5\n",
      "Internal datatype= int8\n"
     ]
    }
   ],
   "source": [
    "a = np.random.randint(10,50,size=(5),dtype=\"int8\")\n",
    "print(a,type(a))\n",
    "print(\"-----------------------------------------------------\")\n",
    "print(\"Dimensional=\",a.ndim)\n",
    "print(\"Shape=\",a.shape)\n",
    "print(\"Size=\",a.size)\n",
    "print(\"Internal datatype=\",a.dtype)"
   ]
  },
  {
   "cell_type": "code",
   "execution_count": 128,
   "id": "4386a75d-e26b-4cbf-ae24-8313cb3ffc72",
   "metadata": {},
   "outputs": [
    {
     "name": "stdout",
     "output_type": "stream",
     "text": [
      "[[17 43 10 49 38 33 32 26 13 42]\n",
      " [33 47 36 16 30 18 41 15 43 21]\n",
      " [20 14 10 44 24 19 27 14 20 24]\n",
      " [15 21 48 47 39 42 42 33 24 37]\n",
      " [29 20 12 20 19 31 19 20 12 18]] <class 'numpy.ndarray'>\n",
      "-----------------------------------------------------\n",
      "Dimensional= 2\n",
      "Shape= (5, 10)\n",
      "Size= 50\n",
      "Internal datatype= int8\n"
     ]
    }
   ],
   "source": [
    "a = np.random.randint(10,50,size=(5,10),dtype=\"int8\")\n",
    "print(a,type(a))\n",
    "print(\"-----------------------------------------------------\")\n",
    "print(\"Dimensional=\",a.ndim)\n",
    "print(\"Shape=\",a.shape)\n",
    "print(\"Size=\",a.size)\n",
    "print(\"Internal datatype=\",a.dtype)"
   ]
  },
  {
   "cell_type": "code",
   "execution_count": 129,
   "id": "b5bc05e8-9a29-43c3-88f9-a6b0e3eb3464",
   "metadata": {},
   "outputs": [
    {
     "name": "stdout",
     "output_type": "stream",
     "text": [
      "[29 15 12 10 47] <class 'numpy.ndarray'>\n",
      "-----------------------------------------------------\n",
      "Dimensional= 1\n",
      "Shape= (5,)\n",
      "Size= 5\n",
      "Internal datatype= float64\n"
     ]
    }
   ],
   "source": [
    "a = np.random.randint(10,50,size=(5),dtype=\"int8\")\n",
    "print(a,type(a))\n",
    "print(\"-----------------------------------------------------\")\n",
    "b = a.astype(\"float\")\n",
    "print(\"Dimensional=\",b.ndim)\n",
    "print(\"Shape=\",b.shape)\n",
    "print(\"Size=\",b.size)\n",
    "print(\"Internal datatype=\",b.dtype)"
   ]
  },
  {
   "cell_type": "markdown",
   "id": "1f6f67ad-b4c3-404c-a0ff-c46107364470",
   "metadata": {},
   "source": [
    "# 2) rand()\n",
    "## It will generate random integer value between 0.0 to 1.0 and it is also know as \"uniform distribution\".\n",
    "### syntax: rand(d0,d1,.......,dn)"
   ]
  },
  {
   "cell_type": "code",
   "execution_count": 130,
   "id": "cdc8e48c-a47c-4e3f-ab61-57ebd763c8e5",
   "metadata": {},
   "outputs": [],
   "source": [
    "import numpy as np"
   ]
  },
  {
   "cell_type": "code",
   "execution_count": 131,
   "id": "59fad2a3-fe5a-404d-ab35-59b8a98e4d69",
   "metadata": {},
   "outputs": [
    {
     "name": "stdout",
     "output_type": "stream",
     "text": [
      "0.31488043545391253 <class 'float'>\n"
     ]
    }
   ],
   "source": [
    "a = np.random.rand()\n",
    "print(a,type(a))"
   ]
  },
  {
   "cell_type": "code",
   "execution_count": 132,
   "id": "30a41f14-c825-43be-a42a-78647ad9737c",
   "metadata": {},
   "outputs": [
    {
     "name": "stdout",
     "output_type": "stream",
     "text": [
      "[0.40762105 0.45401012 0.40110247 0.91949504] <class 'numpy.ndarray'>\n"
     ]
    }
   ],
   "source": [
    "a = np.random.rand(4) # 4 is the random uniform distribution\n",
    "print(a,type(a))"
   ]
  },
  {
   "cell_type": "code",
   "execution_count": 133,
   "id": "a8ef5748-e748-4a43-a4cb-3d72a1e0c15b",
   "metadata": {},
   "outputs": [
    {
     "name": "stdout",
     "output_type": "stream",
     "text": [
      "[0.43850434 0.39174633 0.14800597 0.55127305 0.35644991] <class 'numpy.ndarray'>\n"
     ]
    }
   ],
   "source": [
    "a = np.random.rand(5) # 5 is the random uniform distribution\n",
    "print(a,type(a))"
   ]
  },
  {
   "cell_type": "code",
   "execution_count": 135,
   "id": "d2d184c6-ab88-4607-ba9d-707ce8f5648a",
   "metadata": {},
   "outputs": [
    {
     "name": "stdout",
     "output_type": "stream",
     "text": [
      "[[0.12795673 0.74653108 0.78787381 0.43152681 0.20648928]\n",
      " [0.27043929 0.78984894 0.0893767  0.71339985 0.43714489]\n",
      " [0.58879721 0.36811305 0.98646215 0.59135913 0.18454187]\n",
      " [0.65013378 0.48343843 0.22510563 0.19310561 0.88567948]\n",
      " [0.13125036 0.92553813 0.58325193 0.48807399 0.36789159]] <class 'numpy.ndarray'>\n",
      "----------------------------------\n",
      "Dimensional= 2\n",
      "Shape= (5, 5)\n",
      "Size= 25\n",
      "Internal datatype= float64\n"
     ]
    }
   ],
   "source": [
    "a = np.random.rand(5,5)\n",
    "print(a,type(a))\n",
    "print(\"----------------------------------\")\n",
    "print(\"Dimensional=\",a.ndim)\n",
    "print(\"Shape=\",a.shape)\n",
    "print(\"Size=\",a.size)\n",
    "print(\"Internal datatype=\",a.dtype)"
   ]
  },
  {
   "cell_type": "code",
   "execution_count": 136,
   "id": "883eddf9-51ad-435a-bb2a-d4dbeecbab82",
   "metadata": {},
   "outputs": [
    {
     "name": "stdout",
     "output_type": "stream",
     "text": [
      "[[0.58793097 0.22488749 0.68766944 0.93485675 0.89855647]\n",
      " [0.55125953 0.80604469 0.60204724 0.2565868  0.87827219]\n",
      " [0.44585331 0.09533665 0.11420634 0.15686708 0.09061469]] <class 'numpy.ndarray'>\n",
      "----------------------------------\n",
      "Dimensional= 2\n",
      "Shape= (3, 5)\n",
      "Size= 15\n",
      "Internal datatype= float64\n"
     ]
    }
   ],
   "source": [
    "a = np.random.rand(3,5) \n",
    "print(a,type(a))\n",
    "print(\"----------------------------------\")\n",
    "print(\"Dimensional=\",a.ndim)\n",
    "print(\"Shape=\",a.shape)\n",
    "print(\"Size=\",a.size)\n",
    "print(\"Internal datatype=\",a.dtype)"
   ]
  },
  {
   "cell_type": "markdown",
   "id": "3858bb1c-9409-46ac-9c17-37cde7120443",
   "metadata": {},
   "source": [
    "# 3) randn()\n",
    "## It will generate random integer values between 0.0 and 1.0,it is also know as \"uniform distribution\".\n",
    "## syntax: rand(d0,d1,.......,dn)"
   ]
  },
  {
   "cell_type": "code",
   "execution_count": 138,
   "id": "3e0eea1b-9776-40bd-b7d6-325d3b8fffd0",
   "metadata": {},
   "outputs": [],
   "source": [
    "import numpy as np"
   ]
  },
  {
   "cell_type": "code",
   "execution_count": 139,
   "id": "dd845f7d-2080-44ab-b4f4-56d7b7c3262a",
   "metadata": {},
   "outputs": [
    {
     "name": "stdout",
     "output_type": "stream",
     "text": [
      "-0.43260500596267143 <class 'float'>\n"
     ]
    }
   ],
   "source": [
    "a = np.random.randn()\n",
    "print(a,type(a))"
   ]
  },
  {
   "cell_type": "code",
   "execution_count": 140,
   "id": "79acaac5-1a4c-4f4a-b2f8-268b912d4d71",
   "metadata": {},
   "outputs": [
    {
     "name": "stdout",
     "output_type": "stream",
     "text": [
      "-1.4249476571858375 <class 'float'>\n"
     ]
    }
   ],
   "source": [
    "a = np.random.randn()\n",
    "print(a,type(a))"
   ]
  },
  {
   "cell_type": "code",
   "execution_count": 141,
   "id": "b5cd7497-2c82-48bd-929c-9aed505fb2e7",
   "metadata": {},
   "outputs": [
    {
     "name": "stdout",
     "output_type": "stream",
     "text": [
      "[[-0.253183   -0.41437242]\n",
      " [ 1.04565726 -0.78711078]] <class 'numpy.ndarray'>\n"
     ]
    }
   ],
   "source": [
    "a = np.random.randn(2,2)\n",
    "print(a,type(a))"
   ]
  },
  {
   "cell_type": "code",
   "execution_count": 142,
   "id": "1d776c33-0e15-404c-b07e-235277640d3d",
   "metadata": {},
   "outputs": [
    {
     "name": "stdout",
     "output_type": "stream",
     "text": [
      "[[ 0.72606499  0.77627434  1.25898873]\n",
      " [-0.26565962 -0.50958882 -0.66969701]\n",
      " [ 0.70974785 -0.94278795 -0.09391978]] <class 'numpy.ndarray'>\n"
     ]
    }
   ],
   "source": [
    "a = np.random.randn(3,3)\n",
    "print(a,type(a))"
   ]
  },
  {
   "cell_type": "markdown",
   "id": "530d680c-1b0e-43ff-be40-50bf487c2811",
   "metadata": {},
   "source": [
    "# 4) uniform()\n",
    "## It will generate random integer value between users choice start and stop, uniform distribution.\n",
    "## syntax: varname = np.uniform(10,80)"
   ]
  },
  {
   "cell_type": "code",
   "execution_count": 143,
   "id": "6c0f9fe2-feb0-480d-aaf2-1f3382e477d4",
   "metadata": {},
   "outputs": [
    {
     "name": "stdout",
     "output_type": "stream",
     "text": [
      "24.287203022146528\n"
     ]
    }
   ],
   "source": [
    "a = np.random.uniform(20,60)\n",
    "print(a)"
   ]
  },
  {
   "cell_type": "code",
   "execution_count": 144,
   "id": "e52481f7-1736-45ca-81cb-d1d17a5d133d",
   "metadata": {},
   "outputs": [
    {
     "name": "stdout",
     "output_type": "stream",
     "text": [
      "33.11811291279217\n"
     ]
    }
   ],
   "source": [
    "a = np.random.uniform(20,40)\n",
    "print(a)"
   ]
  },
  {
   "cell_type": "code",
   "execution_count": 145,
   "id": "392d08ed-acc2-499c-a3e3-fc1e0726c4ec",
   "metadata": {},
   "outputs": [
    {
     "name": "stdout",
     "output_type": "stream",
     "text": [
      "[28.22777192 56.64955723 24.66690691 20.64397913 32.63068335 38.38751778\n",
      " 40.77445872 34.63633057 20.14698909 52.64990648]\n"
     ]
    }
   ],
   "source": [
    "a = np.random.uniform(20,60,size=10)\n",
    "print(a)"
   ]
  },
  {
   "cell_type": "code",
   "execution_count": 146,
   "id": "8e147e3e-6c35-4831-88ff-338b286f960a",
   "metadata": {},
   "outputs": [
    {
     "name": "stdout",
     "output_type": "stream",
     "text": [
      "[[24.1046908  53.03135588 48.67324344]\n",
      " [24.2413403  57.53888896 31.49311009]\n",
      " [47.37293453 31.66356184 39.28392815]]\n"
     ]
    }
   ],
   "source": [
    "a = np.random.uniform(20,60,size=(3,3))\n",
    "print(a)"
   ]
  },
  {
   "cell_type": "code",
   "execution_count": 147,
   "id": "7ede77a4-987e-44a6-b814-ce559f15a662",
   "metadata": {},
   "outputs": [
    {
     "name": "stdout",
     "output_type": "stream",
     "text": [
      "[[32.96084079 52.9287492  52.17139105 52.53567651 24.38621201]\n",
      " [40.41906796 43.69222587 45.46625114 27.46540893 58.12385183]\n",
      " [55.31045345 54.62996717 52.241955   38.2570698  47.34152894]\n",
      " [37.86620969 45.08775784 27.45721775 52.97587331 36.13949983]\n",
      " [51.00847819 51.87154208 51.75140903 57.67810277 20.15917613]]\n"
     ]
    }
   ],
   "source": [
    "a = np.random.uniform(20,60,size=(5,5))\n",
    "print(a)"
   ]
  },
  {
   "cell_type": "code",
   "execution_count": 148,
   "id": "63df44c5-b28a-4c01-ab6c-62f81f81a301",
   "metadata": {},
   "outputs": [
    {
     "name": "stdout",
     "output_type": "stream",
     "text": [
      "[[[[52.53816091 34.62098141 20.03971244]\n",
      "   [56.82220052 25.83997929 50.84822772]\n",
      "   [33.91292632 42.68151798 37.01583136]]\n",
      "\n",
      "  [[27.8095972  31.09674072 29.25608736]\n",
      "   [27.35125689 28.42833168 29.14869127]\n",
      "   [21.9963722  49.4703748  38.75863466]]\n",
      "\n",
      "  [[52.62293326 49.69338615 26.46107212]\n",
      "   [53.1285505  34.98525433 36.07920744]\n",
      "   [43.73791459 47.40006157 45.75165487]]]\n",
      "\n",
      "\n",
      " [[[25.15775373 20.33033206 52.25619209]\n",
      "   [35.32450814 43.66163978 23.87148165]\n",
      "   [49.46145474 38.3026353  44.85558095]]\n",
      "\n",
      "  [[36.00267765 26.0077831  21.41094326]\n",
      "   [30.51975114 24.4316885  51.89395634]\n",
      "   [34.12215585 42.99830398 50.09855601]]\n",
      "\n",
      "  [[41.01792656 24.73776305 56.92412149]\n",
      "   [33.02032785 32.38953272 55.11711543]\n",
      "   [39.63893958 31.78329247 49.90651745]]]]\n"
     ]
    }
   ],
   "source": [
    "a = np.random.uniform(20,60,size=(2,3,3,3))\n",
    "print(a)"
   ]
  },
  {
   "cell_type": "markdown",
   "id": "f26fa5e8-c98e-4a8a-9344-1372a07346b3",
   "metadata": {},
   "source": [
    "# 5) normal()\n",
    "## syntax: varname = np.noraml(loc=0,scale=1.0,size=None) # Here loc is mean and scale is standard deviation"
   ]
  },
  {
   "cell_type": "code",
   "execution_count": 149,
   "id": "182166c7-6b8b-466f-8d9a-2a5e91193739",
   "metadata": {},
   "outputs": [
    {
     "name": "stdout",
     "output_type": "stream",
     "text": [
      "0.8052763108291853 <class 'float'>\n"
     ]
    }
   ],
   "source": [
    "a = np.random.normal()\n",
    "print(a,type(a))"
   ]
  },
  {
   "cell_type": "code",
   "execution_count": 150,
   "id": "1b25347d-050c-46d6-8d51-69d4e0f8a287",
   "metadata": {},
   "outputs": [
    {
     "name": "stdout",
     "output_type": "stream",
     "text": [
      "14.325162150986698 <class 'float'>\n"
     ]
    }
   ],
   "source": [
    "a = np.random.normal(10,3)\n",
    "print(a,type(a))"
   ]
  },
  {
   "cell_type": "code",
   "execution_count": 151,
   "id": "2bddfe51-2e7d-42fa-b146-d3d8fbcb7b87",
   "metadata": {},
   "outputs": [
    {
     "name": "stdout",
     "output_type": "stream",
     "text": [
      "[[12.73235113  7.85044903  9.8446124  10.44732278 12.54060505]\n",
      " [15.70293529 13.67440301  8.95388486  6.39027288  4.92496127]\n",
      " [12.59632896 11.90154847 10.35205605  7.13536342  8.66367703]\n",
      " [11.78527133 11.43041539  9.3412316   6.8127546   9.17876639]\n",
      " [15.1670883  14.03216001  7.51019825 11.25280718 12.49496254]] <class 'numpy.ndarray'>\n"
     ]
    }
   ],
   "source": [
    "a = np.random.normal(10,3,size=(5,5))\n",
    "print(a,type(a))"
   ]
  },
  {
   "cell_type": "code",
   "execution_count": null,
   "id": "660f008f-fcc8-4a2c-a753-902096e455e0",
   "metadata": {},
   "outputs": [],
   "source": []
  },
  {
   "cell_type": "markdown",
   "id": "2a30b7d9-cbb0-4fc3-9aad-bb6d45e866e4",
   "metadata": {},
   "source": [
    "# 6) shuffle()\n",
    "## syntax: varname = numpy.random.shuffle(x)"
   ]
  },
  {
   "cell_type": "code",
   "execution_count": 153,
   "id": "6947f5d3-2cb4-4db0-965e-2313f1a6f517",
   "metadata": {},
   "outputs": [
    {
     "name": "stdout",
     "output_type": "stream",
     "text": [
      "-------------------------\n",
      "Shuffled value= [20 50 10 30 40]\n"
     ]
    }
   ],
   "source": [
    "a1 = np.array([10,20,30,40,50])\n",
    "np.random.shuffle(a1)\n",
    "print(\"-------------------------\")\n",
    "print(\"Shuffled value=\",a1)"
   ]
  },
  {
   "cell_type": "code",
   "execution_count": 154,
   "id": "67456ac4-fb18-4622-96b6-f503ff0c760e",
   "metadata": {},
   "outputs": [
    {
     "name": "stdout",
     "output_type": "stream",
     "text": [
      "None <class 'NoneType'>\n",
      "-------------------------\n",
      "Shuffled value= [10 20 40 30 50]\n"
     ]
    }
   ],
   "source": [
    "a1 = np.array([10,20,30,40,50])\n",
    "a=np.random.shuffle(a1)\n",
    "print(a,type(a))\n",
    "print(\"-------------------------\")\n",
    "print(\"Shuffled value=\",a1)"
   ]
  },
  {
   "cell_type": "code",
   "execution_count": null,
   "id": "007b3036-7b90-4456-b1fc-478626c07b49",
   "metadata": {},
   "outputs": [],
   "source": []
  }
 ],
 "metadata": {
  "kernelspec": {
   "display_name": "Python 3 (ipykernel)",
   "language": "python",
   "name": "python3"
  },
  "language_info": {
   "codemirror_mode": {
    "name": "ipython",
    "version": 3
   },
   "file_extension": ".py",
   "mimetype": "text/x-python",
   "name": "python",
   "nbconvert_exporter": "python",
   "pygments_lexer": "ipython3",
   "version": "3.13.5"
  }
 },
 "nbformat": 4,
 "nbformat_minor": 5
}
