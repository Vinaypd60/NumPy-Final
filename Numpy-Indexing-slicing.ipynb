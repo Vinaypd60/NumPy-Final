{
 "cells": [
  {
   "cell_type": "markdown",
   "id": "ad5fe39b-1579-4237-a359-36375122a85b",
   "metadata": {},
   "source": [
    "# NumPy Indexing\n",
    "## Indexing is the process of obtaining single value from given iterable object.(Contains multiple values)\n",
    "## The values of iterable object contains positive indices 0,1,2,......,len-1) and negative indices.\n",
    "## Now, an object if ndarray is also one of the iterable object.\n",
    "## The element of ndarray contains +ve and -ve index.\n",
    "## In numpy program, we can apply indexing operation on 3-types of array. They are\n",
    "### 1) 1-D array\n",
    "### 2) 2-D array\n",
    "### 3) 3-D array"
   ]
  },
  {
   "cell_type": "code",
   "execution_count": null,
   "id": "ae0b0df1-cc64-4029-bc5a-c4b3759bbc29",
   "metadata": {},
   "outputs": [],
   "source": []
  },
  {
   "cell_type": "markdown",
   "id": "21042b08-29ad-48c9-a8a7-ffeeb2c048c7",
   "metadata": {},
   "source": [
    "# 1-D Indexing"
   ]
  },
  {
   "cell_type": "markdown",
   "id": "29df5da9-ed96-412a-9d1b-e11bbe8fcc38",
   "metadata": {},
   "source": [
    "## syntax: 1 ndarray[index]\n",
    "### Here 1 ndarray is an object of class\n",
    "### Index can be +ve or =ve"
   ]
  },
  {
   "cell_type": "code",
   "execution_count": 2,
   "id": "0101042a-7069-46bb-bde7-93016af6370f",
   "metadata": {},
   "outputs": [],
   "source": [
    "import numpy as np"
   ]
  },
  {
   "cell_type": "code",
   "execution_count": 3,
   "id": "c06a6c2c-f615-416d-a25e-ba215595e80b",
   "metadata": {},
   "outputs": [
    {
     "name": "stdout",
     "output_type": "stream",
     "text": [
      "[10 20 30 40 50]\n"
     ]
    }
   ],
   "source": [
    "a = np.array([10,20,30,40,50])\n",
    "print(a)"
   ]
  },
  {
   "cell_type": "code",
   "execution_count": 4,
   "id": "9adf2fee-877c-4dbb-837f-5df26b895cc6",
   "metadata": {},
   "outputs": [
    {
     "data": {
      "text/plain": [
       "np.int64(10)"
      ]
     },
     "execution_count": 4,
     "metadata": {},
     "output_type": "execute_result"
    }
   ],
   "source": [
    "a[0]"
   ]
  },
  {
   "cell_type": "code",
   "execution_count": 5,
   "id": "d6708b31-c39f-4914-83ba-3e0193acdb83",
   "metadata": {},
   "outputs": [
    {
     "data": {
      "text/plain": [
       "np.int64(20)"
      ]
     },
     "execution_count": 5,
     "metadata": {},
     "output_type": "execute_result"
    }
   ],
   "source": [
    "a[1]"
   ]
  },
  {
   "cell_type": "code",
   "execution_count": 6,
   "id": "70911790-4938-4670-9acd-60e1ab335fc9",
   "metadata": {},
   "outputs": [
    {
     "data": {
      "text/plain": [
       "np.int64(50)"
      ]
     },
     "execution_count": 6,
     "metadata": {},
     "output_type": "execute_result"
    }
   ],
   "source": [
    "a[4]"
   ]
  },
  {
   "cell_type": "code",
   "execution_count": null,
   "id": "366a0453-6121-43b1-b5b0-fcda9f4ea320",
   "metadata": {},
   "outputs": [],
   "source": []
  },
  {
   "cell_type": "code",
   "execution_count": 7,
   "id": "38572023-ab4d-4f1e-b403-372fb29101b6",
   "metadata": {},
   "outputs": [
    {
     "name": "stdout",
     "output_type": "stream",
     "text": [
      "[30 40 50 60 70 80 90] <class 'numpy.ndarray'>\n"
     ]
    }
   ],
   "source": [
    "b = np.array([30,40,50,60,70,80,90])\n",
    "print(b,type(b))"
   ]
  },
  {
   "cell_type": "code",
   "execution_count": 8,
   "id": "23bd6357-aab6-4e4c-9ac4-592aa5458de2",
   "metadata": {},
   "outputs": [
    {
     "data": {
      "text/plain": [
       "np.int64(60)"
      ]
     },
     "execution_count": 8,
     "metadata": {},
     "output_type": "execute_result"
    }
   ],
   "source": [
    "b[3]"
   ]
  },
  {
   "cell_type": "code",
   "execution_count": 9,
   "id": "11833cff-8ee1-4ae1-a7e6-af1d373bca44",
   "metadata": {},
   "outputs": [
    {
     "data": {
      "text/plain": [
       "np.int64(90)"
      ]
     },
     "execution_count": 9,
     "metadata": {},
     "output_type": "execute_result"
    }
   ],
   "source": [
    "b[6]"
   ]
  },
  {
   "cell_type": "code",
   "execution_count": 10,
   "id": "4097091d-9014-47a7-96c3-a65144a4186b",
   "metadata": {},
   "outputs": [
    {
     "data": {
      "text/plain": [
       "np.int64(70)"
      ]
     },
     "execution_count": 10,
     "metadata": {},
     "output_type": "execute_result"
    }
   ],
   "source": [
    "b[4]"
   ]
  },
  {
   "cell_type": "code",
   "execution_count": 11,
   "id": "47532ebb-6bf3-444b-89d8-584574a03fa7",
   "metadata": {},
   "outputs": [
    {
     "data": {
      "text/plain": [
       "np.int64(50)"
      ]
     },
     "execution_count": 11,
     "metadata": {},
     "output_type": "execute_result"
    }
   ],
   "source": [
    "b[2]"
   ]
  },
  {
   "cell_type": "code",
   "execution_count": 12,
   "id": "42931e7f-a485-45d9-aec1-91e9a74c5615",
   "metadata": {},
   "outputs": [
    {
     "data": {
      "text/plain": [
       "np.int64(40)"
      ]
     },
     "execution_count": 12,
     "metadata": {},
     "output_type": "execute_result"
    }
   ],
   "source": [
    "b[1]"
   ]
  },
  {
   "cell_type": "code",
   "execution_count": null,
   "id": "9e4c9eb9-2abc-4e8e-90dc-53b0c0c11eb5",
   "metadata": {},
   "outputs": [],
   "source": []
  },
  {
   "cell_type": "markdown",
   "id": "74512942-7e49-4534-a480-ed882d3e0ca0",
   "metadata": {},
   "source": [
    "# 2-D Indexing"
   ]
  },
  {
   "cell_type": "code",
   "execution_count": 13,
   "id": "746eaf8c-a03b-4c0b-9939-e854da9b7109",
   "metadata": {},
   "outputs": [
    {
     "name": "stdout",
     "output_type": "stream",
     "text": [
      "[[ 0  1  2  3]\n",
      " [ 4  5  6  7]\n",
      " [ 8  9 10 11]\n",
      " [12 13 14 15]] <class 'numpy.ndarray'>\n"
     ]
    }
   ],
   "source": [
    "a = np.arange(16).reshape(4,4)\n",
    "print(a,type(a))"
   ]
  },
  {
   "cell_type": "code",
   "execution_count": 14,
   "id": "537da4d2-e7a7-4b02-891d-ee8613f96d31",
   "metadata": {},
   "outputs": [
    {
     "data": {
      "text/plain": [
       "array([ 8,  9, 10, 11])"
      ]
     },
     "execution_count": 14,
     "metadata": {},
     "output_type": "execute_result"
    }
   ],
   "source": [
    "a[2]"
   ]
  },
  {
   "cell_type": "code",
   "execution_count": 15,
   "id": "d5101659-8a09-4248-8655-d612bd34c9e8",
   "metadata": {},
   "outputs": [
    {
     "data": {
      "text/plain": [
       "array([12, 13, 14, 15])"
      ]
     },
     "execution_count": 15,
     "metadata": {},
     "output_type": "execute_result"
    }
   ],
   "source": [
    "a[3]"
   ]
  },
  {
   "cell_type": "code",
   "execution_count": 16,
   "id": "82aa91c9-5e87-4cb8-bbca-48cde244bacb",
   "metadata": {},
   "outputs": [
    {
     "data": {
      "text/plain": [
       "array([4, 5, 6, 7])"
      ]
     },
     "execution_count": 16,
     "metadata": {},
     "output_type": "execute_result"
    }
   ],
   "source": [
    "a[1]"
   ]
  },
  {
   "cell_type": "code",
   "execution_count": 17,
   "id": "3cc954ff-efc1-4a2a-b4a5-3b0f50dca1f1",
   "metadata": {},
   "outputs": [
    {
     "data": {
      "text/plain": [
       "array([0, 1, 2, 3])"
      ]
     },
     "execution_count": 17,
     "metadata": {},
     "output_type": "execute_result"
    }
   ],
   "source": [
    "a[0]"
   ]
  },
  {
   "cell_type": "code",
   "execution_count": 18,
   "id": "2d51d1fc-a9ce-433c-b390-421839110b57",
   "metadata": {},
   "outputs": [
    {
     "data": {
      "text/plain": [
       "np.int64(9)"
      ]
     },
     "execution_count": 18,
     "metadata": {},
     "output_type": "execute_result"
    }
   ],
   "source": [
    "a[2,1]"
   ]
  },
  {
   "cell_type": "code",
   "execution_count": 19,
   "id": "ce23feb2-d2f3-4549-9f51-9b000ed005ba",
   "metadata": {},
   "outputs": [
    {
     "data": {
      "text/plain": [
       "np.int64(7)"
      ]
     },
     "execution_count": 19,
     "metadata": {},
     "output_type": "execute_result"
    }
   ],
   "source": [
    "a[1,3]"
   ]
  },
  {
   "cell_type": "code",
   "execution_count": 20,
   "id": "514b3777-5711-47cf-958d-d4a1a990ff51",
   "metadata": {},
   "outputs": [
    {
     "data": {
      "text/plain": [
       "np.int64(15)"
      ]
     },
     "execution_count": 20,
     "metadata": {},
     "output_type": "execute_result"
    }
   ],
   "source": [
    "a[3,3]"
   ]
  },
  {
   "cell_type": "code",
   "execution_count": 23,
   "id": "467fc1ed-a4c9-41e7-9044-098fe72db9e5",
   "metadata": {},
   "outputs": [
    {
     "data": {
      "text/plain": [
       "np.int64(3)"
      ]
     },
     "execution_count": 23,
     "metadata": {},
     "output_type": "execute_result"
    }
   ],
   "source": [
    "a[0,3]"
   ]
  },
  {
   "cell_type": "code",
   "execution_count": 24,
   "id": "9ef59be1-0d9b-4674-83fb-a36a71e7fe9b",
   "metadata": {},
   "outputs": [
    {
     "data": {
      "text/plain": [
       "np.int64(13)"
      ]
     },
     "execution_count": 24,
     "metadata": {},
     "output_type": "execute_result"
    }
   ],
   "source": [
    "a[3,1]"
   ]
  },
  {
   "cell_type": "code",
   "execution_count": 25,
   "id": "854e001e-f0dd-4655-8da8-d5757f04890e",
   "metadata": {},
   "outputs": [
    {
     "data": {
      "text/plain": [
       "np.int64(0)"
      ]
     },
     "execution_count": 25,
     "metadata": {},
     "output_type": "execute_result"
    }
   ],
   "source": [
    "a[-4,-4]"
   ]
  },
  {
   "cell_type": "code",
   "execution_count": 26,
   "id": "b62a18f7-7372-430d-8262-9eb80769fda8",
   "metadata": {},
   "outputs": [
    {
     "data": {
      "text/plain": [
       "np.int64(1)"
      ]
     },
     "execution_count": 26,
     "metadata": {},
     "output_type": "execute_result"
    }
   ],
   "source": [
    "a[-4,-3]"
   ]
  },
  {
   "cell_type": "code",
   "execution_count": 27,
   "id": "dc8c8ca6-0be9-4462-a1f3-900e0eb0313c",
   "metadata": {},
   "outputs": [
    {
     "data": {
      "text/plain": [
       "np.int64(6)"
      ]
     },
     "execution_count": 27,
     "metadata": {},
     "output_type": "execute_result"
    }
   ],
   "source": [
    "a[-3][-2]"
   ]
  },
  {
   "cell_type": "code",
   "execution_count": 28,
   "id": "852a023c-1b7b-4798-b711-d2a981aebedc",
   "metadata": {},
   "outputs": [
    {
     "data": {
      "text/plain": [
       "np.int64(9)"
      ]
     },
     "execution_count": 28,
     "metadata": {},
     "output_type": "execute_result"
    }
   ],
   "source": [
    "a[-2][-3]"
   ]
  },
  {
   "cell_type": "code",
   "execution_count": null,
   "id": "5cf7bcc7-ff17-4865-961f-3ef2a32b5e1f",
   "metadata": {},
   "outputs": [],
   "source": []
  },
  {
   "cell_type": "markdown",
   "id": "d46a44bb-a9f7-4ea9-abce-b7c1e939a2f1",
   "metadata": {},
   "source": [
    "# 3-D Indexing"
   ]
  },
  {
   "cell_type": "code",
   "execution_count": 29,
   "id": "ba9d2e34-8fbe-4a05-9ce8-b665acd0e382",
   "metadata": {},
   "outputs": [
    {
     "name": "stdout",
     "output_type": "stream",
     "text": [
      "[[[ 0  1  2]\n",
      "  [ 3  4  5]\n",
      "  [ 6  7  8]]\n",
      "\n",
      " [[ 9 10 11]\n",
      "  [12 13 14]\n",
      "  [15 16 17]]\n",
      "\n",
      " [[18 19 20]\n",
      "  [21 22 23]\n",
      "  [24 25 26]]] <class 'numpy.ndarray'>\n"
     ]
    }
   ],
   "source": [
    "a = np.arange(27).reshape(3,3,3)\n",
    "print(a,type(a))"
   ]
  },
  {
   "cell_type": "code",
   "execution_count": 30,
   "id": "e3f2bf76-1eb4-4927-aee6-fe0b5808d8ee",
   "metadata": {},
   "outputs": [
    {
     "data": {
      "text/plain": [
       "np.int64(25)"
      ]
     },
     "execution_count": 30,
     "metadata": {},
     "output_type": "execute_result"
    }
   ],
   "source": [
    "a[2,2,1]"
   ]
  },
  {
   "cell_type": "code",
   "execution_count": 31,
   "id": "9f10b0ef-3dcc-4782-967e-68f507a0a45d",
   "metadata": {},
   "outputs": [
    {
     "data": {
      "text/plain": [
       "np.int64(8)"
      ]
     },
     "execution_count": 31,
     "metadata": {},
     "output_type": "execute_result"
    }
   ],
   "source": [
    "a[0,2,2]"
   ]
  },
  {
   "cell_type": "code",
   "execution_count": 32,
   "id": "6c18f651-b8d8-419c-a64f-6cf2f21a85ea",
   "metadata": {},
   "outputs": [
    {
     "data": {
      "text/plain": [
       "np.int64(5)"
      ]
     },
     "execution_count": 32,
     "metadata": {},
     "output_type": "execute_result"
    }
   ],
   "source": [
    "a[0,1,2]"
   ]
  },
  {
   "cell_type": "code",
   "execution_count": 33,
   "id": "279e3c8c-e36f-40a6-92ae-8cd0fb30eb83",
   "metadata": {},
   "outputs": [
    {
     "data": {
      "text/plain": [
       "np.int64(2)"
      ]
     },
     "execution_count": 33,
     "metadata": {},
     "output_type": "execute_result"
    }
   ],
   "source": [
    "a[0,0,2]"
   ]
  },
  {
   "cell_type": "code",
   "execution_count": 35,
   "id": "7dfb56ff-aa17-478a-839a-42159fa4665a",
   "metadata": {},
   "outputs": [
    {
     "data": {
      "text/plain": [
       "np.int64(11)"
      ]
     },
     "execution_count": 35,
     "metadata": {},
     "output_type": "execute_result"
    }
   ],
   "source": [
    "a[1,0,2]"
   ]
  },
  {
   "cell_type": "code",
   "execution_count": 36,
   "id": "a60d7b9d-d126-4948-a37e-46dfcac9f0f0",
   "metadata": {},
   "outputs": [
    {
     "data": {
      "text/plain": [
       "np.int64(14)"
      ]
     },
     "execution_count": 36,
     "metadata": {},
     "output_type": "execute_result"
    }
   ],
   "source": [
    "a[1,1,2]"
   ]
  },
  {
   "cell_type": "code",
   "execution_count": 37,
   "id": "e1e82f58-d8c2-4a01-b54d-d404ebab8259",
   "metadata": {},
   "outputs": [
    {
     "data": {
      "text/plain": [
       "np.int64(20)"
      ]
     },
     "execution_count": 37,
     "metadata": {},
     "output_type": "execute_result"
    }
   ],
   "source": [
    "a[2,0,2]"
   ]
  },
  {
   "cell_type": "code",
   "execution_count": null,
   "id": "f879607e-1247-49cc-bbb3-02fdb1c175ae",
   "metadata": {},
   "outputs": [],
   "source": []
  },
  {
   "cell_type": "markdown",
   "id": "b0a9ac44-6780-4175-b078-4b75a32ddc64",
   "metadata": {},
   "source": [
    "# NumPy Slicing"
   ]
  },
  {
   "cell_type": "markdown",
   "id": "68b86b43-8904-4826-914c-47d5ccedec5e",
   "metadata": {},
   "source": [
    "## The process of obtaining range of value (or) sub values from an iterable object.\n",
    "## We can apply slicing operation on 3-types of ndarray.they are:\n",
    "### 1) 1-D array\n",
    "### 2) 2-D array\n",
    "### 3) 3-D array"
   ]
  },
  {
   "cell_type": "code",
   "execution_count": null,
   "id": "a595e70a-699d-4471-87e0-c318e36cef57",
   "metadata": {},
   "outputs": [],
   "source": []
  },
  {
   "cell_type": "markdown",
   "id": "6ad76747-2939-441a-9474-65997979ee76",
   "metadata": {},
   "source": [
    "## 1-D array\n",
    "### syntax: \n",
    "### 1darray[Begin:End] = It gives range of value from begin index to end index(-1) provided.\n",
    "### 1darray[Begin:] = It gives range of value from begin index to last value.\n",
    "### 1darray[:End] = It gives range of value from first value to end -1 index.\n",
    "### 1darray[:] = It gives complete values of 1darray (or) first value to last value of 1darray.\n",
    "### 1darray[start:stop:step]"
   ]
  },
  {
   "cell_type": "code",
   "execution_count": 38,
   "id": "df1ecce9-ea90-4bc9-96fc-ff0715b2a3ee",
   "metadata": {},
   "outputs": [
    {
     "name": "stdout",
     "output_type": "stream",
     "text": [
      "[10 20 30 40 50 60 70 15 25 35] <class 'numpy.ndarray'> 1205101076688\n"
     ]
    }
   ],
   "source": [
    "a = np.array([10,20,30,40,50,60,70,15,25,35])\n",
    "print(a,type(a),id(a))"
   ]
  },
  {
   "cell_type": "code",
   "execution_count": 39,
   "id": "6ff9098b-119c-4a31-b291-aae5f95579ca",
   "metadata": {},
   "outputs": [
    {
     "data": {
      "text/plain": [
       "array([20, 30, 40, 50, 60])"
      ]
     },
     "execution_count": 39,
     "metadata": {},
     "output_type": "execute_result"
    }
   ],
   "source": [
    "a[1:6]"
   ]
  },
  {
   "cell_type": "code",
   "execution_count": 40,
   "id": "d6f7c94a-a782-46aa-9423-4edea94b76e2",
   "metadata": {},
   "outputs": [
    {
     "data": {
      "text/plain": [
       "array([10, 20, 30, 40, 50, 60, 70, 15])"
      ]
     },
     "execution_count": 40,
     "metadata": {},
     "output_type": "execute_result"
    }
   ],
   "source": [
    "a[0:8]"
   ]
  },
  {
   "cell_type": "code",
   "execution_count": 41,
   "id": "ecf26812-fb05-4b44-bd62-ed638cdd6a83",
   "metadata": {},
   "outputs": [
    {
     "data": {
      "text/plain": [
       "array([30, 40, 50, 60, 70])"
      ]
     },
     "execution_count": 41,
     "metadata": {},
     "output_type": "execute_result"
    }
   ],
   "source": [
    "a[2:7]"
   ]
  },
  {
   "cell_type": "code",
   "execution_count": 42,
   "id": "0fdcb84d-8870-45db-80a0-12bd52a0af78",
   "metadata": {},
   "outputs": [
    {
     "data": {
      "text/plain": [
       "array([40, 50, 60, 70, 15, 25])"
      ]
     },
     "execution_count": 42,
     "metadata": {},
     "output_type": "execute_result"
    }
   ],
   "source": [
    "a[3:9]"
   ]
  },
  {
   "cell_type": "code",
   "execution_count": 43,
   "id": "ee4230fe-4359-46d1-91f5-74095d418971",
   "metadata": {},
   "outputs": [
    {
     "data": {
      "text/plain": [
       "array([50, 60, 70, 15, 25, 35])"
      ]
     },
     "execution_count": 43,
     "metadata": {},
     "output_type": "execute_result"
    }
   ],
   "source": [
    "a[4:10]"
   ]
  },
  {
   "cell_type": "code",
   "execution_count": 44,
   "id": "635caf91-aeb2-4b6d-80ae-5e3e92e01139",
   "metadata": {},
   "outputs": [
    {
     "data": {
      "text/plain": [
       "array([60, 70, 15, 25, 35])"
      ]
     },
     "execution_count": 44,
     "metadata": {},
     "output_type": "execute_result"
    }
   ],
   "source": [
    "a[5:]"
   ]
  },
  {
   "cell_type": "code",
   "execution_count": 45,
   "id": "939afd2a-4806-49b5-b0d6-3602a8cef6f5",
   "metadata": {},
   "outputs": [
    {
     "data": {
      "text/plain": [
       "array([40, 50, 60, 70, 15, 25, 35])"
      ]
     },
     "execution_count": 45,
     "metadata": {},
     "output_type": "execute_result"
    }
   ],
   "source": [
    "a[3:]"
   ]
  },
  {
   "cell_type": "code",
   "execution_count": 46,
   "id": "25389e1f-0662-49ec-9693-7e4d1f4e98a6",
   "metadata": {},
   "outputs": [
    {
     "data": {
      "text/plain": [
       "array([15, 25, 35])"
      ]
     },
     "execution_count": 46,
     "metadata": {},
     "output_type": "execute_result"
    }
   ],
   "source": [
    "a[7:]"
   ]
  },
  {
   "cell_type": "code",
   "execution_count": 47,
   "id": "308e11df-eb5d-46db-8d3d-c844ee628c66",
   "metadata": {},
   "outputs": [
    {
     "data": {
      "text/plain": [
       "array([10, 20, 30, 40, 50, 60, 70, 15])"
      ]
     },
     "execution_count": 47,
     "metadata": {},
     "output_type": "execute_result"
    }
   ],
   "source": [
    "a[:8]"
   ]
  },
  {
   "cell_type": "code",
   "execution_count": 48,
   "id": "01246f6f-8601-4d5a-bff0-d9a1459ff34c",
   "metadata": {},
   "outputs": [
    {
     "data": {
      "text/plain": [
       "array([10, 20, 30, 40, 50, 60])"
      ]
     },
     "execution_count": 48,
     "metadata": {},
     "output_type": "execute_result"
    }
   ],
   "source": [
    "a[:6]"
   ]
  },
  {
   "cell_type": "code",
   "execution_count": 49,
   "id": "01432cf0-f1c4-4425-bd3b-614a9dd6a053",
   "metadata": {},
   "outputs": [
    {
     "data": {
      "text/plain": [
       "array([10, 20, 30, 40, 50, 60, 70, 15, 25])"
      ]
     },
     "execution_count": 49,
     "metadata": {},
     "output_type": "execute_result"
    }
   ],
   "source": [
    "a[:9]"
   ]
  },
  {
   "cell_type": "code",
   "execution_count": 50,
   "id": "932c805b-6f25-43bc-9fd3-c5b99a061ddc",
   "metadata": {},
   "outputs": [
    {
     "data": {
      "text/plain": [
       "array([10, 20, 30, 40, 50, 60, 70, 15, 25, 35])"
      ]
     },
     "execution_count": 50,
     "metadata": {},
     "output_type": "execute_result"
    }
   ],
   "source": [
    "a[:]"
   ]
  },
  {
   "cell_type": "code",
   "execution_count": 51,
   "id": "c00a51bc-abe2-44aa-bc81-ad14b1ef8513",
   "metadata": {},
   "outputs": [
    {
     "data": {
      "text/plain": [
       "array([20, 40, 60, 15])"
      ]
     },
     "execution_count": 51,
     "metadata": {},
     "output_type": "execute_result"
    }
   ],
   "source": [
    "a[1:9:2]"
   ]
  },
  {
   "cell_type": "code",
   "execution_count": 52,
   "id": "58eb4d6e-efb7-408b-83ad-14c8ff7bc05f",
   "metadata": {},
   "outputs": [
    {
     "data": {
      "text/plain": [
       "array([20, 50, 15])"
      ]
     },
     "execution_count": 52,
     "metadata": {},
     "output_type": "execute_result"
    }
   ],
   "source": [
    "a[1:9:3]"
   ]
  },
  {
   "cell_type": "code",
   "execution_count": null,
   "id": "6dbaf21f-2070-4a62-b6c9-a756f61edf19",
   "metadata": {},
   "outputs": [],
   "source": []
  },
  {
   "cell_type": "markdown",
   "id": "58ddd2e3-a93f-4900-8031-4c90a29e81ee",
   "metadata": {},
   "source": [
    "# 2-D array\n",
    "## Syntax: \n",
    "## 2Darray[RowBegin:RowEnd,RowStep,ColBegin:ColEnd:ColStep]"
   ]
  },
  {
   "cell_type": "code",
   "execution_count": 54,
   "id": "85c3d224-d385-43ec-8aed-b611ad834a74",
   "metadata": {},
   "outputs": [
    {
     "name": "stdout",
     "output_type": "stream",
     "text": [
      "[[ 0  1  2  3]\n",
      " [ 4  5  6  7]\n",
      " [ 8  9 10 11]\n",
      " [12 13 14 15]] <class 'numpy.ndarray'>\n"
     ]
    }
   ],
   "source": [
    "a = np.arange(16).reshape(4,4)\n",
    "print(a,type(a))"
   ]
  },
  {
   "cell_type": "code",
   "execution_count": 55,
   "id": "a8929441-d24a-43e0-84f4-dfb16db22b32",
   "metadata": {},
   "outputs": [
    {
     "data": {
      "text/plain": [
       "array([[ 0],\n",
       "       [ 4],\n",
       "       [ 8],\n",
       "       [12]])"
      ]
     },
     "execution_count": 55,
     "metadata": {},
     "output_type": "execute_result"
    }
   ],
   "source": [
    "a[0:4,0:1]"
   ]
  },
  {
   "cell_type": "code",
   "execution_count": 56,
   "id": "4221ee57-c981-4998-9dc2-e19c9dd4a2ef",
   "metadata": {},
   "outputs": [
    {
     "data": {
      "text/plain": [
       "array([[ 0,  1],\n",
       "       [ 4,  5],\n",
       "       [ 8,  9],\n",
       "       [12, 13]])"
      ]
     },
     "execution_count": 56,
     "metadata": {},
     "output_type": "execute_result"
    }
   ],
   "source": [
    "a[:,0:2]"
   ]
  },
  {
   "cell_type": "code",
   "execution_count": 57,
   "id": "16660423-24ad-4984-8e85-d887ef8c5616",
   "metadata": {},
   "outputs": [
    {
     "data": {
      "text/plain": [
       "array([[4, 5],\n",
       "       [8, 9]])"
      ]
     },
     "execution_count": 57,
     "metadata": {},
     "output_type": "execute_result"
    }
   ],
   "source": [
    "a[1:3,0:2]"
   ]
  },
  {
   "cell_type": "code",
   "execution_count": 58,
   "id": "821853cf-9138-4754-aef4-4addd0121117",
   "metadata": {},
   "outputs": [
    {
     "data": {
      "text/plain": [
       "array([[ 5,  6,  7],\n",
       "       [ 9, 10, 11],\n",
       "       [13, 14, 15]])"
      ]
     },
     "execution_count": 58,
     "metadata": {},
     "output_type": "execute_result"
    }
   ],
   "source": [
    "a[1:4,1:4]"
   ]
  },
  {
   "cell_type": "code",
   "execution_count": 59,
   "id": "4cb4798b-bd42-40dc-b664-99d0fc6bcb19",
   "metadata": {},
   "outputs": [
    {
     "data": {
      "text/plain": [
       "array([[ 0,  1,  2,  3],\n",
       "       [ 8,  9, 10, 11]])"
      ]
     },
     "execution_count": 59,
     "metadata": {},
     "output_type": "execute_result"
    }
   ],
   "source": [
    "a[0:4:2,0:4]"
   ]
  },
  {
   "cell_type": "code",
   "execution_count": 60,
   "id": "b8f4006f-f81d-470a-862f-554b1d974014",
   "metadata": {},
   "outputs": [
    {
     "data": {
      "text/plain": [
       "array([[ 0,  1,  2,  3],\n",
       "       [ 8,  9, 10, 11]])"
      ]
     },
     "execution_count": 60,
     "metadata": {},
     "output_type": "execute_result"
    }
   ],
   "source": [
    "a[::2,::]"
   ]
  },
  {
   "cell_type": "markdown",
   "id": "53efb3c3-7a35-4469-bc0b-afc7e990361b",
   "metadata": {},
   "source": [
    "## Here Row, column represents either positive (or) negative\n",
    "## Its not possible to get principle diagonal elements by using regular indexing and slicing operations."
   ]
  },
  {
   "cell_type": "code",
   "execution_count": null,
   "id": "c5d0f889-3f48-4bc5-a831-8942b9cf8eca",
   "metadata": {},
   "outputs": [],
   "source": []
  },
  {
   "cell_type": "markdown",
   "id": "8bbec4ac-24c1-4afb-a32c-ef6fddc253cd",
   "metadata": {},
   "source": [
    "# N-D array"
   ]
  },
  {
   "cell_type": "markdown",
   "id": "3708f238-de3f-4d0e-8ee2-d87db93cd120",
   "metadata": {},
   "source": [
    "## syntax: NDarray[MateixBegin:End:Step,RowBegin:End:Step,ColBegin:End:Step]\n",
    "### Here Matrix Begin, End represents either positive or negative index."
   ]
  },
  {
   "cell_type": "code",
   "execution_count": 62,
   "id": "3ef7e435-3122-4528-8e0a-aeecac18d059",
   "metadata": {},
   "outputs": [
    {
     "name": "stdout",
     "output_type": "stream",
     "text": [
      "[[[ 0  1  2]\n",
      "  [ 3  4  5]\n",
      "  [ 6  7  8]]\n",
      "\n",
      " [[ 9 10 11]\n",
      "  [12 13 14]\n",
      "  [15 16 17]]\n",
      "\n",
      " [[18 19 20]\n",
      "  [21 22 23]\n",
      "  [24 25 26]]] <class 'numpy.ndarray'>\n"
     ]
    }
   ],
   "source": [
    "a = np.arange(27).reshape(3,3,3)\n",
    "print(a,type(a))"
   ]
  },
  {
   "cell_type": "code",
   "execution_count": 63,
   "id": "2123f99e-3b1b-41ff-918a-1967c19fed53",
   "metadata": {},
   "outputs": [
    {
     "data": {
      "text/plain": [
       "array([[0, 1, 2],\n",
       "       [3, 4, 5],\n",
       "       [6, 7, 8]])"
      ]
     },
     "execution_count": 63,
     "metadata": {},
     "output_type": "execute_result"
    }
   ],
   "source": [
    "a[0]"
   ]
  },
  {
   "cell_type": "code",
   "execution_count": 64,
   "id": "488f67be-6954-409e-bef8-35383355556a",
   "metadata": {},
   "outputs": [
    {
     "data": {
      "text/plain": [
       "array([[ 9, 10, 11],\n",
       "       [12, 13, 14],\n",
       "       [15, 16, 17]])"
      ]
     },
     "execution_count": 64,
     "metadata": {},
     "output_type": "execute_result"
    }
   ],
   "source": [
    "a[1]"
   ]
  },
  {
   "cell_type": "code",
   "execution_count": 65,
   "id": "f105694c-e04a-4e67-978f-a3aaa8ea68d6",
   "metadata": {},
   "outputs": [
    {
     "data": {
      "text/plain": [
       "array([[18, 19, 20],\n",
       "       [21, 22, 23],\n",
       "       [24, 25, 26]])"
      ]
     },
     "execution_count": 65,
     "metadata": {},
     "output_type": "execute_result"
    }
   ],
   "source": [
    "a[2]"
   ]
  },
  {
   "cell_type": "code",
   "execution_count": 66,
   "id": "7cf45901-727c-480e-875a-c4fcb1f45000",
   "metadata": {},
   "outputs": [
    {
     "data": {
      "text/plain": [
       "array([[[0, 1, 2],\n",
       "        [3, 4, 5],\n",
       "        [6, 7, 8]]])"
      ]
     },
     "execution_count": 66,
     "metadata": {},
     "output_type": "execute_result"
    }
   ],
   "source": [
    "a[0:1]"
   ]
  },
  {
   "cell_type": "code",
   "execution_count": 67,
   "id": "75b32b53-4055-4caf-836e-b1aad658f681",
   "metadata": {},
   "outputs": [
    {
     "data": {
      "text/plain": [
       "array([3, 4, 5])"
      ]
     },
     "execution_count": 67,
     "metadata": {},
     "output_type": "execute_result"
    }
   ],
   "source": [
    "a[0][1]"
   ]
  },
  {
   "cell_type": "code",
   "execution_count": 68,
   "id": "d7d8a3b1-0afa-4f64-b89a-218fd393b131",
   "metadata": {},
   "outputs": [
    {
     "data": {
      "text/plain": [
       "array([[[ 0,  1,  2],\n",
       "        [ 3,  4,  5],\n",
       "        [ 6,  7,  8]],\n",
       "\n",
       "       [[ 9, 10, 11],\n",
       "        [12, 13, 14],\n",
       "        [15, 16, 17]],\n",
       "\n",
       "       [[18, 19, 20],\n",
       "        [21, 22, 23],\n",
       "        [24, 25, 26]]])"
      ]
     },
     "execution_count": 68,
     "metadata": {},
     "output_type": "execute_result"
    }
   ],
   "source": [
    "a[0:3]"
   ]
  },
  {
   "cell_type": "code",
   "execution_count": 70,
   "id": "c50be6c0-d3d0-4b10-9fc7-20dba82e0d48",
   "metadata": {},
   "outputs": [
    {
     "data": {
      "text/plain": [
       "array([6, 7, 8])"
      ]
     },
     "execution_count": 70,
     "metadata": {},
     "output_type": "execute_result"
    }
   ],
   "source": [
    "a[0][2]"
   ]
  },
  {
   "cell_type": "code",
   "execution_count": 71,
   "id": "03f87429-8e67-47bf-9af0-4ad716814c35",
   "metadata": {},
   "outputs": [
    {
     "name": "stdout",
     "output_type": "stream",
     "text": [
      "[[[ 0  1]]\n",
      "\n",
      " [[ 9 10]]]\n"
     ]
    }
   ],
   "source": [
    "print(a[0:2,0:1,0:2])"
   ]
  },
  {
   "cell_type": "markdown",
   "id": "e456474d-8100-4f9e-8fee-bb129bbaf645",
   "metadata": {},
   "source": [
    "## With slicing operations, we can't get random elements.\n",
    "## For getting random elements, we must learn advance indexing & slicing"
   ]
  }
 ],
 "metadata": {
  "kernelspec": {
   "display_name": "Python 3 (ipykernel)",
   "language": "python",
   "name": "python3"
  },
  "language_info": {
   "codemirror_mode": {
    "name": "ipython",
    "version": 3
   },
   "file_extension": ".py",
   "mimetype": "text/x-python",
   "name": "python",
   "nbconvert_exporter": "python",
   "pygments_lexer": "ipython3",
   "version": "3.13.5"
  }
 },
 "nbformat": 4,
 "nbformat_minor": 5
}
