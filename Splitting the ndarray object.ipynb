{
 "cells": [
  {
   "cell_type": "markdown",
   "id": "3d500f6a-560d-439b-9b9d-c1f84ef00996",
   "metadata": {},
   "source": [
    "# SPLITTING THE NDARRAY OBJECT\n",
    "## In NumPy, splitting an ndarray means dividing it into multiple sub-arrays. This is useful when you want to break data into chunks for processing, training, or analysis.\n",
    "## There are few types:\n",
    "### a) split() ----> Equal parts\n",
    "### b) array_split() ---->Equal / unequal parts\n",
    "### c) hsplit()  ----> Splits horizontally (columns) for 2D arrays\n",
    "### d) vsplit() ----> Splits vertically (rows) for 2D arrays\n",
    "### e) dsplit()"
   ]
  },
  {
   "cell_type": "code",
   "execution_count": null,
   "id": "598cd0c3-4a3e-43ee-ad8d-1d182f220686",
   "metadata": {},
   "outputs": [],
   "source": []
  },
  {
   "cell_type": "markdown",
   "id": "ff20ed90-22a6-4a2b-961f-3fdc91c012ed",
   "metadata": {},
   "source": [
    "# split()\n",
    "## Array splitting NumPy is like a slice of cake.\n",
    "## Think of each element in a numpy array as a slice of cake.\n",
    "## We can split horizontal, vertical (or) even diagonally depends upon our needs.\n",
    "## The split(), hsplit(), vsplit() and dsplit() functions are important tools for dividing arrays along various axis and dimensions.\n",
    "## These functions are particularly useful when working with one dimensional arrays, matrices (or) high dimensional data sets."
   ]
  },
  {
   "cell_type": "code",
   "execution_count": 1,
   "id": "ff9ebb42-753d-4590-9a3d-b793a86f90bc",
   "metadata": {},
   "outputs": [],
   "source": [
    "import numpy as np"
   ]
  },
  {
   "cell_type": "code",
   "execution_count": 2,
   "id": "e3c878ec-ee90-4672-8d74-3b4f3230a5e8",
   "metadata": {},
   "outputs": [
    {
     "name": "stdout",
     "output_type": "stream",
     "text": [
      "[array([1, 2]), array([3, 4]), array([5])] <class 'list'>\n"
     ]
    }
   ],
   "source": [
    "arr = np.array([1,2,3,4,5])\n",
    "array = np.array_split(arr,3)\n",
    "print(array,type(array))"
   ]
  },
  {
   "cell_type": "code",
   "execution_count": 3,
   "id": "5b37bb71-2c15-41a1-9c70-64d8be7fbcf3",
   "metadata": {},
   "outputs": [
    {
     "name": "stdout",
     "output_type": "stream",
     "text": [
      "[array([1, 2]), array([3, 4]), array([5, 6]), array([7, 8])] <class 'list'>\n"
     ]
    }
   ],
   "source": [
    "arr = np.array([1,2,3,4,5,6,7,8])\n",
    "array = np.array_split(arr,4)\n",
    "print(array,type(array))"
   ]
  },
  {
   "cell_type": "code",
   "execution_count": null,
   "id": "b3abad14-f115-4a52-810d-9aa621aec042",
   "metadata": {},
   "outputs": [],
   "source": []
  },
  {
   "cell_type": "markdown",
   "id": "8cfb70d0-7426-4ad5-a41c-d3d35a610582",
   "metadata": {},
   "source": [
    "# Splitting arrays into equal parts using numpy.split()\n",
    "## It is a function that divides an array into equal parts along a specified axis.\n",
    "## The code imports numpy to create an array of num(0-10), then splits it in half(horizontal) using numpy.split()"
   ]
  },
  {
   "cell_type": "code",
   "execution_count": 5,
   "id": "2f38cffc-2f10-42b0-a5d7-d5c50efba00f",
   "metadata": {},
   "outputs": [],
   "source": [
    "import numpy as np"
   ]
  },
  {
   "cell_type": "code",
   "execution_count": 12,
   "id": "f48cd1e5-ba7e-4fde-a3f4-a6ea8794a544",
   "metadata": {},
   "outputs": [
    {
     "name": "stdout",
     "output_type": "stream",
     "text": [
      "[0 1 2 3 4 5 6 7 8 9] <class 'numpy.ndarray'>\n",
      "----------------------\n",
      "[array([0, 1]), array([2, 3]), array([4, 5]), array([6, 7]), array([8, 9])] <class 'list'>\n"
     ]
    }
   ],
   "source": [
    "a = np.arange(10)\n",
    "print(a,type(a))\n",
    "print(\"----------------------\")\n",
    "b = np.split(a,5)\n",
    "print(b,type(b))"
   ]
  },
  {
   "cell_type": "code",
   "execution_count": 11,
   "id": "11ab3578-566f-4405-a826-64b0e9fbef8c",
   "metadata": {},
   "outputs": [
    {
     "name": "stdout",
     "output_type": "stream",
     "text": [
      "[ 0  1  2  3  4  5  6  7  8  9 10 11] <class 'numpy.ndarray'>\n",
      "----------------------\n",
      "[array([0, 1, 2, 3, 4, 5]), array([ 6,  7,  8,  9, 10, 11])] <class 'list'>\n"
     ]
    }
   ],
   "source": [
    "a = np.arange(12)\n",
    "print(a,type(a))\n",
    "print(\"----------------------\")\n",
    "b = np.split(a,2)\n",
    "print(b,type(b))"
   ]
  },
  {
   "cell_type": "code",
   "execution_count": null,
   "id": "1d1f8d09-84be-405a-a05b-c4a63238d0ff",
   "metadata": {},
   "outputs": [],
   "source": []
  },
  {
   "cell_type": "markdown",
   "id": "7e70cf6b-86e0-492e-8d44-418a403bac80",
   "metadata": {},
   "source": [
    "# array_split()\n",
    "## It is a function splitting into equal (or) unequal sub arrays (or) is similar to numpy.split() but it allows for uneven splitting of arrays.\n",
    "## This is useful when the array cannot be evenly divided by the specified number of splits. "
   ]
  },
  {
   "cell_type": "code",
   "execution_count": 13,
   "id": "4da455b4-bcf1-45cf-a301-8b9cc8e92a9c",
   "metadata": {},
   "outputs": [],
   "source": [
    "import numpy as np"
   ]
  },
  {
   "cell_type": "code",
   "execution_count": 15,
   "id": "d88a340a-5a0c-4d3b-9884-e313096d9fcb",
   "metadata": {},
   "outputs": [
    {
     "name": "stdout",
     "output_type": "stream",
     "text": [
      "[ 0  1  2  3  4  5  6  7  8  9 10 11 12] <class 'numpy.ndarray'>\n",
      "----------------------------------------------------\n",
      "[array([0, 1, 2, 3, 4, 5, 6]), array([ 7,  8,  9, 10, 11, 12])] <class 'list'>\n"
     ]
    }
   ],
   "source": [
    "a = np.arange(13)\n",
    "print(a,type(a))\n",
    "print(\"----------------------------------------------------\")\n",
    "b = np.array_split(a,2)\n",
    "print(b,type(b))"
   ]
  },
  {
   "cell_type": "code",
   "execution_count": 16,
   "id": "06afa733-435f-485b-97cf-2266549ea8db",
   "metadata": {},
   "outputs": [
    {
     "name": "stdout",
     "output_type": "stream",
     "text": [
      "[ 0  1  2  3  4  5  6  7  8  9 10 11 12] <class 'numpy.ndarray'>\n",
      "----------------------------------------------------\n",
      "[array([0, 1, 2, 3]), array([4, 5, 6]), array([7, 8, 9]), array([10, 11, 12])] <class 'list'>\n"
     ]
    }
   ],
   "source": [
    "a = np.arange(13)\n",
    "print(a,type(a))\n",
    "print(\"----------------------------------------------------\")\n",
    "b = np.array_split(a,4)\n",
    "print(b,type(b))"
   ]
  },
  {
   "cell_type": "code",
   "execution_count": 17,
   "id": "7d98526b-b006-418c-bc7a-c0ed238450bc",
   "metadata": {},
   "outputs": [
    {
     "name": "stdout",
     "output_type": "stream",
     "text": [
      "[ 0  1  2  3  4  5  6  7  8  9 10 11 12] <class 'numpy.ndarray'>\n",
      "----------------------------------------------------\n",
      "[array([0, 1, 2]), array([3, 4]), array([5, 6]), array([7, 8]), array([ 9, 10]), array([11, 12])] <class 'list'>\n"
     ]
    }
   ],
   "source": [
    "a = np.arange(13)\n",
    "print(a,type(a))\n",
    "print(\"----------------------------------------------------\")\n",
    "b = np.array_split(a,6)\n",
    "print(b,type(b))"
   ]
  },
  {
   "cell_type": "code",
   "execution_count": 18,
   "id": "075d78e5-52c2-4adc-8bb2-b3af8f2244a6",
   "metadata": {},
   "outputs": [
    {
     "name": "stdout",
     "output_type": "stream",
     "text": [
      "[ 0  1  2  3  4  5  6  7  8  9 10 11 12] <class 'numpy.ndarray'>\n",
      "----------------------------------------------------\n",
      "[array([0, 1]), array([2, 3]), array([4, 5]), array([6, 7]), array([8, 9]), array([10]), array([11]), array([12])] <class 'list'>\n"
     ]
    }
   ],
   "source": [
    "a = np.arange(13)\n",
    "print(a,type(a))\n",
    "print(\"----------------------------------------------------\")\n",
    "b = np.array_split(a,8)\n",
    "print(b,type(b))"
   ]
  },
  {
   "cell_type": "code",
   "execution_count": 19,
   "id": "164cce84-f383-4b48-a988-88fee3a1fc40",
   "metadata": {},
   "outputs": [
    {
     "name": "stdout",
     "output_type": "stream",
     "text": [
      "[ 0  1  2  3  4  5  6  7  8  9 10 11 12] <class 'numpy.ndarray'>\n",
      "----------------------------------------------------\n",
      "[array([0]), array([1]), array([2]), array([3]), array([4]), array([5]), array([6]), array([7]), array([8]), array([9]), array([10]), array([11]), array([12])] <class 'list'>\n"
     ]
    }
   ],
   "source": [
    "a = np.arange(13)\n",
    "print(a,type(a))\n",
    "print(\"----------------------------------------------------\")\n",
    "b = np.array_split(a,13)\n",
    "print(b,type(b))"
   ]
  },
  {
   "cell_type": "code",
   "execution_count": 20,
   "id": "4fcea3bc-a722-4da7-b5ac-eb1034269918",
   "metadata": {},
   "outputs": [
    {
     "name": "stdout",
     "output_type": "stream",
     "text": [
      "[ 0  1  2  3  4  5  6  7  8  9 10 11 12] <class 'numpy.ndarray'>\n",
      "----------------------------------------------------\n",
      "[array([0, 1, 2, 3]), array([4]), array([5, 6]), array([7, 8]), array([ 9, 10, 11, 12])] <class 'list'>\n"
     ]
    }
   ],
   "source": [
    "a = np.arange(13)\n",
    "print(a,type(a))\n",
    "print(\"----------------------------------------------------\")\n",
    "b = np.array_split(a,[4,5,7,9])\n",
    "print(b,type(b))"
   ]
  },
  {
   "cell_type": "code",
   "execution_count": null,
   "id": "bbee41c2-7db4-46f6-9bec-8007428e66b6",
   "metadata": {},
   "outputs": [],
   "source": []
  }
 ],
 "metadata": {
  "kernelspec": {
   "display_name": "Python 3 (ipykernel)",
   "language": "python",
   "name": "python3"
  },
  "language_info": {
   "codemirror_mode": {
    "name": "ipython",
    "version": 3
   },
   "file_extension": ".py",
   "mimetype": "text/x-python",
   "name": "python",
   "nbconvert_exporter": "python",
   "pygments_lexer": "ipython3",
   "version": "3.13.5"
  }
 },
 "nbformat": 4,
 "nbformat_minor": 5
}
