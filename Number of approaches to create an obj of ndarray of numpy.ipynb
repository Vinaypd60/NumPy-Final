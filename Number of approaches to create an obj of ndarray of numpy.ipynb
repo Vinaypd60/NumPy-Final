{
 "cells": [
  {
   "cell_type": "markdown",
   "id": "bf30009d-3bde-4ef7-96d2-344f692d28c0",
   "metadata": {},
   "source": [
    "# Number of approaches to create an object of ndarray of numpy\n",
    "## Here ndarray is pre-defined class present in numpy module.\n",
    "## The purpose of ndarray object is that to store 1D, 2D and ND array data.\n",
    "## In numpy module, we can create an object of ndarray with the following ways.\n",
    "### a) arrays()\n",
    "### b) arange()\n",
    "### c) linspace()\n",
    "### d) zeros()\n",
    "### e) ones()\n",
    "### f) full()\n",
    "### g) identity\n",
    "### h) eye()\n",
    "### i) v&h stack\n",
    "### j) numpy.random\n",
    "### randint()\n",
    "### randn()\n",
    "### normal()\n",
    "### uniform()\n",
    "### rand()\n",
    "### shuffle()"
   ]
  },
  {
   "cell_type": "code",
   "execution_count": 2,
   "id": "d12df0a2-2ba5-4795-a0b6-5fcd8c99ffc5",
   "metadata": {},
   "outputs": [
    {
     "name": "stdout",
     "output_type": "stream",
     "text": [
      "Requirement already satisfied: numpy in c:\\users\\vinay\\anaconda3\\lib\\site-packages (2.1.3)\n",
      "Note: you may need to restart the kernel to use updated packages.\n"
     ]
    }
   ],
   "source": [
    "pip install numpy"
   ]
  },
  {
   "cell_type": "code",
   "execution_count": 3,
   "id": "fbb70ee6-3650-4053-b442-752fe89bc20e",
   "metadata": {},
   "outputs": [
    {
     "name": "stdout",
     "output_type": "stream",
     "text": [
      "Name: numpy\n",
      "Version: 2.1.3\n",
      "Summary: Fundamental package for array computing in Python\n",
      "Home-page: https://numpy.org\n",
      "Author: Travis E. Oliphant et al.\n",
      "Author-email: \n",
      "License: Copyright (c) 2005-2024, NumPy Developers.\n",
      " All rights reserved.\n",
      "\n",
      " Redistribution and use in source and binary forms, with or without\n",
      " modification, are permitted provided that the following conditions are\n",
      " met:\n",
      "\n",
      "     * Redistributions of source code must retain the above copyright\n",
      "        notice, this list of conditions and the following disclaimer.\n",
      "\n",
      "     * Redistributions in binary form must reproduce the above\n",
      "        copyright notice, this list of conditions and the following\n",
      "        disclaimer in the documentation and/or other materials provided\n",
      "        with the distribution.\n",
      "\n",
      "     * Neither the name of the NumPy Developers nor the names of any\n",
      "        contributors may be used to endorse or promote products derived\n",
      "        from this software without specific prior written permission.\n",
      "\n",
      " THIS SOFTWARE IS PROVIDED BY THE COPYRIGHT HOLDERS AND CONTRIBUTORS\n",
      " \"AS IS\" AND ANY EXPRESS OR IMPLIED WARRANTIES, INCLUDING, BUT NOT\n",
      " LIMITED TO, THE IMPLIED WARRANTIES OF MERCHANTABILITY AND FITNESS FOR\n",
      " A PARTICULAR PURPOSE ARE DISCLAIMED. IN NO EVENT SHALL THE COPYRIGHT\n",
      " OWNER OR CONTRIBUTORS BE LIABLE FOR ANY DIRECT, INDIRECT, INCIDENTAL,\n",
      " SPECIAL, EXEMPLARY, OR CONSEQUENTIAL DAMAGES (INCLUDING, BUT NOT\n",
      " LIMITED TO, PROCUREMENT OF SUBSTITUTE GOODS OR SERVICES; LOSS OF USE,\n",
      " DATA, OR PROFITS; OR BUSINESS INTERRUPTION) HOWEVER CAUSED AND ON ANY\n",
      " THEORY OF LIABILITY, WHETHER IN CONTRACT, STRICT LIABILITY, OR TORT\n",
      " (INCLUDING NEGLIGENCE OR OTHERWISE) ARISING IN ANY WAY OUT OF THE USE\n",
      " OF THIS SOFTWARE, EVEN IF ADVISED OF THE POSSIBILITY OF SUCH DAMAGE.\n",
      "\n",
      "Location: C:\\Users\\vinay\\anaconda3\\Lib\\site-packages\n",
      "Requires: \n",
      "Required-by: astropy, bokeh, Bottleneck, contourpy, datashader, gradio, h5py, holoviews, hvplot, imageio, imbalanced-learn, matplotlib, mkl_fft, mkl_random, numba, numexpr, pandas, patsy, pyerfa, PyWavelets, scikit-image, scikit-learn, scipy, seaborn, statsmodels, streamlit, tables, tifffile, xarray\n",
      "Note: you may need to restart the kernel to use updated packages.\n"
     ]
    }
   ],
   "source": [
    "pip show numpy # Numpy summary "
   ]
  },
  {
   "cell_type": "code",
   "execution_count": 5,
   "id": "2f2a94fc-052d-4731-b6bb-e694453261a3",
   "metadata": {},
   "outputs": [
    {
     "name": "stdout",
     "output_type": "stream",
     "text": [
      "Package                           Version\n",
      "--------------------------------- -------------------\n",
      "aiobotocore                       2.19.0\n",
      "aiofiles                          24.1.0\n",
      "aiohappyeyeballs                  2.4.4\n",
      "aiohttp                           3.11.10\n",
      "aioitertools                      0.7.1\n",
      "aiosignal                         1.2.0\n",
      "alabaster                         0.7.16\n",
      "altair                            5.5.0\n",
      "anaconda-anon-usage               0.7.1\n",
      "anaconda-auth                     0.8.6\n",
      "anaconda-catalogs                 0.2.0\n",
      "anaconda-cli-base                 0.5.2\n",
      "anaconda-client                   1.13.0\n",
      "anaconda-navigator                2.6.6\n",
      "anaconda-project                  0.11.1\n",
      "annotated-types                   0.6.0\n",
      "anyio                             4.7.0\n",
      "appdirs                           1.4.4\n",
      "archspec                          0.2.3\n",
      "argon2-cffi                       21.3.0\n",
      "argon2-cffi-bindings              21.2.0\n",
      "arrow                             1.3.0\n",
      "astroid                           3.3.8\n",
      "astropy                           7.0.0\n",
      "astropy-iers-data                 0.2025.1.13.0.34.51\n",
      "asttokens                         3.0.0\n",
      "async-lru                         2.0.4\n",
      "asyncssh                          2.17.0\n",
      "atomicwrites                      1.4.0\n",
      "attrs                             24.3.0\n",
      "audioop-lts                       0.2.2\n",
      "Automat                           24.8.1\n",
      "autopep8                          2.0.4\n",
      "babel                             2.16.0\n",
      "bcrypt                            4.3.0\n",
      "beautifulsoup4                    4.12.3\n",
      "binaryornot                       0.4.4\n",
      "black                             24.10.0\n",
      "bleach                            6.2.0\n",
      "blinker                           1.9.0\n",
      "bokeh                             3.6.2\n",
      "boltons                           24.1.0\n",
      "botocore                          1.36.3\n",
      "Bottleneck                        1.4.2\n",
      "Brotli                            1.1.0\n",
      "cachetools                        5.5.1\n",
      "certifi                           2025.4.26\n",
      "cffi                              1.17.1\n",
      "chardet                           4.0.0\n",
      "charset-normalizer                3.3.2\n",
      "click                             8.1.8\n",
      "cloudpickle                       3.0.0\n",
      "colorama                          0.4.6\n",
      "colorcet                          3.1.0\n",
      "comm                              0.2.1\n",
      "conda                             25.5.1\n",
      "conda-anaconda-telemetry          0.1.2\n",
      "conda-anaconda-tos                0.2.0\n",
      "conda-build                       25.5.0\n",
      "conda-content-trust               0.2.0\n",
      "conda_index                       0.6.1\n",
      "conda-libmamba-solver             25.4.0\n",
      "conda-pack                        0.7.1\n",
      "conda-package-handling            2.4.0\n",
      "conda_package_streaming           0.11.0\n",
      "conda-repo-cli                    1.0.165\n",
      "conda-token                       0.6.0\n",
      "constantly                        23.10.4\n",
      "contourpy                         1.3.1\n",
      "cookiecutter                      1.7.3\n",
      "cryptography                      44.0.1\n",
      "cssselect                         1.2.0\n",
      "cycler                            0.11.0\n",
      "cytoolz                           1.0.1\n",
      "dask                              2025.2.0\n",
      "dask-expr                         2.0.0\n",
      "datashader                        0.18.0\n",
      "debugpy                           1.8.11\n",
      "decorator                         5.1.1\n",
      "defusedxml                        0.7.1\n",
      "Deprecated                        1.2.13\n",
      "diff-match-patch                  20200713\n",
      "dill                              0.3.8\n",
      "distributed                       2025.2.0\n",
      "distro                            1.9.0\n",
      "docstring-to-markdown             0.11\n",
      "docutils                          0.21.2\n",
      "et_xmlfile                        1.1.0\n",
      "evalidate                         2.0.3\n",
      "executing                         0.8.3\n",
      "fastapi                           0.118.0\n",
      "fastjsonschema                    2.20.0\n",
      "ffmpy                             0.6.1\n",
      "filelock                          3.17.0\n",
      "flake8                            7.1.1\n",
      "Flask                             3.1.0\n",
      "fonttools                         4.55.3\n",
      "frozendict                        2.4.2\n",
      "frozenlist                        1.5.0\n",
      "fsspec                            2025.3.2\n",
      "gitdb                             4.0.7\n",
      "GitPython                         3.1.43\n",
      "gmpy2                             2.2.1\n",
      "gradio                            5.49.0\n",
      "gradio_client                     1.13.3\n",
      "greenlet                          3.1.1\n",
      "groovy                            0.1.2\n",
      "h11                               0.16.0\n",
      "h5py                              3.12.1\n",
      "HeapDict                          1.0.1\n",
      "holoviews                         1.20.2\n",
      "httpcore                          1.0.9\n",
      "httpx                             0.28.1\n",
      "huggingface-hub                   0.35.3\n",
      "hvplot                            0.11.3\n",
      "hyperlink                         21.0.0\n",
      "idna                              3.7\n",
      "imageio                           2.37.0\n",
      "imagesize                         1.4.1\n",
      "imbalanced-learn                  0.13.0\n",
      "importlib_metadata                8.5.0\n",
      "incremental                       24.7.2\n",
      "inflection                        0.5.1\n",
      "iniconfig                         1.1.1\n",
      "intake                            2.0.7\n",
      "intervaltree                      3.1.0\n",
      "ipykernel                         6.29.5\n",
      "ipython                           8.30.0\n",
      "ipywidgets                        8.1.5\n",
      "isort                             6.0.1\n",
      "itemadapter                       0.3.0\n",
      "itemloaders                       1.3.2\n",
      "itsdangerous                      2.2.0\n",
      "jaraco.classes                    3.2.1\n",
      "jaraco.context                    0.0.0\n",
      "jaraco.functools                  4.1.0\n",
      "jedi                              0.19.2\n",
      "jellyfish                         1.1.3\n",
      "Jinja2                            3.1.6\n",
      "jinja2-time                       0.2.0\n",
      "jmespath                          1.0.1\n",
      "joblib                            1.4.2\n",
      "json5                             0.9.25\n",
      "jsonpatch                         1.33\n",
      "jsonpointer                       2.1\n",
      "jsonschema                        4.23.0\n",
      "jsonschema-specifications         2023.7.1\n",
      "jupyter                           1.1.1\n",
      "jupyter_client                    8.6.3\n",
      "jupyter-console                   6.6.3\n",
      "jupyter_core                      5.7.2\n",
      "jupyter-events                    0.12.0\n",
      "jupyter-lsp                       2.2.5\n",
      "jupyter_server                    2.15.0\n",
      "jupyter_server_terminals          0.5.3\n",
      "jupyterlab                        4.3.4\n",
      "jupyterlab_pygments               0.3.0\n",
      "jupyterlab_server                 2.27.3\n",
      "jupyterlab_widgets                3.0.13\n",
      "keyring                           25.6.0\n",
      "kiwisolver                        1.4.8\n",
      "lazy_loader                       0.4\n",
      "lckr_jupyterlab_variableinspector 3.2.4\n",
      "libarchive-c                      5.1\n",
      "libmambapy                        2.0.5\n",
      "lief                              0.16.4\n",
      "linkify-it-py                     2.0.0\n",
      "llvmlite                          0.44.0\n",
      "lmdb                              1.6.2\n",
      "locket                            1.0.0\n",
      "lxml                              5.3.0\n",
      "lz4                               4.3.2\n",
      "Markdown                          3.8\n",
      "markdown-it-py                    2.2.0\n",
      "MarkupSafe                        3.0.2\n",
      "matplotlib                        3.10.0\n",
      "matplotlib-inline                 0.1.6\n",
      "mccabe                            0.7.0\n",
      "mdit-py-plugins                   0.3.0\n",
      "mdurl                             0.1.0\n",
      "menuinst                          2.2.0\n",
      "mistune                           3.1.2\n",
      "mkl_fft                           1.3.11\n",
      "mkl_random                        1.2.8\n",
      "mkl-service                       2.4.0\n",
      "more-itertools                    10.3.0\n",
      "mpmath                            1.3.0\n",
      "msgpack                           1.0.3\n",
      "multidict                         6.1.0\n",
      "multipledispatch                  0.6.0\n",
      "mypy                              1.14.1\n",
      "mypy_extensions                   1.0.0\n",
      "narwhals                          1.31.0\n",
      "navigator-updater                 0.5.1\n",
      "nbclient                          0.10.2\n",
      "nbconvert                         7.16.6\n",
      "nbformat                          5.10.4\n",
      "nest_asyncio                      1.6.0\n",
      "networkx                          3.4.2\n",
      "nltk                              3.9.1\n",
      "notebook                          7.3.2\n",
      "notebook_shim                     0.2.4\n",
      "numba                             0.61.0\n",
      "numexpr                           2.10.1\n",
      "numpy                             2.1.3\n",
      "numpydoc                          1.7.0\n",
      "openpyxl                          3.1.5\n",
      "orjson                            3.11.3\n",
      "overrides                         7.4.0\n",
      "packaging                         24.2\n",
      "pandas                            2.2.3\n",
      "pandocfilters                     1.5.0\n",
      "panel                             1.7.0\n",
      "param                             2.2.0\n",
      "parsel                            1.8.1\n",
      "parso                             0.8.4\n",
      "partd                             1.4.2\n",
      "pathspec                          0.10.3\n",
      "patsy                             1.0.1\n",
      "pexpect                           4.8.0\n",
      "pickleshare                       0.7.5\n",
      "pillow                            11.1.0\n",
      "pip                               25.2\n",
      "pkce                              1.0.3\n",
      "pkginfo                           1.12.0\n",
      "platformdirs                      4.3.7\n",
      "plotly                            5.24.1\n",
      "pluggy                            1.5.0\n",
      "ply                               3.11\n",
      "poyo                              0.5.0\n",
      "prometheus_client                 0.21.1\n",
      "prompt_toolkit                    3.0.43\n",
      "propcache                         0.3.1\n",
      "Protego                           0.4.0\n",
      "protobuf                          5.29.3\n",
      "psutil                            5.9.0\n",
      "ptyprocess                        0.7.0\n",
      "pure-eval                         0.2.2\n",
      "py-cpuinfo                        9.0.0\n",
      "pyarrow                           19.0.0\n",
      "pyasn1                            0.4.8\n",
      "pyasn1-modules                    0.2.8\n",
      "pycodestyle                       2.12.1\n",
      "pycosat                           0.6.6\n",
      "pycparser                         2.21\n",
      "pyct                              0.5.0\n",
      "pycurl                            7.45.6\n",
      "pydantic                          2.10.3\n",
      "pydantic_core                     2.27.1\n",
      "pydantic-settings                 2.6.1\n",
      "PyDispatcher                      2.0.5\n",
      "pydocstyle                        6.3.0\n",
      "pydub                             0.25.1\n",
      "pyerfa                            2.0.1.5\n",
      "pyflakes                          3.2.0\n",
      "PyGithub                          2.4.0\n",
      "Pygments                          2.19.1\n",
      "PyJWT                             2.10.1\n",
      "pylint                            3.3.5\n",
      "pylint-venv                       3.0.3\n",
      "pyls-spyder                       0.4.0\n",
      "PyNaCl                            1.5.0\n",
      "pyodbc                            5.2.0\n",
      "pyOpenSSL                         25.0.0\n",
      "pyparsing                         3.2.0\n",
      "PyQt5                             5.15.10\n",
      "PyQt5_sip                         12.13.0\n",
      "PyQtWebEngine                     5.15.6\n",
      "PySocks                           1.7.1\n",
      "pytest                            8.3.4\n",
      "python-dateutil                   2.9.0.post0\n",
      "python-dotenv                     1.1.0\n",
      "python-json-logger                3.2.1\n",
      "python-lsp-black                  2.0.0\n",
      "python-lsp-jsonrpc                1.1.2\n",
      "python-lsp-server                 1.12.2\n",
      "python-multipart                  0.0.20\n",
      "python-slugify                    5.0.2\n",
      "pytoolconfig                      1.2.6\n",
      "pytz                              2024.1\n",
      "pyuca                             1.2\n",
      "pyviz_comms                       3.0.2\n",
      "PyWavelets                        1.8.0\n",
      "pywin32                           308\n",
      "pywin32-ctypes                    0.2.2\n",
      "pywinpty                          2.0.15\n",
      "PyYAML                            6.0.2\n",
      "pyzmq                             26.2.0\n",
      "QDarkStyle                        3.2.3\n",
      "qstylizer                         0.2.2\n",
      "QtAwesome                         1.4.0\n",
      "qtconsole                         5.6.1\n",
      "QtPy                              2.4.1\n",
      "queuelib                          1.6.2\n",
      "readchar                          4.0.5\n",
      "referencing                       0.30.2\n",
      "regex                             2024.11.6\n",
      "requests                          2.32.3\n",
      "requests-file                     2.1.0\n",
      "requests-toolbelt                 1.0.0\n",
      "rfc3339_validator                 0.1.4\n",
      "rfc3986_validator                 0.1.1\n",
      "rich                              13.9.4\n",
      "roman-numerals-py                 3.1.0\n",
      "rope                              1.13.0\n",
      "rpds-py                           0.22.3\n",
      "Rtree                             1.0.1\n",
      "ruamel.yaml                       0.18.10\n",
      "ruamel.yaml.clib                  0.2.12\n",
      "ruamel_yaml_conda                 0.17.21\n",
      "ruff                              0.13.3\n",
      "s3fs                              2025.3.2\n",
      "safehttpx                         0.1.6\n",
      "scikit-image                      0.25.0\n",
      "scikit-learn                      1.6.1\n",
      "scipy                             1.15.3\n",
      "Scrapy                            2.12.0\n",
      "seaborn                           0.13.2\n",
      "semantic-version                  2.10.0\n",
      "semver                            3.0.2\n",
      "Send2Trash                        1.8.2\n",
      "service-identity                  24.2.0\n",
      "setuptools                        72.1.0\n",
      "shellingham                       1.5.0\n",
      "sip                               6.7.12\n",
      "six                               1.17.0\n",
      "sklearn-compat                    0.1.3\n",
      "smmap                             4.0.0\n",
      "sniffio                           1.3.0\n",
      "snowballstemmer                   2.2.0\n",
      "sortedcontainers                  2.4.0\n",
      "soupsieve                         2.5\n",
      "Sphinx                            8.2.3\n",
      "sphinxcontrib-applehelp           2.0.0\n",
      "sphinxcontrib-devhelp             2.0.0\n",
      "sphinxcontrib-htmlhelp            2.1.0\n",
      "sphinxcontrib-jsmath              1.0.1\n",
      "sphinxcontrib-qthelp              2.0.0\n",
      "sphinxcontrib-serializinghtml     2.0.0\n",
      "spyder                            6.0.7\n",
      "spyder-kernels                    3.0.5\n",
      "SQLAlchemy                        2.0.39\n",
      "stack-data                        0.2.0\n",
      "starlette                         0.48.0\n",
      "statsmodels                       0.14.4\n",
      "streamlit                         1.45.1\n",
      "superqt                           0.7.3\n",
      "sympy                             1.13.3\n",
      "tables                            3.10.2\n",
      "tabulate                          0.9.0\n",
      "tblib                             3.1.0\n",
      "tenacity                          9.0.0\n",
      "terminado                         0.17.1\n",
      "text-unidecode                    1.3\n",
      "textdistance                      4.6.3\n",
      "threadpoolctl                     3.5.0\n",
      "three-merge                       0.1.1\n",
      "tifffile                          2025.2.18\n",
      "tinycss2                          1.4.0\n",
      "tldextract                        5.1.2\n",
      "toml                              0.10.2\n",
      "tomli                             2.0.1\n",
      "tomlkit                           0.13.2\n",
      "toolz                             1.0.0\n",
      "tornado                           6.5.1\n",
      "tqdm                              4.67.1\n",
      "traitlets                         5.14.3\n",
      "truststore                        0.10.0\n",
      "Twisted                           24.11.0\n",
      "twisted-iocpsupport               1.0.2\n",
      "typer                             0.19.2\n",
      "typing_extensions                 4.12.2\n",
      "tzdata                            2025.2\n",
      "uc-micro-py                       1.0.1\n",
      "ujson                             5.10.0\n",
      "Unidecode                         1.3.8\n",
      "urllib3                           2.3.0\n",
      "uvicorn                           0.37.0\n",
      "w3lib                             2.1.2\n",
      "watchdog                          4.0.2\n",
      "wcwidth                           0.2.5\n",
      "webencodings                      0.5.1\n",
      "websocket-client                  1.8.0\n",
      "websockets                        15.0.1\n",
      "Werkzeug                          3.1.3\n",
      "whatthepatch                      1.0.2\n",
      "wheel                             0.45.1\n",
      "widgetsnbextension                4.0.13\n",
      "win_inet_pton                     1.1.0\n",
      "wrapt                             1.17.0\n",
      "xarray                            2025.4.0\n",
      "xlwings                           0.32.1\n",
      "xyzservices                       2022.9.0\n",
      "yapf                              0.40.2\n",
      "yarl                              1.18.0\n",
      "zict                              3.0.0\n",
      "zipp                              3.21.0\n",
      "zope.interface                    7.1.1\n",
      "zstandard                         0.23.0\n",
      "Note: you may need to restart the kernel to use updated packages.\n"
     ]
    }
   ],
   "source": [
    "pip list # number of available modules in numpy"
   ]
  },
  {
   "cell_type": "code",
   "execution_count": null,
   "id": "f15355c9-9aeb-4dfa-9514-d3b751b42212",
   "metadata": {},
   "outputs": [],
   "source": []
  },
  {
   "cell_type": "markdown",
   "id": "d9ed9883-c82b-488a-b123-1c839f0a1693",
   "metadata": {},
   "source": [
    "# a) array()\n",
    "# This function is used for traditional python object into ndarray object.\n",
    "## Syntax: Varname = numpy.array(object,dtype)"
   ]
  },
  {
   "cell_type": "code",
   "execution_count": 6,
   "id": "12ea4bf2-f068-470a-96b7-302d68232414",
   "metadata": {},
   "outputs": [],
   "source": [
    "import numpy as np"
   ]
  },
  {
   "cell_type": "code",
   "execution_count": 7,
   "id": "1629550c-be9d-4d73-b44c-c9740ef71e99",
   "metadata": {},
   "outputs": [
    {
     "name": "stdout",
     "output_type": "stream",
     "text": [
      "100 <class 'int'> 140718393049096\n",
      "----------------\n",
      "-----------------\n",
      "100 <class 'numpy.ndarray'> 2230041941776\n"
     ]
    }
   ],
   "source": [
    "a = 100\n",
    "print(a,type(a),id(a))\n",
    "print(\"----------------\")\n",
    "b = np.array(a)\n",
    "print(\"-----------------\")\n",
    "print(b,type(b),id(b))"
   ]
  },
  {
   "cell_type": "code",
   "execution_count": 8,
   "id": "df2696b7-6c10-4bd8-8343-6fb968ff91dd",
   "metadata": {},
   "outputs": [
    {
     "name": "stdout",
     "output_type": "stream",
     "text": [
      "0\n"
     ]
    }
   ],
   "source": [
    "print(b.ndim)"
   ]
  },
  {
   "cell_type": "code",
   "execution_count": 9,
   "id": "f9f4ff28-2859-43a4-bd6e-2ab1663f370f",
   "metadata": {},
   "outputs": [
    {
     "name": "stdout",
     "output_type": "stream",
     "text": [
      "()\n"
     ]
    }
   ],
   "source": [
    "print(b.shape)"
   ]
  },
  {
   "cell_type": "code",
   "execution_count": 10,
   "id": "6328af16-5199-4b19-8290-7b5a78f84920",
   "metadata": {},
   "outputs": [
    {
     "name": "stdout",
     "output_type": "stream",
     "text": [
      "1\n"
     ]
    }
   ],
   "source": [
    "print(b.size)"
   ]
  },
  {
   "cell_type": "code",
   "execution_count": 11,
   "id": "2fbd564b-94aa-4634-82b6-c2c27ae74b6e",
   "metadata": {},
   "outputs": [
    {
     "name": "stdout",
     "output_type": "stream",
     "text": [
      "int64\n"
     ]
    }
   ],
   "source": [
    "print(b.dtype)"
   ]
  },
  {
   "cell_type": "code",
   "execution_count": null,
   "id": "243b92a5-c291-43d5-b159-59db8363eae2",
   "metadata": {},
   "outputs": [],
   "source": []
  },
  {
   "cell_type": "code",
   "execution_count": 15,
   "id": "fb70fad3-4996-4378-91d2-d6a4960dd5b7",
   "metadata": {},
   "outputs": [
    {
     "name": "stdout",
     "output_type": "stream",
     "text": [
      "4.6 <class 'float'> 2230042021520\n",
      "----------------\n",
      "4.6 <class 'numpy.ndarray'> 2230045315248\n",
      "-----------------\n",
      "Dimension= 0\n",
      "Shape= ()\n",
      "Size= 1\n",
      "Internal Datatype= float64\n"
     ]
    }
   ],
   "source": [
    "a = 4.6\n",
    "print(a,type(a),id(a))\n",
    "print(\"----------------\")\n",
    "b = np.array(a)\n",
    "print(b,type(b),id(b))\n",
    "print(\"-----------------\")\n",
    "print(\"Dimension=\",b.ndim)\n",
    "print(\"Shape=\",b.shape)\n",
    "print(\"Size=\",b.size)\n",
    "print(\"Internal Datatype=\",b.dtype)"
   ]
  },
  {
   "cell_type": "code",
   "execution_count": 16,
   "id": "b567c850-314b-48d9-8493-34c2f210d58e",
   "metadata": {},
   "outputs": [
    {
     "name": "stdout",
     "output_type": "stream",
     "text": [
      "(2+3j) <class 'complex'> 2230044652720\n",
      "----------------\n",
      "(2+3j) <class 'numpy.ndarray'> 2230045312944\n",
      "-----------------\n",
      "Dimension= 0\n",
      "Shape= ()\n",
      "Size= 1\n",
      "Internal Datatype= complex128\n"
     ]
    }
   ],
   "source": [
    "a = 2+3j\n",
    "print(a,type(a),id(a))\n",
    "print(\"----------------\")\n",
    "b = np.array(a)\n",
    "print(b,type(b),id(b))\n",
    "print(\"-----------------\")\n",
    "print(\"Dimension=\",b.ndim)\n",
    "print(\"Shape=\",b.shape)\n",
    "print(\"Size=\",b.size)\n",
    "print(\"Internal Datatype=\",b.dtype)"
   ]
  },
  {
   "cell_type": "code",
   "execution_count": 17,
   "id": "6d1d3c75-2837-42e0-a3d8-d7b2d9d08ab2",
   "metadata": {},
   "outputs": [
    {
     "name": "stdout",
     "output_type": "stream",
     "text": [
      "Vinay <class 'str'> 2230045212608\n",
      "----------------\n",
      "Vinay <class 'numpy.ndarray'> 2230045314768\n",
      "-----------------\n",
      "Dimension= 0\n",
      "Shape= ()\n",
      "Size= 1\n",
      "Internal Datatype= <U5\n"
     ]
    }
   ],
   "source": [
    "a = \"Vinay\"\n",
    "print(a,type(a),id(a))\n",
    "print(\"----------------\")\n",
    "b = np.array(a)\n",
    "print(b,type(b),id(b))\n",
    "print(\"-----------------\")\n",
    "print(\"Dimension=\",b.ndim)\n",
    "print(\"Shape=\",b.shape)\n",
    "print(\"Size=\",b.size)\n",
    "print(\"Internal Datatype=\",b.dtype)"
   ]
  },
  {
   "cell_type": "code",
   "execution_count": null,
   "id": "cff5597d-8887-4225-ae3b-2082467fb306",
   "metadata": {},
   "outputs": [],
   "source": []
  },
  {
   "cell_type": "code",
   "execution_count": 18,
   "id": "2ac0d1e2-f754-45ba-866c-091b68973bdd",
   "metadata": {},
   "outputs": [
    {
     "name": "stdout",
     "output_type": "stream",
     "text": [
      "range(0, 7) <class 'range'> 2230045395296\n"
     ]
    }
   ],
   "source": [
    "r = range(7)\n",
    "print(r,type(r),id(r))"
   ]
  },
  {
   "cell_type": "code",
   "execution_count": 19,
   "id": "40b7b1b4-56f6-4643-b754-cacd000cc872",
   "metadata": {},
   "outputs": [
    {
     "name": "stdout",
     "output_type": "stream",
     "text": [
      "0\t1\t2\t3\t4\t5\t6\t"
     ]
    }
   ],
   "source": [
    "for val in r:\n",
    "    print(val,end=\"\\t\")"
   ]
  },
  {
   "cell_type": "code",
   "execution_count": 20,
   "id": "0813b442-029a-4672-823a-576f8f5ba17f",
   "metadata": {},
   "outputs": [
    {
     "name": "stdout",
     "output_type": "stream",
     "text": [
      "0\t1\t2\t3\t4\t5\t6\t7\t8\t9\t10\t11\t12\t13\t14\t15\t16\t17\t18\t19\t20\t"
     ]
    }
   ],
   "source": [
    "for val in range(0,21):\n",
    "    print(val,end=\"\\t\")"
   ]
  },
  {
   "cell_type": "code",
   "execution_count": 21,
   "id": "d9157ce3-46eb-45cc-9aca-dea26b9d180a",
   "metadata": {},
   "outputs": [
    {
     "name": "stdout",
     "output_type": "stream",
     "text": [
      "0\t2\t4\t6\t8\t10\t12\t14\t16\t18\t20\t"
     ]
    }
   ],
   "source": [
    "for val in range(0,21,2):\n",
    "    print(val,end=\"\\t\")"
   ]
  },
  {
   "cell_type": "code",
   "execution_count": 23,
   "id": "1c926250-70c7-4d96-8c8a-74e8ea3f81d1",
   "metadata": {},
   "outputs": [
    {
     "name": "stdout",
     "output_type": "stream",
     "text": [
      "[ 0  2  4  6  8 10 12 14 16 18 20 22 24 26 28 30] <class 'numpy.ndarray'>\n"
     ]
    }
   ],
   "source": [
    "r = range(0,31,2)\n",
    "a = np.array(r)\n",
    "print(a,type(a))"
   ]
  },
  {
   "cell_type": "code",
   "execution_count": 25,
   "id": "d3ffe438-054c-4517-a8cd-d62ddd7e55f5",
   "metadata": {},
   "outputs": [
    {
     "name": "stdout",
     "output_type": "stream",
     "text": [
      "[ 0  3  6  9 12 15 18 21 24 27 30] <class 'numpy.ndarray'>\n"
     ]
    }
   ],
   "source": [
    "r = range(0,31,3)\n",
    "a = np.array(r)\n",
    "print(a,type(a))"
   ]
  },
  {
   "cell_type": "code",
   "execution_count": 26,
   "id": "3d07c45a-788c-4eb4-b052-199ff887b2d6",
   "metadata": {},
   "outputs": [
    {
     "name": "stdout",
     "output_type": "stream",
     "text": [
      "[10 15 20 25 30 35 40 45 50] <class 'numpy.ndarray'>\n"
     ]
    }
   ],
   "source": [
    "r = range(10,51,5)\n",
    "a = np.array(r)\n",
    "print(a,type(a))"
   ]
  },
  {
   "cell_type": "code",
   "execution_count": 28,
   "id": "40cbb46b-425b-4f09-a365-f8f21453bba3",
   "metadata": {},
   "outputs": [
    {
     "name": "stdout",
     "output_type": "stream",
     "text": [
      "[10 15 20 25 30 35 40 45 50] <class 'numpy.ndarray'>\n",
      "-----------------\n",
      "Dimension= 1\n",
      "Shape= (9,)\n",
      "Size= 9\n",
      "Internal Datatype= int64\n"
     ]
    }
   ],
   "source": [
    "r = range(10,51,5)\n",
    "b = np.array(r)\n",
    "print(a,type(b))\n",
    "print(\"-----------------\")\n",
    "print(\"Dimension=\",b.ndim)\n",
    "print(\"Shape=\",b.shape)\n",
    "print(\"Size=\",b.size)\n",
    "print(\"Internal Datatype=\",b.dtype)"
   ]
  },
  {
   "cell_type": "code",
   "execution_count": 29,
   "id": "6d94f326-9ffa-4cbd-a2aa-4f3efc816535",
   "metadata": {},
   "outputs": [
    {
     "name": "stdout",
     "output_type": "stream",
     "text": [
      "[0. 1. 2. 3. 4. 5.] <class 'numpy.ndarray'>\n"
     ]
    }
   ],
   "source": [
    "a = np.array(range(6),dtype=float)\n",
    "print(a,type(a))"
   ]
  },
  {
   "cell_type": "code",
   "execution_count": 38,
   "id": "55c7fc92-ea27-4be5-85d4-e17fc03858a1",
   "metadata": {},
   "outputs": [
    {
     "name": "stdout",
     "output_type": "stream",
     "text": [
      "[[ 0  1  2  3]\n",
      " [ 4  5  6  7]\n",
      " [ 8  9 10 11]\n",
      " [12 13 14 15]] <class 'numpy.ndarray'>\n",
      "-----------------\n",
      "Dimension= 1\n",
      "Shape= (9,)\n",
      "Size= 9\n",
      "Internal Datatype= int64\n"
     ]
    }
   ],
   "source": [
    "a = np.array(range(0,16))\n",
    "a.shape=(4,4)\n",
    "print(a,type(a))\n",
    "print(\"-----------------\")\n",
    "print(\"Dimension=\",b.ndim)\n",
    "print(\"Shape=\",b.shape)\n",
    "print(\"Size=\",b.size)\n",
    "print(\"Internal Datatype=\",b.dtype)"
   ]
  },
  {
   "cell_type": "code",
   "execution_count": 44,
   "id": "b0f55648-b5f9-420e-aa68-cf1936b9945e",
   "metadata": {},
   "outputs": [
    {
     "name": "stdout",
     "output_type": "stream",
     "text": [
      "[[ 0  1]\n",
      " [ 2  3]\n",
      " [ 4  5]\n",
      " [ 6  7]\n",
      " [ 8  9]\n",
      " [10 11]\n",
      " [12 13]\n",
      " [14 15]] <class 'numpy.ndarray'>\n",
      "-----------------\n",
      "Dimension= 2\n",
      "Shape= (8, 2)\n",
      "Size= 16\n",
      "Internal Datatype= int64\n"
     ]
    }
   ],
   "source": [
    "a = np.array(range(0,16))\n",
    "a.shape=(8,2)\n",
    "print(a,type(a))\n",
    "print(\"-----------------\")\n",
    "print(\"Dimension=\",a.ndim)\n",
    "print(\"Shape=\",a.shape)\n",
    "print(\"Size=\",a.size)\n",
    "print(\"Internal Datatype=\",a.dtype)"
   ]
  },
  {
   "cell_type": "code",
   "execution_count": 45,
   "id": "b17e1546-68ae-45df-b1ec-36059d1d130f",
   "metadata": {},
   "outputs": [
    {
     "name": "stdout",
     "output_type": "stream",
     "text": [
      "[[ 0  1  2  3  4  5  6  7]\n",
      " [ 8  9 10 11 12 13 14 15]] <class 'numpy.ndarray'>\n",
      "-----------------\n",
      "Dimension= 2\n",
      "Shape= (2, 8)\n",
      "Size= 16\n",
      "Internal Datatype= int64\n"
     ]
    }
   ],
   "source": [
    "a = np.array(range(0,16))\n",
    "a.shape=(2,8)\n",
    "print(a,type(a))\n",
    "print(\"-----------------\")\n",
    "print(\"Dimension=\",a.ndim)\n",
    "print(\"Shape=\",a.shape)\n",
    "print(\"Size=\",a.size)\n",
    "print(\"Internal Datatype=\",a.dtype)"
   ]
  },
  {
   "cell_type": "code",
   "execution_count": 41,
   "id": "083123d7-972f-4365-aae6-d77a7d4d1f3b",
   "metadata": {},
   "outputs": [],
   "source": [
    "a.shape=(16,) # Flatten the list"
   ]
  },
  {
   "cell_type": "code",
   "execution_count": 42,
   "id": "9d9a15bc-f176-4b2d-a7a2-f9afc6be0675",
   "metadata": {},
   "outputs": [
    {
     "name": "stdout",
     "output_type": "stream",
     "text": [
      "[ 0  1  2  3  4  5  6  7  8  9 10 11 12 13 14 15]\n"
     ]
    }
   ],
   "source": [
    "print(a)"
   ]
  },
  {
   "cell_type": "code",
   "execution_count": null,
   "id": "f35dd6ac-c1f3-4927-b76c-10d161a0f4fe",
   "metadata": {},
   "outputs": [],
   "source": []
  },
  {
   "cell_type": "markdown",
   "id": "f28dd61a-d6e6-4314-b5b6-6bceb2beff14",
   "metadata": {},
   "source": [
    "# b) arange()\n",
    "# arange() is used for generating range of values with equal interval of values.\n",
    "## Syntax-1: Varname = numpy.arange(Start) ---> It will generate range of value 0 to start -1\n",
    "## Syntax-2: Varname = numpy.arange(Start,Stop) ---> It will generate range of value start to stop -1\n",
    "## Syntax-3: Varname = numpy.arange(Start,Stop,Step) --> It will generate range of value start to stop -1 and maintaining equal interval steps.\n",
    "\n",
    "# arange() by default creates an object of ndarray with 1D array only. it can't build 2D and ND arrays.\n",
    "## To build 2D and ND arrays from arange() function, we use reshape() and shape attribute."
   ]
  },
  {
   "cell_type": "code",
   "execution_count": 47,
   "id": "2d381bdc-376c-48b2-bc25-2cdc02afe54b",
   "metadata": {},
   "outputs": [
    {
     "name": "stdout",
     "output_type": "stream",
     "text": [
      "[0 1 2 3 4 5 6 7 8 9] <class 'numpy.ndarray'>\n",
      "-----------------\n",
      "Dimension= 1\n",
      "Shape= (10,)\n",
      "Size= 10\n",
      "Internal Datatype= int64\n"
     ]
    }
   ],
   "source": [
    "a = np.arange(10)\n",
    "print(a,type(a))\n",
    "print(\"-----------------\")\n",
    "print(\"Dimension=\",a.ndim)\n",
    "print(\"Shape=\",a.shape)\n",
    "print(\"Size=\",a.size)\n",
    "print(\"Internal Datatype=\",a.dtype)"
   ]
  },
  {
   "cell_type": "code",
   "execution_count": 49,
   "id": "d9448bec-f6de-45f0-bd4a-448d2e7fe414",
   "metadata": {},
   "outputs": [
    {
     "name": "stdout",
     "output_type": "stream",
     "text": [
      "[[0 1]\n",
      " [2 3]\n",
      " [4 5]\n",
      " [6 7]\n",
      " [8 9]] <class 'numpy.ndarray'>\n",
      "-----------------\n",
      "Dimension= 2\n",
      "Shape= (5, 2)\n",
      "Size= 10\n",
      "Internal Datatype= int64\n"
     ]
    }
   ],
   "source": [
    "a.shape=(5,2)\n",
    "print(a,type(a))\n",
    "print(\"-----------------\")\n",
    "print(\"Dimension=\",a.ndim)\n",
    "print(\"Shape=\",a.shape)\n",
    "print(\"Size=\",a.size)\n",
    "print(\"Internal Datatype=\",a.dtype)"
   ]
  },
  {
   "cell_type": "code",
   "execution_count": 51,
   "id": "619a329e-8b3c-4960-ae0b-2156d726a4b8",
   "metadata": {},
   "outputs": [
    {
     "name": "stdout",
     "output_type": "stream",
     "text": [
      "[10 11 12 13 14 15 16 17 18 19 20 21] <class 'numpy.ndarray'>\n",
      "-----------------\n",
      "Dimension= 1\n",
      "Shape= (12,)\n",
      "Size= 12\n",
      "Internal Datatype= int64\n"
     ]
    }
   ],
   "source": [
    "a = np.arange(10,22)\n",
    "print(a,type(a))\n",
    "print(\"-----------------\")\n",
    "print(\"Dimension=\",a.ndim)\n",
    "print(\"Shape=\",a.shape)\n",
    "print(\"Size=\",a.size)\n",
    "print(\"Internal Datatype=\",a.dtype)"
   ]
  },
  {
   "cell_type": "code",
   "execution_count": 53,
   "id": "fb0046c1-b712-4870-baaf-c0812bc5f645",
   "metadata": {},
   "outputs": [
    {
     "name": "stdout",
     "output_type": "stream",
     "text": [
      "[[[10 11 12]\n",
      "  [13 14 15]]\n",
      "\n",
      " [[16 17 18]\n",
      "  [19 20 21]]] <class 'numpy.ndarray'>\n",
      "-----------------\n",
      "Dimension= 3\n",
      "Shape= (2, 2, 3)\n",
      "Size= 12\n",
      "Internal Datatype= int64\n"
     ]
    }
   ],
   "source": [
    "a.shape=(2,2,3)\n",
    "print(a,type(a))\n",
    "print(\"-----------------\")\n",
    "print(\"Dimension=\",a.ndim)\n",
    "print(\"Shape=\",a.shape)\n",
    "print(\"Size=\",a.size)\n",
    "print(\"Internal Datatype=\",a.dtype)"
   ]
  },
  {
   "cell_type": "code",
   "execution_count": 54,
   "id": "4c317631-db42-4d46-8ee7-a9df046906df",
   "metadata": {},
   "outputs": [
    {
     "name": "stdout",
     "output_type": "stream",
     "text": [
      "[[[10 11 12]\n",
      "  [13 14 15]]\n",
      "\n",
      " [[16 17 18]\n",
      "  [19 20 21]]] <class 'numpy.ndarray'>\n"
     ]
    }
   ],
   "source": [
    "a = np.arange(10,22).reshape(2,2,3)\n",
    "print(a,type(a))"
   ]
  },
  {
   "cell_type": "code",
   "execution_count": 55,
   "id": "1be2b1a5-79d5-4b7e-a1e1-d9482a26ac4d",
   "metadata": {},
   "outputs": [
    {
     "name": "stdout",
     "output_type": "stream",
     "text": [
      "[[[10 11]\n",
      "  [12 13]\n",
      "  [14 15]]\n",
      "\n",
      " [[16 17]\n",
      "  [18 19]\n",
      "  [20 21]]] <class 'numpy.ndarray'>\n"
     ]
    }
   ],
   "source": [
    "a = np.arange(10,22).reshape(2,3,2)\n",
    "print(a,type(a))"
   ]
  },
  {
   "cell_type": "code",
   "execution_count": 56,
   "id": "991f08af-b7a2-44d4-bf3c-499a7a9d6699",
   "metadata": {},
   "outputs": [
    {
     "name": "stdout",
     "output_type": "stream",
     "text": [
      "[[10 11 12]\n",
      " [13 14 15]\n",
      " [16 17 18]\n",
      " [19 20 21]] <class 'numpy.ndarray'>\n",
      "-----------------\n",
      "Dimension= 2\n",
      "Shape= (4, 3)\n",
      "Size= 12\n",
      "Internal Datatype= int64\n"
     ]
    }
   ],
   "source": [
    "a = np.arange(10,22).reshape(4,3)\n",
    "print(a,type(a))\n",
    "print(\"-----------------\")\n",
    "print(\"Dimension=\",a.ndim)\n",
    "print(\"Shape=\",a.shape)\n",
    "print(\"Size=\",a.size)\n",
    "print(\"Internal Datatype=\",a.dtype)"
   ]
  },
  {
   "cell_type": "code",
   "execution_count": 58,
   "id": "139cb4f5-c407-494b-9b8b-086dd0f26684",
   "metadata": {},
   "outputs": [
    {
     "name": "stdout",
     "output_type": "stream",
     "text": [
      "[ 10  15  20  25  30  35  40  45  50  55  60  65  70  75  80  85  90  95\n",
      " 100 105] <class 'numpy.ndarray'>\n"
     ]
    }
   ],
   "source": [
    "a = np.arange(10,106,5)\n",
    "print(a,type(a))"
   ]
  },
  {
   "cell_type": "code",
   "execution_count": 59,
   "id": "515af2ca-bf8e-4e63-992d-fed0d28971a5",
   "metadata": {},
   "outputs": [
    {
     "name": "stdout",
     "output_type": "stream",
     "text": [
      "[[ 10  15  20  25  30]\n",
      " [ 35  40  45  50  55]\n",
      " [ 60  65  70  75  80]\n",
      " [ 85  90  95 100 105]] <class 'numpy.ndarray'>\n",
      "-----------------\n",
      "Dimension= 2\n",
      "Shape= (4, 5)\n",
      "Size= 20\n",
      "Internal Datatype= int64\n"
     ]
    }
   ],
   "source": [
    "a = np.arange(10,106,5).reshape(4,5)\n",
    "print(a,type(a))\n",
    "print(\"-----------------\")\n",
    "print(\"Dimension=\",a.ndim)\n",
    "print(\"Shape=\",a.shape)\n",
    "print(\"Size=\",a.size)\n",
    "print(\"Internal Datatype=\",a.dtype)"
   ]
  },
  {
   "cell_type": "code",
   "execution_count": 60,
   "id": "0176f0d4-9e7e-4767-93a6-f2739f47f7cb",
   "metadata": {},
   "outputs": [
    {
     "name": "stdout",
     "output_type": "stream",
     "text": [
      "[[[ 10  15]\n",
      "  [ 20  25]\n",
      "  [ 30  35]\n",
      "  [ 40  45]\n",
      "  [ 50  55]]\n",
      "\n",
      " [[ 60  65]\n",
      "  [ 70  75]\n",
      "  [ 80  85]\n",
      "  [ 90  95]\n",
      "  [100 105]]] <class 'numpy.ndarray'>\n",
      "-----------------\n",
      "Dimension= 3\n",
      "Shape= (2, 5, 2)\n",
      "Size= 20\n",
      "Internal Datatype= int64\n"
     ]
    }
   ],
   "source": [
    "a = np.arange(10,106,5).reshape(2,5,2)\n",
    "print(a,type(a))\n",
    "print(\"-----------------\")\n",
    "print(\"Dimension=\",a.ndim)\n",
    "print(\"Shape=\",a.shape)\n",
    "print(\"Size=\",a.size)\n",
    "print(\"Internal Datatype=\",a.dtype)"
   ]
  },
  {
   "cell_type": "code",
   "execution_count": null,
   "id": "124b7bb0-7e3b-4c60-8390-088411de25dc",
   "metadata": {},
   "outputs": [],
   "source": []
  },
  {
   "cell_type": "markdown",
   "id": "d46ddf8e-8959-4a98-9ed1-b7e6d3030be2",
   "metadata": {},
   "source": [
    "# c) linspace()\n",
    "## It create an list of numbers that are evenly spaced between two values.\n",
    "## Syntax: varname = numpy.linspace(start,stop,num,endpoint,retstep,dtype)"
   ]
  },
  {
   "cell_type": "code",
   "execution_count": 61,
   "id": "7150a254-c907-4801-b193-344cca2e6e8d",
   "metadata": {},
   "outputs": [
    {
     "name": "stdout",
     "output_type": "stream",
     "text": [
      "[ 1.          1.18367347  1.36734694  1.55102041  1.73469388  1.91836735\n",
      "  2.10204082  2.28571429  2.46938776  2.65306122  2.83673469  3.02040816\n",
      "  3.20408163  3.3877551   3.57142857  3.75510204  3.93877551  4.12244898\n",
      "  4.30612245  4.48979592  4.67346939  4.85714286  5.04081633  5.2244898\n",
      "  5.40816327  5.59183673  5.7755102   5.95918367  6.14285714  6.32653061\n",
      "  6.51020408  6.69387755  6.87755102  7.06122449  7.24489796  7.42857143\n",
      "  7.6122449   7.79591837  7.97959184  8.16326531  8.34693878  8.53061224\n",
      "  8.71428571  8.89795918  9.08163265  9.26530612  9.44897959  9.63265306\n",
      "  9.81632653 10.        ] <class 'numpy.ndarray'>\n"
     ]
    }
   ],
   "source": [
    "a = np.linspace(1,10) # defaultly it give 50 equally generated values.\n",
    "print(a,type(a))"
   ]
  },
  {
   "cell_type": "code",
   "execution_count": 62,
   "id": "0c607858-3648-4d93-83e7-73f5dcf947ba",
   "metadata": {},
   "outputs": [
    {
     "name": "stdout",
     "output_type": "stream",
     "text": [
      "[ 1.    3.25  5.5   7.75 10.  ] <class 'numpy.ndarray'>\n"
     ]
    }
   ],
   "source": [
    "a = np.linspace(1,10,num=5) # defaultly it give 5 equally generated values.\n",
    "print(a,type(a))"
   ]
  },
  {
   "cell_type": "code",
   "execution_count": 64,
   "id": "9a369551-e0d7-4275-9efb-3077ccdd4bf9",
   "metadata": {},
   "outputs": [
    {
     "name": "stdout",
     "output_type": "stream",
     "text": [
      "[ 1.          1.64285714  2.28571429  2.92857143  3.57142857  4.21428571\n",
      "  4.85714286  5.5         6.14285714  6.78571429  7.42857143  8.07142857\n",
      "  8.71428571  9.35714286 10.        ] <class 'numpy.ndarray'>\n"
     ]
    }
   ],
   "source": [
    "a = np.linspace(1,10,num=15) # defaultly it give 15 equally generated values.\n",
    "print(a,type(a))"
   ]
  },
  {
   "cell_type": "code",
   "execution_count": 65,
   "id": "d6364a35-2c33-430a-853e-2c1a403d8b6d",
   "metadata": {},
   "outputs": [
    {
     "name": "stdout",
     "output_type": "stream",
     "text": [
      "[  1.           8.07142857  15.14285714  22.21428571  29.28571429\n",
      "  36.35714286  43.42857143  50.5         57.57142857  64.64285714\n",
      "  71.71428571  78.78571429  85.85714286  92.92857143 100.        ] <class 'numpy.ndarray'>\n"
     ]
    }
   ],
   "source": [
    "a = np.linspace(1,100,num=15) # defaultly it give 15 equally generated values.\n",
    "print(a,type(a))"
   ]
  },
  {
   "cell_type": "code",
   "execution_count": 66,
   "id": "e7e232b6-2907-4cbc-b87f-9c649415e63d",
   "metadata": {},
   "outputs": [
    {
     "name": "stdout",
     "output_type": "stream",
     "text": [
      "[ 1.  20.8 40.6 60.4 80.2] <class 'numpy.ndarray'>\n"
     ]
    }
   ],
   "source": [
    "a = np.linspace(1,100,num=5,endpoint=False) # Endpoint = False means it won't give last value.\n",
    "print(a,type(a))"
   ]
  },
  {
   "cell_type": "code",
   "execution_count": 68,
   "id": "c2ec32ed-60a0-440f-9c9a-1e907cda9ffe",
   "metadata": {},
   "outputs": [
    {
     "name": "stdout",
     "output_type": "stream",
     "text": [
      "(array([ 1. ,  7.6, 14.2, 20.8, 27.4, 34. , 40.6, 47.2, 53.8, 60.4, 67. ,\n",
      "       73.6, 80.2, 86.8, 93.4]), np.float64(6.6)) <class 'tuple'>\n"
     ]
    }
   ],
   "source": [
    "a = np.linspace(1,100,num=15,endpoint=False,retstep=True) \n",
    "print(a,type(a))"
   ]
  },
  {
   "cell_type": "code",
   "execution_count": 69,
   "id": "723df752-2ba1-4fa3-9b38-73a4aa4b7ae8",
   "metadata": {},
   "outputs": [
    {
     "name": "stdout",
     "output_type": "stream",
     "text": [
      "(array([ 1. , 10.9, 20.8, 30.7, 40.6, 50.5, 60.4, 70.3, 80.2, 90.1]), np.float64(9.9)) <class 'tuple'>\n"
     ]
    }
   ],
   "source": [
    "a = np.linspace(1,100,num=10,endpoint=False,retstep=True) \n",
    "print(a,type(a))"
   ]
  },
  {
   "cell_type": "code",
   "execution_count": 70,
   "id": "7f9c57fa-88da-481d-9b89-fcf7444e8e6a",
   "metadata": {},
   "outputs": [
    {
     "name": "stdout",
     "output_type": "stream",
     "text": [
      "(array([ 1, 10, 20, 30, 40, 50, 60, 70, 80, 90]), np.float64(9.9)) <class 'tuple'>\n"
     ]
    }
   ],
   "source": [
    "a = np.linspace(1,100,num=10,endpoint=False,retstep=True,dtype=int) \n",
    "print(a,type(a))"
   ]
  },
  {
   "cell_type": "code",
   "execution_count": 72,
   "id": "65baa852-6c1d-4357-9fdd-3feb34d3c7a3",
   "metadata": {},
   "outputs": [
    {
     "name": "stdout",
     "output_type": "stream",
     "text": [
      "(array([ 1,  7, 14, 20, 27, 34, 40, 47, 53, 60, 67, 73, 80, 86, 93]), np.float64(6.6)) <class 'tuple'>\n"
     ]
    }
   ],
   "source": [
    "a = np.linspace(1,100,num=15,endpoint=False,retstep=True,dtype=int) \n",
    "print(a,type(a))"
   ]
  },
  {
   "cell_type": "code",
   "execution_count": 73,
   "id": "7b75c57c-67df-437b-b9ca-8963a9b611f0",
   "metadata": {},
   "outputs": [
    {
     "name": "stdout",
     "output_type": "stream",
     "text": [
      "(array([  1,   8,  15,  22,  29,  36,  43,  50,  57,  64,  71,  78,  85,\n",
      "        92, 100]), np.float64(7.071428571428571)) <class 'tuple'>\n"
     ]
    }
   ],
   "source": [
    "a = np.linspace(1,100,num=15,retstep=True,dtype=int) \n",
    "print(a,type(a))"
   ]
  },
  {
   "cell_type": "code",
   "execution_count": null,
   "id": "c7100ed1-124c-49c6-a106-a0b4491b9008",
   "metadata": {},
   "outputs": [],
   "source": []
  },
  {
   "cell_type": "markdown",
   "id": "b66d4445-e49e-4a80-aede-8876564015ae",
   "metadata": {},
   "source": [
    "# d) Zeros()\n",
    "## It creates an array filled with zeros. You choose the shape (like how many rows and columns), and NumPy fills it with 0.0.\n",
    "## Syntax: varname = numpy.zeros(shape,dtype)"
   ]
  },
  {
   "cell_type": "code",
   "execution_count": 74,
   "id": "fa938cff-7af3-48c5-ac1c-0440c5756879",
   "metadata": {},
   "outputs": [
    {
     "name": "stdout",
     "output_type": "stream",
     "text": [
      "[0. 0. 0. 0. 0. 0.] <class 'numpy.ndarray'>\n"
     ]
    }
   ],
   "source": [
    "a = np.zeros(6)\n",
    "print(a,type(a))"
   ]
  },
  {
   "cell_type": "code",
   "execution_count": 75,
   "id": "5b73bc0e-4ed5-4802-9a8b-97237d46b4fd",
   "metadata": {},
   "outputs": [
    {
     "name": "stdout",
     "output_type": "stream",
     "text": [
      "[False False False False False False] <class 'numpy.ndarray'>\n"
     ]
    }
   ],
   "source": [
    "a = np.zeros(6,dtype=bool)\n",
    "print(a,type(a))"
   ]
  },
  {
   "cell_type": "code",
   "execution_count": 76,
   "id": "74b93615-3445-4a0c-9e17-d633d289a71b",
   "metadata": {},
   "outputs": [
    {
     "name": "stdout",
     "output_type": "stream",
     "text": [
      "[0 0 0 0 0 0] <class 'numpy.ndarray'>\n"
     ]
    }
   ],
   "source": [
    "a = np.zeros(6,dtype=int)\n",
    "print(a,type(a))"
   ]
  },
  {
   "cell_type": "code",
   "execution_count": 77,
   "id": "5447c2ed-abf3-4719-8a5e-09e0bb8c7b47",
   "metadata": {},
   "outputs": [
    {
     "name": "stdout",
     "output_type": "stream",
     "text": [
      "[[0 0]\n",
      " [0 0]] <class 'numpy.ndarray'>\n",
      "-----------------\n",
      "Dimension= 2\n",
      "Shape= (2, 2)\n",
      "Size= 4\n",
      "Internal Datatype= int64\n"
     ]
    }
   ],
   "source": [
    "a = np.zeros((2,2),dtype=int)\n",
    "print(a,type(a))\n",
    "print(\"-----------------\")\n",
    "print(\"Dimension=\",a.ndim)\n",
    "print(\"Shape=\",a.shape)\n",
    "print(\"Size=\",a.size)\n",
    "print(\"Internal Datatype=\",a.dtype)"
   ]
  },
  {
   "cell_type": "code",
   "execution_count": 78,
   "id": "21589a0e-b8b3-4b7e-9fc8-89a59a12d2bb",
   "metadata": {},
   "outputs": [
    {
     "name": "stdout",
     "output_type": "stream",
     "text": [
      "[[0. 0.]\n",
      " [0. 0.]] <class 'numpy.ndarray'>\n",
      "-----------------\n",
      "Dimension= 2\n",
      "Shape= (2, 2)\n",
      "Size= 4\n",
      "Internal Datatype= float64\n"
     ]
    }
   ],
   "source": [
    "a = np.zeros((2,2),dtype=float)\n",
    "print(a,type(a))\n",
    "print(\"-----------------\")\n",
    "print(\"Dimension=\",a.ndim)\n",
    "print(\"Shape=\",a.shape)\n",
    "print(\"Size=\",a.size)\n",
    "print(\"Internal Datatype=\",a.dtype)"
   ]
  },
  {
   "cell_type": "code",
   "execution_count": 79,
   "id": "1af0dde7-bb56-48d0-bb31-e8e3abd09bd7",
   "metadata": {},
   "outputs": [
    {
     "name": "stdout",
     "output_type": "stream",
     "text": [
      "[[False False]\n",
      " [False False]] <class 'numpy.ndarray'>\n",
      "-----------------\n",
      "Dimension= 2\n",
      "Shape= (2, 2)\n",
      "Size= 4\n",
      "Internal Datatype= bool\n"
     ]
    }
   ],
   "source": [
    "a = np.zeros((2,2),dtype=bool)\n",
    "print(a,type(a))\n",
    "print(\"-----------------\")\n",
    "print(\"Dimension=\",a.ndim)\n",
    "print(\"Shape=\",a.shape)\n",
    "print(\"Size=\",a.size)\n",
    "print(\"Internal Datatype=\",a.dtype)"
   ]
  },
  {
   "cell_type": "code",
   "execution_count": 80,
   "id": "09323284-89bc-437e-b03e-0000abd32185",
   "metadata": {},
   "outputs": [
    {
     "name": "stdout",
     "output_type": "stream",
     "text": [
      "[[[0 0 0]\n",
      "  [0 0 0]\n",
      "  [0 0 0]]\n",
      "\n",
      " [[0 0 0]\n",
      "  [0 0 0]\n",
      "  [0 0 0]]\n",
      "\n",
      " [[0 0 0]\n",
      "  [0 0 0]\n",
      "  [0 0 0]]] <class 'numpy.ndarray'>\n",
      "-----------------\n",
      "Dimension= 3\n",
      "Shape= (3, 3, 3)\n",
      "Size= 27\n",
      "Internal Datatype= int64\n"
     ]
    }
   ],
   "source": [
    "a = np.zeros((3,3,3),dtype=int)\n",
    "print(a,type(a))\n",
    "print(\"-----------------\")\n",
    "print(\"Dimension=\",a.ndim)\n",
    "print(\"Shape=\",a.shape)\n",
    "print(\"Size=\",a.size)\n",
    "print(\"Internal Datatype=\",a.dtype)"
   ]
  },
  {
   "cell_type": "code",
   "execution_count": 81,
   "id": "e67f06c8-92da-4269-84bd-062816e73090",
   "metadata": {},
   "outputs": [
    {
     "name": "stdout",
     "output_type": "stream",
     "text": [
      "[[[0 0 0]\n",
      "  [0 0 0]\n",
      "  [0 0 0]\n",
      "  [0 0 0]]\n",
      "\n",
      " [[0 0 0]\n",
      "  [0 0 0]\n",
      "  [0 0 0]\n",
      "  [0 0 0]]\n",
      "\n",
      " [[0 0 0]\n",
      "  [0 0 0]\n",
      "  [0 0 0]\n",
      "  [0 0 0]]] <class 'numpy.ndarray'>\n",
      "-----------------\n",
      "Dimension= 3\n",
      "Shape= (3, 4, 3)\n",
      "Size= 36\n",
      "Internal Datatype= int64\n"
     ]
    }
   ],
   "source": [
    "a = np.zeros((3,4,3),dtype=int)\n",
    "print(a,type(a))\n",
    "print(\"-----------------\")\n",
    "print(\"Dimension=\",a.ndim)\n",
    "print(\"Shape=\",a.shape)\n",
    "print(\"Size=\",a.size)\n",
    "print(\"Internal Datatype=\",a.dtype)"
   ]
  },
  {
   "cell_type": "code",
   "execution_count": 82,
   "id": "31c15ac6-7286-45c4-aad6-566cfc4d87d4",
   "metadata": {},
   "outputs": [
    {
     "name": "stdout",
     "output_type": "stream",
     "text": [
      "[[[False False False]\n",
      "  [False False False]\n",
      "  [False False False]\n",
      "  [False False False]]\n",
      "\n",
      " [[False False False]\n",
      "  [False False False]\n",
      "  [False False False]\n",
      "  [False False False]]\n",
      "\n",
      " [[False False False]\n",
      "  [False False False]\n",
      "  [False False False]\n",
      "  [False False False]]] <class 'numpy.ndarray'>\n",
      "-----------------\n",
      "Dimension= 3\n",
      "Shape= (3, 4, 3)\n",
      "Size= 36\n",
      "Internal Datatype= bool\n"
     ]
    }
   ],
   "source": [
    "a = np.zeros((3,4,3),dtype=bool)\n",
    "print(a,type(a))\n",
    "print(\"-----------------\")\n",
    "print(\"Dimension=\",a.ndim)\n",
    "print(\"Shape=\",a.shape)\n",
    "print(\"Size=\",a.size)\n",
    "print(\"Internal Datatype=\",a.dtype)"
   ]
  },
  {
   "cell_type": "code",
   "execution_count": null,
   "id": "719a18fc-51c7-4457-8ab0-a46b16ecafed",
   "metadata": {},
   "outputs": [],
   "source": []
  },
  {
   "cell_type": "markdown",
   "id": "0677d2a9-c1d2-4244-85ec-6bbea7c12b72",
   "metadata": {},
   "source": [
    "# e) ones()\n",
    "## It creates an array filled with ones. You choose the shape (like how many rows and columns), and NumPy fills it with 0.0.\n",
    "## Syntax: varname = numpy.ones(shape,dtype)"
   ]
  },
  {
   "cell_type": "code",
   "execution_count": 83,
   "id": "a071f699-24cc-467e-939b-09c1a3182cac",
   "metadata": {},
   "outputs": [
    {
     "name": "stdout",
     "output_type": "stream",
     "text": [
      "[1. 1. 1. 1. 1. 1. 1. 1.] <class 'numpy.ndarray'>\n"
     ]
    }
   ],
   "source": [
    "a = np.ones(8)\n",
    "print(a,type(a))"
   ]
  },
  {
   "cell_type": "code",
   "execution_count": 84,
   "id": "85547eff-d36a-477e-a6ba-5fdf41748094",
   "metadata": {},
   "outputs": [
    {
     "name": "stdout",
     "output_type": "stream",
     "text": [
      "[ True  True  True  True  True  True  True  True] <class 'numpy.ndarray'>\n"
     ]
    }
   ],
   "source": [
    "a = np.ones(8,dtype=bool)\n",
    "print(a,type(a))"
   ]
  },
  {
   "cell_type": "code",
   "execution_count": 85,
   "id": "bc7d271a-44fe-4552-a5d1-ee9bfb3e1015",
   "metadata": {},
   "outputs": [
    {
     "name": "stdout",
     "output_type": "stream",
     "text": [
      "[1 1 1 1 1 1 1 1] <class 'numpy.ndarray'>\n"
     ]
    }
   ],
   "source": [
    "a = np.ones(8,dtype=int)\n",
    "print(a,type(a))"
   ]
  },
  {
   "cell_type": "code",
   "execution_count": 86,
   "id": "c72e0d61-d4ec-4932-b680-15fd2c071d20",
   "metadata": {},
   "outputs": [
    {
     "name": "stdout",
     "output_type": "stream",
     "text": [
      "[[1 1 1 1]\n",
      " [1 1 1 1]] <class 'numpy.ndarray'>\n",
      "-----------------\n",
      "Dimension= 2\n",
      "Shape= (2, 4)\n",
      "Size= 8\n",
      "Internal Datatype= int64\n"
     ]
    }
   ],
   "source": [
    "a = np.ones((2,4),dtype=int)\n",
    "print(a,type(a))\n",
    "print(\"-----------------\")\n",
    "print(\"Dimension=\",a.ndim)\n",
    "print(\"Shape=\",a.shape)\n",
    "print(\"Size=\",a.size)\n",
    "print(\"Internal Datatype=\",a.dtype)"
   ]
  },
  {
   "cell_type": "code",
   "execution_count": 87,
   "id": "4d7a6a6a-8a86-4053-a6b8-358e973864e9",
   "metadata": {},
   "outputs": [
    {
     "name": "stdout",
     "output_type": "stream",
     "text": [
      "[[1 1]\n",
      " [1 1]\n",
      " [1 1]\n",
      " [1 1]] <class 'numpy.ndarray'>\n",
      "-----------------\n",
      "Dimension= 2\n",
      "Shape= (4, 2)\n",
      "Size= 8\n",
      "Internal Datatype= int64\n"
     ]
    }
   ],
   "source": [
    "a = np.ones((4,2),dtype=int)\n",
    "print(a,type(a))\n",
    "print(\"-----------------\")\n",
    "print(\"Dimension=\",a.ndim)\n",
    "print(\"Shape=\",a.shape)\n",
    "print(\"Size=\",a.size)\n",
    "print(\"Internal Datatype=\",a.dtype)"
   ]
  },
  {
   "cell_type": "code",
   "execution_count": 88,
   "id": "02b9d120-fa0f-4458-afac-d1b4fa9cbe9f",
   "metadata": {},
   "outputs": [
    {
     "name": "stdout",
     "output_type": "stream",
     "text": [
      "[[[1 1 1]\n",
      "  [1 1 1]\n",
      "  [1 1 1]\n",
      "  [1 1 1]]\n",
      "\n",
      " [[1 1 1]\n",
      "  [1 1 1]\n",
      "  [1 1 1]\n",
      "  [1 1 1]]] <class 'numpy.ndarray'>\n",
      "-----------------\n",
      "Dimension= 3\n",
      "Shape= (2, 4, 3)\n",
      "Size= 24\n",
      "Internal Datatype= int64\n"
     ]
    }
   ],
   "source": [
    "a = np.ones((2,4,3),dtype=int)\n",
    "print(a,type(a))\n",
    "print(\"-----------------\")\n",
    "print(\"Dimension=\",a.ndim)\n",
    "print(\"Shape=\",a.shape)\n",
    "print(\"Size=\",a.size)\n",
    "print(\"Internal Datatype=\",a.dtype)"
   ]
  },
  {
   "cell_type": "code",
   "execution_count": 89,
   "id": "693dcd10-580a-4f36-8146-041b834c36fa",
   "metadata": {},
   "outputs": [
    {
     "name": "stdout",
     "output_type": "stream",
     "text": [
      "[[[ True  True  True]\n",
      "  [ True  True  True]\n",
      "  [ True  True  True]\n",
      "  [ True  True  True]]\n",
      "\n",
      " [[ True  True  True]\n",
      "  [ True  True  True]\n",
      "  [ True  True  True]\n",
      "  [ True  True  True]]] <class 'numpy.ndarray'>\n",
      "-----------------\n",
      "Dimension= 3\n",
      "Shape= (2, 4, 3)\n",
      "Size= 24\n",
      "Internal Datatype= bool\n"
     ]
    }
   ],
   "source": [
    "a = np.ones((2,4,3),dtype=bool)\n",
    "print(a,type(a))\n",
    "print(\"-----------------\")\n",
    "print(\"Dimension=\",a.ndim)\n",
    "print(\"Shape=\",a.shape)\n",
    "print(\"Size=\",a.size)\n",
    "print(\"Internal Datatype=\",a.dtype)"
   ]
  },
  {
   "cell_type": "code",
   "execution_count": null,
   "id": "1e5ab77d-524d-465b-a5e3-08945445d96a",
   "metadata": {},
   "outputs": [],
   "source": []
  },
  {
   "cell_type": "markdown",
   "id": "1a4fc510-21be-4389-85a8-cfc9f22cc263",
   "metadata": {},
   "source": [
    "# f) full()\n",
    "## It creates an array of any shape you want, and fills it with a value you choose.\n",
    "## syntax: varname = numpy.full(shape,fill_value,dtype)"
   ]
  },
  {
   "cell_type": "code",
   "execution_count": 90,
   "id": "0efb48da-3ab1-41ac-9ca8-66d47e61e133",
   "metadata": {},
   "outputs": [
    {
     "name": "stdout",
     "output_type": "stream",
     "text": [
      "[9 9 9 9 9 9 9 9] <class 'numpy.ndarray'>\n"
     ]
    }
   ],
   "source": [
    "a = np.full(8,9,dtype=int)\n",
    "print(a,type(a))"
   ]
  },
  {
   "cell_type": "code",
   "execution_count": 91,
   "id": "953b425a-355e-428a-8531-37c11105def4",
   "metadata": {},
   "outputs": [
    {
     "name": "stdout",
     "output_type": "stream",
     "text": [
      "[[5 5 5 5]\n",
      " [5 5 5 5]] <class 'numpy.ndarray'>\n",
      "-----------------\n",
      "Dimension= 2\n",
      "Shape= (2, 4)\n",
      "Size= 8\n",
      "Internal Datatype= int64\n"
     ]
    }
   ],
   "source": [
    "a = np.full(8,5,dtype=int).reshape(2,4)\n",
    "print(a,type(a))\n",
    "print(\"-----------------\")\n",
    "print(\"Dimension=\",a.ndim)\n",
    "print(\"Shape=\",a.shape)\n",
    "print(\"Size=\",a.size)\n",
    "print(\"Internal Datatype=\",a.dtype)"
   ]
  },
  {
   "cell_type": "code",
   "execution_count": 92,
   "id": "5ea07827-61e0-479a-a1f8-50fab6a6f7d1",
   "metadata": {},
   "outputs": [
    {
     "name": "stdout",
     "output_type": "stream",
     "text": [
      "[[3 3]\n",
      " [3 3]\n",
      " [3 3]\n",
      " [3 3]] <class 'numpy.ndarray'>\n",
      "-----------------\n",
      "Dimension= 2\n",
      "Shape= (4, 2)\n",
      "Size= 8\n",
      "Internal Datatype= int64\n"
     ]
    }
   ],
   "source": [
    "a = np.full(8,3,dtype=int).reshape(4,2)\n",
    "print(a,type(a))\n",
    "print(\"-----------------\")\n",
    "print(\"Dimension=\",a.ndim)\n",
    "print(\"Shape=\",a.shape)\n",
    "print(\"Size=\",a.size)\n",
    "print(\"Internal Datatype=\",a.dtype)"
   ]
  },
  {
   "cell_type": "code",
   "execution_count": 97,
   "id": "2ce7c01d-47db-41f4-b742-2e20f3cafae0",
   "metadata": {},
   "outputs": [
    {
     "name": "stdout",
     "output_type": "stream",
     "text": [
      "[[[7 7 7]\n",
      "  [7 7 7]\n",
      "  [7 7 7]]\n",
      "\n",
      " [[7 7 7]\n",
      "  [7 7 7]\n",
      "  [7 7 7]]\n",
      "\n",
      " [[7 7 7]\n",
      "  [7 7 7]\n",
      "  [7 7 7]]] <class 'numpy.ndarray'>\n",
      "-----------------\n",
      "Dimension= 3\n",
      "Shape= (3, 3, 3)\n",
      "Size= 27\n",
      "Internal Datatype= int64\n"
     ]
    }
   ],
   "source": [
    "a = np.full((3,3,3),7)\n",
    "print(a,type(a))\n",
    "print(\"-----------------\")\n",
    "print(\"Dimension=\",a.ndim)\n",
    "print(\"Shape=\",a.shape)\n",
    "print(\"Size=\",a.size)\n",
    "print(\"Internal Datatype=\",a.dtype)"
   ]
  },
  {
   "cell_type": "code",
   "execution_count": 98,
   "id": "f7f8e73b-477c-451d-a2b1-05c2547e3ca6",
   "metadata": {},
   "outputs": [
    {
     "name": "stdout",
     "output_type": "stream",
     "text": [
      "[[[7 7 7 7]\n",
      "  [7 7 7 7]\n",
      "  [7 7 7 7]]\n",
      "\n",
      " [[7 7 7 7]\n",
      "  [7 7 7 7]\n",
      "  [7 7 7 7]]\n",
      "\n",
      " [[7 7 7 7]\n",
      "  [7 7 7 7]\n",
      "  [7 7 7 7]]] <class 'numpy.ndarray'>\n",
      "-----------------\n",
      "Dimension= 3\n",
      "Shape= (3, 3, 4)\n",
      "Size= 36\n",
      "Internal Datatype= int64\n"
     ]
    }
   ],
   "source": [
    "a = np.full((3,3,4),7)\n",
    "print(a,type(a))\n",
    "print(\"-----------------\")\n",
    "print(\"Dimension=\",a.ndim)\n",
    "print(\"Shape=\",a.shape)\n",
    "print(\"Size=\",a.size)\n",
    "print(\"Internal Datatype=\",a.dtype)"
   ]
  },
  {
   "cell_type": "code",
   "execution_count": 99,
   "id": "4de6dd84-284c-487a-9814-c49b341cf0a7",
   "metadata": {},
   "outputs": [
    {
     "name": "stdout",
     "output_type": "stream",
     "text": [
      "[[['Vinay' 'Vinay' 'Vinay' 'Vinay']\n",
      "  ['Vinay' 'Vinay' 'Vinay' 'Vinay']\n",
      "  ['Vinay' 'Vinay' 'Vinay' 'Vinay']]\n",
      "\n",
      " [['Vinay' 'Vinay' 'Vinay' 'Vinay']\n",
      "  ['Vinay' 'Vinay' 'Vinay' 'Vinay']\n",
      "  ['Vinay' 'Vinay' 'Vinay' 'Vinay']]\n",
      "\n",
      " [['Vinay' 'Vinay' 'Vinay' 'Vinay']\n",
      "  ['Vinay' 'Vinay' 'Vinay' 'Vinay']\n",
      "  ['Vinay' 'Vinay' 'Vinay' 'Vinay']]] <class 'numpy.ndarray'>\n",
      "-----------------\n",
      "Dimension= 3\n",
      "Shape= (3, 3, 4)\n",
      "Size= 36\n",
      "Internal Datatype= <U5\n"
     ]
    }
   ],
   "source": [
    "a = np.full((3,3,4),\"Vinay\")\n",
    "print(a,type(a))\n",
    "print(\"-----------------\")\n",
    "print(\"Dimension=\",a.ndim)\n",
    "print(\"Shape=\",a.shape)\n",
    "print(\"Size=\",a.size)\n",
    "print(\"Internal Datatype=\",a.dtype)"
   ]
  },
  {
   "cell_type": "code",
   "execution_count": 101,
   "id": "af3ffbb9-8ab5-4f63-a0ac-8560024e74db",
   "metadata": {},
   "outputs": [
    {
     "name": "stdout",
     "output_type": "stream",
     "text": [
      "[[['Sai' 'Sai' 'Sai' 'Sai']\n",
      "  ['Sai' 'Sai' 'Sai' 'Sai']\n",
      "  ['Sai' 'Sai' 'Sai' 'Sai']\n",
      "  ['Sai' 'Sai' 'Sai' 'Sai']]\n",
      "\n",
      " [['Sai' 'Sai' 'Sai' 'Sai']\n",
      "  ['Sai' 'Sai' 'Sai' 'Sai']\n",
      "  ['Sai' 'Sai' 'Sai' 'Sai']\n",
      "  ['Sai' 'Sai' 'Sai' 'Sai']]\n",
      "\n",
      " [['Sai' 'Sai' 'Sai' 'Sai']\n",
      "  ['Sai' 'Sai' 'Sai' 'Sai']\n",
      "  ['Sai' 'Sai' 'Sai' 'Sai']\n",
      "  ['Sai' 'Sai' 'Sai' 'Sai']]] <class 'numpy.ndarray'>\n",
      "-----------------\n",
      "Dimension= 3\n",
      "Shape= (3, 4, 4)\n",
      "Size= 48\n",
      "Internal Datatype= <U3\n"
     ]
    }
   ],
   "source": [
    "a = np.full((3,4,4),\"Sai\")\n",
    "print(a,type(a))\n",
    "print(\"-----------------\")\n",
    "print(\"Dimension=\",a.ndim)\n",
    "print(\"Shape=\",a.shape)\n",
    "print(\"Size=\",a.size)\n",
    "print(\"Internal Datatype=\",a.dtype)"
   ]
  },
  {
   "cell_type": "code",
   "execution_count": null,
   "id": "3e1d9ba7-c50a-4da0-9f79-dfbe154e5a54",
   "metadata": {},
   "outputs": [],
   "source": []
  },
  {
   "cell_type": "markdown",
   "id": "e0b8b89e-bc2a-4286-922a-048dcc7980d4",
   "metadata": {},
   "source": [
    "# g) identity()\n",
    "## np.identity() creates a square matrix (same number of rows and columns) with:\n",
    "## 1s on the diagonal\n",
    "## 0s everywhere else\n",
    "## This is called an identity matrix, and it's super useful in linear algebra.\n",
    "### syntax: varname = numpy.identity(N,dtype)"
   ]
  },
  {
   "cell_type": "code",
   "execution_count": 102,
   "id": "f59d8a44-fa44-46da-bc8e-b63063c15a85",
   "metadata": {},
   "outputs": [
    {
     "name": "stdout",
     "output_type": "stream",
     "text": [
      "[[1. 0.]\n",
      " [0. 1.]] <class 'numpy.ndarray'>\n"
     ]
    }
   ],
   "source": [
    "a = np.identity(2)\n",
    "print(a,type(a))"
   ]
  },
  {
   "cell_type": "code",
   "execution_count": 103,
   "id": "7381c5fb-bed8-4414-90e3-89221d450112",
   "metadata": {},
   "outputs": [
    {
     "name": "stdout",
     "output_type": "stream",
     "text": [
      "[[1 0]\n",
      " [0 1]] <class 'numpy.ndarray'>\n"
     ]
    }
   ],
   "source": [
    "a = np.identity(2,dtype=int)\n",
    "print(a,type(a))"
   ]
  },
  {
   "cell_type": "code",
   "execution_count": 104,
   "id": "7f58d59b-8e66-4294-97c4-8de9a0273076",
   "metadata": {},
   "outputs": [
    {
     "name": "stdout",
     "output_type": "stream",
     "text": [
      "[[1 0 0]\n",
      " [0 1 0]\n",
      " [0 0 1]] <class 'numpy.ndarray'>\n"
     ]
    }
   ],
   "source": [
    "a = np.identity(3,dtype=int)\n",
    "print(a,type(a))"
   ]
  },
  {
   "cell_type": "code",
   "execution_count": 105,
   "id": "8ee9bb96-12d6-4e0e-9301-3cadc609a5d0",
   "metadata": {},
   "outputs": [
    {
     "name": "stdout",
     "output_type": "stream",
     "text": [
      "[[1 0 0 0]\n",
      " [0 1 0 0]\n",
      " [0 0 1 0]\n",
      " [0 0 0 1]] <class 'numpy.ndarray'>\n"
     ]
    }
   ],
   "source": [
    "a = np.identity(4,dtype=int)\n",
    "print(a,type(a))"
   ]
  },
  {
   "cell_type": "code",
   "execution_count": 106,
   "id": "7f64f190-72e5-467b-8157-234f51d6b0d7",
   "metadata": {},
   "outputs": [
    {
     "name": "stdout",
     "output_type": "stream",
     "text": [
      "[[1 0 0 0 0]\n",
      " [0 1 0 0 0]\n",
      " [0 0 1 0 0]\n",
      " [0 0 0 1 0]\n",
      " [0 0 0 0 1]] <class 'numpy.ndarray'>\n"
     ]
    }
   ],
   "source": [
    "a = np.identity(5,dtype=int)\n",
    "print(a,type(a))"
   ]
  },
  {
   "cell_type": "code",
   "execution_count": 107,
   "id": "d5362d29-43e4-404f-bc92-eee2281b5119",
   "metadata": {},
   "outputs": [
    {
     "name": "stdout",
     "output_type": "stream",
     "text": [
      "[[1 0 0 0 0 0]\n",
      " [0 1 0 0 0 0]\n",
      " [0 0 1 0 0 0]\n",
      " [0 0 0 1 0 0]\n",
      " [0 0 0 0 1 0]\n",
      " [0 0 0 0 0 1]] <class 'numpy.ndarray'>\n"
     ]
    }
   ],
   "source": [
    "a = np.identity(6,dtype=int)\n",
    "print(a,type(a))"
   ]
  },
  {
   "cell_type": "code",
   "execution_count": 108,
   "id": "2bf93e64-66f1-4b15-88eb-2799b2d9a83f",
   "metadata": {},
   "outputs": [
    {
     "ename": "TypeError",
     "evalue": "'tuple' object cannot be interpreted as an integer",
     "output_type": "error",
     "traceback": [
      "\u001b[1;31m---------------------------------------------------------------------------\u001b[0m",
      "\u001b[1;31mTypeError\u001b[0m                                 Traceback (most recent call last)",
      "Cell \u001b[1;32mIn[108], line 1\u001b[0m\n\u001b[1;32m----> 1\u001b[0m a \u001b[38;5;241m=\u001b[39m np\u001b[38;5;241m.\u001b[39midentity((\u001b[38;5;241m2\u001b[39m,\u001b[38;5;241m4\u001b[39m),dtype\u001b[38;5;241m=\u001b[39m\u001b[38;5;28mint\u001b[39m) \u001b[38;5;66;03m# its not possible in this case\u001b[39;00m\n\u001b[0;32m      2\u001b[0m \u001b[38;5;28mprint\u001b[39m(a,\u001b[38;5;28mtype\u001b[39m(a))\n",
      "File \u001b[1;32m~\\anaconda3\\Lib\\site-packages\\numpy\\_core\\numeric.py:2243\u001b[0m, in \u001b[0;36midentity\u001b[1;34m(n, dtype, like)\u001b[0m\n\u001b[0;32m   2240\u001b[0m     \u001b[38;5;28;01mreturn\u001b[39;00m _identity_with_like(like, n, dtype\u001b[38;5;241m=\u001b[39mdtype)\n\u001b[0;32m   2242\u001b[0m \u001b[38;5;28;01mfrom\u001b[39;00m\u001b[38;5;250m \u001b[39m\u001b[38;5;21;01mnumpy\u001b[39;00m\u001b[38;5;250m \u001b[39m\u001b[38;5;28;01mimport\u001b[39;00m eye\n\u001b[1;32m-> 2243\u001b[0m \u001b[38;5;28;01mreturn\u001b[39;00m eye(n, dtype\u001b[38;5;241m=\u001b[39mdtype, like\u001b[38;5;241m=\u001b[39mlike)\n",
      "File \u001b[1;32m~\\anaconda3\\Lib\\site-packages\\numpy\\lib\\_twodim_base_impl.py:224\u001b[0m, in \u001b[0;36meye\u001b[1;34m(N, M, k, dtype, order, device, like)\u001b[0m\n\u001b[0;32m    222\u001b[0m \u001b[38;5;28;01mif\u001b[39;00m M \u001b[38;5;129;01mis\u001b[39;00m \u001b[38;5;28;01mNone\u001b[39;00m:\n\u001b[0;32m    223\u001b[0m     M \u001b[38;5;241m=\u001b[39m N\n\u001b[1;32m--> 224\u001b[0m m \u001b[38;5;241m=\u001b[39m zeros((N, M), dtype\u001b[38;5;241m=\u001b[39mdtype, order\u001b[38;5;241m=\u001b[39morder, device\u001b[38;5;241m=\u001b[39mdevice)\n\u001b[0;32m    225\u001b[0m \u001b[38;5;28;01mif\u001b[39;00m k \u001b[38;5;241m>\u001b[39m\u001b[38;5;241m=\u001b[39m M:\n\u001b[0;32m    226\u001b[0m     \u001b[38;5;28;01mreturn\u001b[39;00m m\n",
      "\u001b[1;31mTypeError\u001b[0m: 'tuple' object cannot be interpreted as an integer"
     ]
    }
   ],
   "source": [
    "a = np.identity((2,4),dtype=int) # its not possible in this case\n",
    "print(a,type(a))"
   ]
  },
  {
   "cell_type": "code",
   "execution_count": null,
   "id": "ad071593-53ba-42ed-8fe4-7aac08aa9ea2",
   "metadata": {},
   "outputs": [],
   "source": []
  },
  {
   "cell_type": "markdown",
   "id": "b662a855-8eaa-45cd-b1af-19fd06c8312c",
   "metadata": {},
   "source": [
    "# h) eye()\n",
    "## np.eye() creates a 2D array (matrix) with:\n",
    "## 1s on the diagonal\n",
    "## 0s everywhere else Just like identity(), but with more control over rows and columns.\n",
    "## syntax: varname = numpy.eye(N,M=None,K=0,dtype)"
   ]
  },
  {
   "cell_type": "code",
   "execution_count": 109,
   "id": "51ba020b-2a4d-4278-aaa2-aacff6e4358e",
   "metadata": {},
   "outputs": [
    {
     "name": "stdout",
     "output_type": "stream",
     "text": [
      "[[1 0 0 0 0]\n",
      " [0 1 0 0 0]\n",
      " [0 0 1 0 0]\n",
      " [0 0 0 1 0]\n",
      " [0 0 0 0 1]] <class 'numpy.ndarray'>\n"
     ]
    }
   ],
   "source": [
    "a = np.eye(5,dtype=int)\n",
    "print(a,type(a))"
   ]
  },
  {
   "cell_type": "code",
   "execution_count": 110,
   "id": "96e8c206-970a-48eb-92ac-a65d17ed58dc",
   "metadata": {},
   "outputs": [
    {
     "name": "stdout",
     "output_type": "stream",
     "text": [
      "[[0 0 0 0 0]\n",
      " [1 0 0 0 0]\n",
      " [0 1 0 0 0]\n",
      " [0 0 1 0 0]\n",
      " [0 0 0 1 0]] <class 'numpy.ndarray'>\n"
     ]
    }
   ],
   "source": [
    "a = np.eye(5,k=-1,dtype=int)\n",
    "print(a,type(a))"
   ]
  },
  {
   "cell_type": "code",
   "execution_count": 111,
   "id": "ae862ed5-85bd-4ea8-9095-3333181fe860",
   "metadata": {},
   "outputs": [
    {
     "name": "stdout",
     "output_type": "stream",
     "text": [
      "[[0 0 0 0 0]\n",
      " [0 0 0 0 0]\n",
      " [1 0 0 0 0]\n",
      " [0 1 0 0 0]\n",
      " [0 0 1 0 0]] <class 'numpy.ndarray'>\n"
     ]
    }
   ],
   "source": [
    "a = np.eye(5,k=-2,dtype=int)\n",
    "print(a,type(a))"
   ]
  },
  {
   "cell_type": "code",
   "execution_count": 112,
   "id": "97e08389-f2d3-485a-bf7c-40c4937871c8",
   "metadata": {},
   "outputs": [
    {
     "name": "stdout",
     "output_type": "stream",
     "text": [
      "[[0 0 0 0 0]\n",
      " [0 0 0 0 0]\n",
      " [0 0 0 0 0]\n",
      " [1 0 0 0 0]\n",
      " [0 1 0 0 0]] <class 'numpy.ndarray'>\n"
     ]
    }
   ],
   "source": [
    "a = np.eye(5,k=-3,dtype=int)\n",
    "print(a,type(a))"
   ]
  },
  {
   "cell_type": "code",
   "execution_count": 113,
   "id": "8b321fcb-af32-47a6-ba4f-415583c6f000",
   "metadata": {},
   "outputs": [
    {
     "name": "stdout",
     "output_type": "stream",
     "text": [
      "[[0 0 0 0 0]\n",
      " [0 0 0 0 0]\n",
      " [0 0 0 0 0]\n",
      " [0 0 0 0 0]\n",
      " [1 0 0 0 0]] <class 'numpy.ndarray'>\n"
     ]
    }
   ],
   "source": [
    "a = np.eye(5,k=-4,dtype=int)\n",
    "print(a,type(a))"
   ]
  },
  {
   "cell_type": "code",
   "execution_count": 114,
   "id": "326a4a77-aa11-48f0-9e8c-8e2cc62abc2a",
   "metadata": {},
   "outputs": [
    {
     "name": "stdout",
     "output_type": "stream",
     "text": [
      "[[0 0 1 0 0]\n",
      " [0 0 0 1 0]\n",
      " [0 0 0 0 1]\n",
      " [0 0 0 0 0]\n",
      " [0 0 0 0 0]] <class 'numpy.ndarray'>\n"
     ]
    }
   ],
   "source": [
    "a = np.eye(5,k=2,dtype=int)\n",
    "print(a,type(a))"
   ]
  },
  {
   "cell_type": "code",
   "execution_count": 115,
   "id": "f7e60863-0ad5-4f69-812c-ed2c5c299c3f",
   "metadata": {},
   "outputs": [
    {
     "name": "stdout",
     "output_type": "stream",
     "text": [
      "[[0 0 0 1 0]\n",
      " [0 0 0 0 1]\n",
      " [0 0 0 0 0]\n",
      " [0 0 0 0 0]\n",
      " [0 0 0 0 0]] <class 'numpy.ndarray'>\n"
     ]
    }
   ],
   "source": [
    "a = np.eye(5,k=3,dtype=int)\n",
    "print(a,type(a))"
   ]
  },
  {
   "cell_type": "code",
   "execution_count": 116,
   "id": "eac5a533-4427-4f66-a3e4-7fdfb00a3d86",
   "metadata": {},
   "outputs": [
    {
     "name": "stdout",
     "output_type": "stream",
     "text": [
      "[[0 0 0 0 1]\n",
      " [0 0 0 0 0]\n",
      " [0 0 0 0 0]\n",
      " [0 0 0 0 0]\n",
      " [0 0 0 0 0]] <class 'numpy.ndarray'>\n"
     ]
    }
   ],
   "source": [
    "a = np.eye(5,k=4,dtype=int)\n",
    "print(a,type(a))"
   ]
  },
  {
   "cell_type": "code",
   "execution_count": 117,
   "id": "098eb0c0-4a68-423c-90e5-8c5531313450",
   "metadata": {},
   "outputs": [
    {
     "name": "stdout",
     "output_type": "stream",
     "text": [
      "[[0 0 0 0 0]\n",
      " [0 0 0 0 0]\n",
      " [0 0 0 0 0]\n",
      " [0 0 0 0 0]\n",
      " [0 0 0 0 0]] <class 'numpy.ndarray'>\n"
     ]
    }
   ],
   "source": [
    "a = np.eye(5,k=5,dtype=int)\n",
    "print(a,type(a))"
   ]
  },
  {
   "cell_type": "code",
   "execution_count": 118,
   "id": "eceb040c-fcd7-497c-8d08-74b8874f0e49",
   "metadata": {},
   "outputs": [
    {
     "name": "stdout",
     "output_type": "stream",
     "text": [
      "[[1 0 0]\n",
      " [0 1 0]\n",
      " [0 0 1]\n",
      " [0 0 0]\n",
      " [0 0 0]] <class 'numpy.ndarray'>\n"
     ]
    }
   ],
   "source": [
    "a = np.eye(5,3,dtype=int)\n",
    "print(a,type(a))"
   ]
  },
  {
   "cell_type": "code",
   "execution_count": 119,
   "id": "4f93a3f4-c898-47d1-b9e5-6c63d42ecede",
   "metadata": {},
   "outputs": [
    {
     "name": "stdout",
     "output_type": "stream",
     "text": [
      "[[1 0 0 0 0]\n",
      " [0 1 0 0 0]\n",
      " [0 0 1 0 0]] <class 'numpy.ndarray'>\n"
     ]
    }
   ],
   "source": [
    "a = np.eye(3,5,dtype=int)\n",
    "print(a,type(a))"
   ]
  },
  {
   "cell_type": "code",
   "execution_count": 121,
   "id": "c3876736-1991-4f74-a0f1-5571be0fbd92",
   "metadata": {},
   "outputs": [
    {
     "name": "stdout",
     "output_type": "stream",
     "text": [
      "[[0 1 0]\n",
      " [0 0 1]\n",
      " [0 0 0]\n",
      " [0 0 0]\n",
      " [0 0 0]] <class 'numpy.ndarray'>\n"
     ]
    }
   ],
   "source": [
    "a = np.eye(5,3,k=1,dtype=int)\n",
    "print(a,type(a))"
   ]
  },
  {
   "cell_type": "code",
   "execution_count": 122,
   "id": "cd34cc0c-7f6b-4ef4-a1b6-0b82a749d8e3",
   "metadata": {},
   "outputs": [
    {
     "name": "stdout",
     "output_type": "stream",
     "text": [
      "[[1 0 0 0 0 0 0 0 0 0 0 0 0 0 0]\n",
      " [0 1 0 0 0 0 0 0 0 0 0 0 0 0 0]\n",
      " [0 0 1 0 0 0 0 0 0 0 0 0 0 0 0]\n",
      " [0 0 0 1 0 0 0 0 0 0 0 0 0 0 0]\n",
      " [0 0 0 0 1 0 0 0 0 0 0 0 0 0 0]\n",
      " [0 0 0 0 0 1 0 0 0 0 0 0 0 0 0]\n",
      " [0 0 0 0 0 0 1 0 0 0 0 0 0 0 0]\n",
      " [0 0 0 0 0 0 0 1 0 0 0 0 0 0 0]\n",
      " [0 0 0 0 0 0 0 0 1 0 0 0 0 0 0]\n",
      " [0 0 0 0 0 0 0 0 0 1 0 0 0 0 0]] <class 'numpy.ndarray'>\n"
     ]
    }
   ],
   "source": [
    "a = np.eye(10,15,dtype=int)\n",
    "print(a,type(a))"
   ]
  },
  {
   "cell_type": "code",
   "execution_count": 123,
   "id": "b848ace4-cc41-4636-acc8-4636652562b5",
   "metadata": {},
   "outputs": [
    {
     "name": "stdout",
     "output_type": "stream",
     "text": [
      "[[1 0 0 0 0 0 0 0 0 0]\n",
      " [0 1 0 0 0 0 0 0 0 0]\n",
      " [0 0 1 0 0 0 0 0 0 0]\n",
      " [0 0 0 1 0 0 0 0 0 0]\n",
      " [0 0 0 0 1 0 0 0 0 0]\n",
      " [0 0 0 0 0 1 0 0 0 0]\n",
      " [0 0 0 0 0 0 1 0 0 0]\n",
      " [0 0 0 0 0 0 0 1 0 0]\n",
      " [0 0 0 0 0 0 0 0 1 0]\n",
      " [0 0 0 0 0 0 0 0 0 1]] <class 'numpy.ndarray'>\n"
     ]
    }
   ],
   "source": [
    "a = np.eye(10,10,dtype=int)\n",
    "print(a,type(a))"
   ]
  },
  {
   "cell_type": "code",
   "execution_count": null,
   "id": "af47f914-8f2e-4952-8e1a-cda62f7ca434",
   "metadata": {},
   "outputs": [],
   "source": []
  },
  {
   "cell_type": "markdown",
   "id": "61b46015-8e93-44b6-b2bc-373c1d87ff94",
   "metadata": {},
   "source": [
    "# Random number Neneration in Numpy\n",
    "## j) numpy.random\n",
    "### 1) randint()\n",
    "### 2) rand()\n",
    "### 3) randn()\n",
    "### 4) uniform()\n",
    "### 5) shuffle()\n",
    "### 6) normal()"
   ]
  },
  {
   "cell_type": "markdown",
   "id": "099e11a1-574e-452d-b45c-942799b19449",
   "metadata": {},
   "source": [
    "# 1) randint()\n",
    "## It will generate random interger values between the specified range.\n",
    "### syntax: randint(low, high=None, size=None, dtype=int)"
   ]
  },
  {
   "cell_type": "code",
   "execution_count": 124,
   "id": "0a98d34b-9170-4eea-8094-ad3b8aec8130",
   "metadata": {},
   "outputs": [
    {
     "name": "stdout",
     "output_type": "stream",
     "text": [
      "6 <class 'int'>\n"
     ]
    }
   ],
   "source": [
    "a = np.random.randint(10)\n",
    "print(a,type(a))"
   ]
  },
  {
   "cell_type": "code",
   "execution_count": 125,
   "id": "165ab562-7f6d-47d0-a76f-142ea31d7f1d",
   "metadata": {},
   "outputs": [
    {
     "name": "stdout",
     "output_type": "stream",
     "text": [
      "3 <class 'int'>\n"
     ]
    }
   ],
   "source": [
    "a = np.random.randint(10)\n",
    "print(a,type(a))"
   ]
  },
  {
   "cell_type": "code",
   "execution_count": 126,
   "id": "da6e8ab8-3131-4a4d-8ad5-bdd7bd207ce8",
   "metadata": {},
   "outputs": [
    {
     "name": "stdout",
     "output_type": "stream",
     "text": [
      "2 <class 'int'>\n"
     ]
    }
   ],
   "source": [
    "a = np.random.randint(10)\n",
    "print(a,type(a))"
   ]
  },
  {
   "cell_type": "code",
   "execution_count": 127,
   "id": "862561e9-8e03-41bc-a4de-a768fd73e0bf",
   "metadata": {},
   "outputs": [
    {
     "name": "stdout",
     "output_type": "stream",
     "text": [
      "1432 <class 'int'>\n"
     ]
    }
   ],
   "source": [
    "a = np.random.randint(1000,10000) # random value comes bw 1000 100000 any 4 digit numberw will give output\n",
    "print(a,type(a))"
   ]
  },
  {
   "cell_type": "code",
   "execution_count": 128,
   "id": "5195f87c-33ce-402f-9a99-e0f80648a732",
   "metadata": {},
   "outputs": [
    {
     "name": "stdout",
     "output_type": "stream",
     "text": [
      "4938 <class 'int'>\n"
     ]
    }
   ],
   "source": [
    "a = np.random.randint(1000,10000)\n",
    "print(a,type(a))"
   ]
  },
  {
   "cell_type": "code",
   "execution_count": 129,
   "id": "2caad033-34ac-4af6-abcf-d506a420104e",
   "metadata": {},
   "outputs": [
    {
     "name": "stdout",
     "output_type": "stream",
     "text": [
      "5763 <class 'int'>\n"
     ]
    }
   ],
   "source": [
    "a = np.random.randint(1000,10000)\n",
    "print(a,type(a))"
   ]
  },
  {
   "cell_type": "code",
   "execution_count": 130,
   "id": "83bd311e-5cab-4ef8-a8ed-c172e370c3d8",
   "metadata": {},
   "outputs": [
    {
     "name": "stdout",
     "output_type": "stream",
     "text": [
      "936 <class 'int'>\n"
     ]
    }
   ],
   "source": [
    "a = np.random.randint(100,1000)\n",
    "print(a,type(a))"
   ]
  },
  {
   "cell_type": "code",
   "execution_count": 131,
   "id": "82f9da79-c5d6-4e32-aafe-bc0aaf903a30",
   "metadata": {},
   "outputs": [
    {
     "name": "stdout",
     "output_type": "stream",
     "text": [
      "822 <class 'int'>\n"
     ]
    }
   ],
   "source": [
    "a = np.random.randint(100,1000)\n",
    "print(a,type(a))"
   ]
  },
  {
   "cell_type": "code",
   "execution_count": 132,
   "id": "6ac83e65-0478-4b66-8021-00bf91e1da19",
   "metadata": {},
   "outputs": [
    {
     "name": "stdout",
     "output_type": "stream",
     "text": [
      "[14 19 13 13 19] <class 'numpy.ndarray'>\n"
     ]
    }
   ],
   "source": [
    "a = np.random.randint(10,20,size=5)\n",
    "print(a,type(a))"
   ]
  },
  {
   "cell_type": "code",
   "execution_count": 133,
   "id": "da36a8ed-5d6b-4024-aacc-4b9935b9b20b",
   "metadata": {},
   "outputs": [
    {
     "name": "stdout",
     "output_type": "stream",
     "text": [
      "[19 11 13 18 15] <class 'numpy.ndarray'>\n"
     ]
    }
   ],
   "source": [
    "a = np.random.randint(10,20,size=5)\n",
    "print(a,type(a))"
   ]
  },
  {
   "cell_type": "code",
   "execution_count": 134,
   "id": "d592536f-2c41-43c4-a37e-1f13ed1928d2",
   "metadata": {},
   "outputs": [
    {
     "name": "stdout",
     "output_type": "stream",
     "text": [
      "[16 15 15 10 19 17] <class 'numpy.ndarray'>\n"
     ]
    }
   ],
   "source": [
    "a = np.random.randint(10,20,size=6)\n",
    "print(a,type(a))"
   ]
  },
  {
   "cell_type": "code",
   "execution_count": 135,
   "id": "b2d54488-eada-4602-9211-441e5ca6094b",
   "metadata": {},
   "outputs": [
    {
     "name": "stdout",
     "output_type": "stream",
     "text": [
      "[13 19 11 16 17 10] <class 'numpy.ndarray'>\n"
     ]
    }
   ],
   "source": [
    "a = np.random.randint(10,20,size=6)\n",
    "print(a,type(a))"
   ]
  },
  {
   "cell_type": "code",
   "execution_count": 136,
   "id": "3473ba12-93c4-4ce0-8c7b-b28cd2679582",
   "metadata": {},
   "outputs": [
    {
     "name": "stdout",
     "output_type": "stream",
     "text": [
      "[13 14 12 11 15 10 13 13 13 16 17 11 10 12 13 17] <class 'numpy.ndarray'>\n"
     ]
    }
   ],
   "source": [
    "a = np.random.randint(10,20,size=16) # size is out of range it will duplicates\n",
    "print(a,type(a))"
   ]
  },
  {
   "cell_type": "code",
   "execution_count": 137,
   "id": "9d1a743e-66d3-4909-8cb7-ca03b648801b",
   "metadata": {},
   "outputs": [
    {
     "name": "stdout",
     "output_type": "stream",
     "text": [
      "[[10 18 16]\n",
      " [15 16 18]\n",
      " [13 14 17]] <class 'numpy.ndarray'>\n"
     ]
    }
   ],
   "source": [
    "a = np.random.randint(10,20,size=(3,3))\n",
    "print(a,type(a))"
   ]
  },
  {
   "cell_type": "code",
   "execution_count": 138,
   "id": "8a21b724-5a90-4aa4-9032-17c7fc6214e2",
   "metadata": {},
   "outputs": [
    {
     "name": "stdout",
     "output_type": "stream",
     "text": [
      "[[15 10 14]\n",
      " [18 15 14]\n",
      " [15 13 19]] <class 'numpy.ndarray'>\n"
     ]
    }
   ],
   "source": [
    "a = np.random.randint(10,20,size=(3,3))\n",
    "print(a,type(a))"
   ]
  },
  {
   "cell_type": "code",
   "execution_count": 139,
   "id": "b4021355-d9e9-445e-b2a8-3285d2aed9a5",
   "metadata": {},
   "outputs": [
    {
     "name": "stdout",
     "output_type": "stream",
     "text": [
      "[[11 19 15]\n",
      " [17 11 17]\n",
      " [14 16 12]\n",
      " [19 14 12]] <class 'numpy.ndarray'>\n"
     ]
    }
   ],
   "source": [
    "a = np.random.randint(10,20,size=(4,3))\n",
    "print(a,type(a))"
   ]
  },
  {
   "cell_type": "code",
   "execution_count": 140,
   "id": "7714c9ac-fa77-4b3d-b1e5-228f25bf0801",
   "metadata": {},
   "outputs": [
    {
     "name": "stdout",
     "output_type": "stream",
     "text": [
      "[[12 19]\n",
      " [14 12]\n",
      " [16 10]] <class 'numpy.ndarray'>\n"
     ]
    }
   ],
   "source": [
    "a = np.random.randint(10,20,size=(3,2))\n",
    "print(a,type(a))"
   ]
  },
  {
   "cell_type": "code",
   "execution_count": 142,
   "id": "52d4da65-59bc-4186-abfa-be503aff7b6b",
   "metadata": {},
   "outputs": [
    {
     "name": "stdout",
     "output_type": "stream",
     "text": [
      "[[[16 12 18]\n",
      "  [13 10 14]\n",
      "  [19 12 14]]\n",
      "\n",
      " [[13 13 19]\n",
      "  [14 16 16]\n",
      "  [14 10 19]]\n",
      "\n",
      " [[11 16 10]\n",
      "  [16 12 17]\n",
      "  [15 16 14]]] <class 'numpy.ndarray'>\n"
     ]
    }
   ],
   "source": [
    "a = np.random.randint(10,20,size=(3,3,3))\n",
    "print(a,type(a))"
   ]
  },
  {
   "cell_type": "code",
   "execution_count": 143,
   "id": "e7575098-6130-46c1-99de-0ef54298c0c5",
   "metadata": {},
   "outputs": [
    {
     "name": "stdout",
     "output_type": "stream",
     "text": [
      "[38 13 12 39 42 26 23 42 16 25 20 44 10 46 19 42 28 23 31 22] <class 'numpy.ndarray'>\n"
     ]
    }
   ],
   "source": [
    "a = np.random.randint(10,50,size=20)\n",
    "print(a,type(a))"
   ]
  },
  {
   "cell_type": "code",
   "execution_count": 144,
   "id": "711b28a7-96fa-44c4-af2e-5aad49ed70da",
   "metadata": {},
   "outputs": [
    {
     "name": "stdout",
     "output_type": "stream",
     "text": [
      "[40 29 18 43 44 10 26 49 30 35 29 18 30 15 17 24 44 32 39 42] <class 'numpy.ndarray'>\n",
      "Default DT= int32\n",
      "Total Memory space of ndarray a = 192\n"
     ]
    }
   ],
   "source": [
    "import sys\n",
    "a = np.random.randint(10,50,size=20)\n",
    "print(a,type(a))\n",
    "print(\"Default DT=\",a.dtype)\n",
    "print(\"Total Memory space of ndarray a =\",sys.getsizeof(a))"
   ]
  },
  {
   "cell_type": "code",
   "execution_count": 145,
   "id": "ee9cd56b-6944-43f9-9756-97f68b7078a9",
   "metadata": {},
   "outputs": [
    {
     "name": "stdout",
     "output_type": "stream",
     "text": [
      "[28 10 18 48 19 25 15 45 14 16 20 37 30 14 12 45 13 40 38 19] <class 'numpy.ndarray'>\n",
      "Default DT= int8\n",
      "Total Memory space of ndarray a = 132\n"
     ]
    }
   ],
   "source": [
    "import sys\n",
    "a = np.random.randint(10,50,size=20,dtype=\"int8\")\n",
    "print(a,type(a))\n",
    "print(\"Default DT=\",a.dtype)\n",
    "print(\"Total Memory space of ndarray a =\",sys.getsizeof(a))"
   ]
  },
  {
   "cell_type": "code",
   "execution_count": 146,
   "id": "6cdf05d6-2b1d-43bd-bfcc-af6cbe9e7dc0",
   "metadata": {},
   "outputs": [
    {
     "name": "stdout",
     "output_type": "stream",
     "text": [
      "[16 37 29 28 37 19 24 18 40 22 22 19 25 12 42 36 45 12 31 15] <class 'numpy.ndarray'>\n",
      "Default DT= int16\n",
      "Total Memory space of ndarray a = 152\n"
     ]
    }
   ],
   "source": [
    "import sys\n",
    "a = np.random.randint(10,50,size=20,dtype=\"int16\")\n",
    "print(a,type(a))\n",
    "print(\"Default DT=\",a.dtype)\n",
    "print(\"Total Memory space of ndarray a =\",sys.getsizeof(a))"
   ]
  },
  {
   "cell_type": "code",
   "execution_count": 147,
   "id": "e12f6283-4a76-409f-86ea-913bc2113983",
   "metadata": {},
   "outputs": [
    {
     "name": "stdout",
     "output_type": "stream",
     "text": [
      "[31 28 25 31 12 21 49 36 25 44 23 31 44 33 46 19 28 11 42 36] <class 'numpy.ndarray'>\n",
      "[31. 28. 25. 31. 12. 21. 49. 36. 25. 44. 23. 31. 44. 33. 46. 19. 28. 11.\n",
      " 42. 36.] <class 'numpy.ndarray'>\n"
     ]
    }
   ],
   "source": [
    "a = np.random.randint(10,50,size=20,dtype=\"int8\")\n",
    "print(a,type(a))\n",
    "b = a.astype(\"float\")# astype is used for converting one ndarray object type another object.\n",
    "print(b,type(a))"
   ]
  },
  {
   "cell_type": "code",
   "execution_count": 149,
   "id": "e4971ada-5701-4dd4-bf1d-aaf972e01ac9",
   "metadata": {},
   "outputs": [
    {
     "name": "stdout",
     "output_type": "stream",
     "text": [
      "[[30 12 30 29 17]\n",
      " [46 27 18 34 15]\n",
      " [20 45 34 15 48]\n",
      " [34 46 22 21 35]\n",
      " [16 45 44 39 37]] <class 'numpy.ndarray'>\n",
      "[[30. 12. 30. 29. 17.]\n",
      " [46. 27. 18. 34. 15.]\n",
      " [20. 45. 34. 15. 48.]\n",
      " [34. 46. 22. 21. 35.]\n",
      " [16. 45. 44. 39. 37.]] <class 'numpy.ndarray'>\n"
     ]
    }
   ],
   "source": [
    "a = np.random.randint(10,50,size=(5,5),dtype=\"int8\")\n",
    "print(a,type(a))\n",
    "b = a.astype(\"float\") # astype is used for converting one ndarray object type to another object.\n",
    "print(b,type(a))"
   ]
  },
  {
   "cell_type": "code",
   "execution_count": null,
   "id": "393ce58a-cb6c-4be8-afe8-59fa9d55fb88",
   "metadata": {},
   "outputs": [],
   "source": []
  },
  {
   "cell_type": "markdown",
   "id": "972e868e-509b-41ad-b852-0bb7f81e997c",
   "metadata": {},
   "source": [
    "# 2) randn()\n",
    "## It will Generate random inter values between 0.0 and 1.0(uniform distribution)\n",
    "## syntax: rand(d0,d1,.....,dn)"
   ]
  },
  {
   "cell_type": "code",
   "execution_count": 150,
   "id": "bcaffc1d-1992-4295-9856-43a87d592054",
   "metadata": {},
   "outputs": [
    {
     "name": "stdout",
     "output_type": "stream",
     "text": [
      "0.8186823021723434\n"
     ]
    }
   ],
   "source": [
    "a = np.random.rand()\n",
    "print(a)"
   ]
  },
  {
   "cell_type": "code",
   "execution_count": 151,
   "id": "6df9ee67-9dcc-4238-a3ab-06f93b0069c8",
   "metadata": {},
   "outputs": [
    {
     "name": "stdout",
     "output_type": "stream",
     "text": [
      "0.9362096719026861\n"
     ]
    }
   ],
   "source": [
    "a = np.random.rand()\n",
    "print(a)"
   ]
  },
  {
   "cell_type": "code",
   "execution_count": 152,
   "id": "17d20b11-113a-4c52-8f82-1d78a4ad973e",
   "metadata": {},
   "outputs": [
    {
     "name": "stdout",
     "output_type": "stream",
     "text": [
      "0.18460237313887906\n"
     ]
    }
   ],
   "source": [
    "a = np.random.rand()\n",
    "print(a)"
   ]
  },
  {
   "cell_type": "code",
   "execution_count": 153,
   "id": "525b57bd-0370-417f-b6c1-b4ac84ba3aeb",
   "metadata": {},
   "outputs": [
    {
     "name": "stdout",
     "output_type": "stream",
     "text": [
      "[0.18201518 0.28035347 0.17363936 0.47548884 0.31340813]\n"
     ]
    }
   ],
   "source": [
    "a = np.random.rand(5)\n",
    "print(a)"
   ]
  },
  {
   "cell_type": "code",
   "execution_count": 154,
   "id": "ee81ff87-9e41-495c-8900-6eb3af4878e6",
   "metadata": {},
   "outputs": [
    {
     "name": "stdout",
     "output_type": "stream",
     "text": [
      "[0.63423128 0.86991579 0.28362642]\n"
     ]
    }
   ],
   "source": [
    "a = np.random.rand(3)\n",
    "print(a)"
   ]
  },
  {
   "cell_type": "code",
   "execution_count": 155,
   "id": "2d3bac50-355a-40cb-a6ee-3f50eedfd1a8",
   "metadata": {},
   "outputs": [
    {
     "name": "stdout",
     "output_type": "stream",
     "text": [
      "[[0.45284923 0.72147211 0.67008265 0.56110487 0.49599911]\n",
      " [0.00164849 0.75591585 0.63692939 0.80826694 0.53264474]\n",
      " [0.77101378 0.99246472 0.90505271 0.12778106 0.33790058]\n",
      " [0.52692966 0.38365659 0.81285583 0.71056439 0.77068837]\n",
      " [0.11563279 0.30036002 0.1739822  0.78263315 0.90972943]] <class 'numpy.ndarray'>\n"
     ]
    }
   ],
   "source": [
    "a = np.random.rand(5,5)\n",
    "print(a,type(a))"
   ]
  },
  {
   "cell_type": "code",
   "execution_count": 156,
   "id": "d9b1bee9-df9a-4440-bdf9-996bc65ea8d2",
   "metadata": {},
   "outputs": [
    {
     "name": "stdout",
     "output_type": "stream",
     "text": [
      "[[0.63143675 0.21518709 0.66375039]\n",
      " [0.43598521 0.71471723 0.46403627]\n",
      " [0.91424718 0.07285531 0.76693271]] <class 'numpy.ndarray'>\n"
     ]
    }
   ],
   "source": [
    "a = np.random.rand(3,3)\n",
    "print(a,type(a))"
   ]
  },
  {
   "cell_type": "code",
   "execution_count": 157,
   "id": "775d1d00-8cfc-4a36-a1bb-42f1907b90c0",
   "metadata": {},
   "outputs": [
    {
     "name": "stdout",
     "output_type": "stream",
     "text": [
      "[[[0.71362076 0.51916813 0.63586265]\n",
      "  [0.09378495 0.26042821 0.40955222]\n",
      "  [0.03308244 0.50740558 0.34010291]]\n",
      "\n",
      " [[0.40673751 0.63734556 0.97899997]\n",
      "  [0.365505   0.09655859 0.04280173]\n",
      "  [0.92353571 0.53476397 0.44057679]]] <class 'numpy.ndarray'>\n"
     ]
    }
   ],
   "source": [
    "a = np.random.rand(2,3,3)\n",
    "print(a,type(a))"
   ]
  },
  {
   "cell_type": "code",
   "execution_count": null,
   "id": "910902e2-bab9-4bfa-bdf1-1340f602a9e9",
   "metadata": {},
   "outputs": [],
   "source": []
  },
  {
   "cell_type": "markdown",
   "id": "c95defb2-5d49-47a9-ba73-bf7ad745132f",
   "metadata": {},
   "source": [
    "# 3) uniform()\n",
    "## Generating random integer values between programmer specified values.(start, stop) -- uniform distribution\n",
    "## syntax:uniform(low=0.0,high=1.0,size=None)"
   ]
  },
  {
   "cell_type": "code",
   "execution_count": 158,
   "id": "eccf8755-a542-430d-82a0-efad80f282ec",
   "metadata": {},
   "outputs": [
    {
     "name": "stdout",
     "output_type": "stream",
     "text": [
      "0.6934263975067045 <class 'float'>\n"
     ]
    }
   ],
   "source": [
    "a = np.random.uniform()\n",
    "print(a,type(a))"
   ]
  },
  {
   "cell_type": "code",
   "execution_count": 159,
   "id": "f801b875-90b3-4996-9293-6d023cfdf48a",
   "metadata": {},
   "outputs": [
    {
     "name": "stdout",
     "output_type": "stream",
     "text": [
      "0.6026830847644169 <class 'float'>\n"
     ]
    }
   ],
   "source": [
    "a = np.random.uniform()\n",
    "print(a,type(a))"
   ]
  },
  {
   "cell_type": "code",
   "execution_count": 160,
   "id": "5f15807b-7ba7-43f3-bb20-f7d6884ffc10",
   "metadata": {},
   "outputs": [
    {
     "name": "stdout",
     "output_type": "stream",
     "text": [
      "19.61371854957152 <class 'float'>\n"
     ]
    }
   ],
   "source": [
    "a = np.random.uniform(10,30)\n",
    "print(a,type(a))"
   ]
  },
  {
   "cell_type": "code",
   "execution_count": 161,
   "id": "3e05a2ef-369f-473f-9ed6-20e85cb2ac71",
   "metadata": {},
   "outputs": [
    {
     "name": "stdout",
     "output_type": "stream",
     "text": [
      "14.68837902800207 <class 'float'>\n"
     ]
    }
   ],
   "source": [
    "a = np.random.uniform(10,30)\n",
    "print(a,type(a))"
   ]
  },
  {
   "cell_type": "code",
   "execution_count": 163,
   "id": "2e0bf6e7-fa69-482a-b85b-77eb77870a76",
   "metadata": {},
   "outputs": [
    {
     "name": "stdout",
     "output_type": "stream",
     "text": [
      "[2.02645951 1.55807144 1.58531703 2.23101287 2.6889791  2.26041343\n",
      " 1.95342725 1.76302851 2.60356949 1.12918919] <class 'numpy.ndarray'>\n"
     ]
    }
   ],
   "source": [
    "a = np.random.uniform(1,3,size=10)\n",
    "print(a,type(a))"
   ]
  },
  {
   "cell_type": "code",
   "execution_count": 164,
   "id": "d5a9e6d2-8865-4fc1-b6b0-70317a525e06",
   "metadata": {},
   "outputs": [
    {
     "name": "stdout",
     "output_type": "stream",
     "text": [
      "[1.84107421 1.66312757 1.51647309 1.46448891 1.8226818  1.55981793\n",
      " 1.12873227 1.02104106 1.75486996 1.5937105 ] <class 'numpy.ndarray'>\n"
     ]
    }
   ],
   "source": [
    "a = np.random.uniform(1,2,size=10)\n",
    "print(a,type(a))"
   ]
  },
  {
   "cell_type": "code",
   "execution_count": 165,
   "id": "d98c0774-24b6-4b6a-9671-7e0bd014ba86",
   "metadata": {},
   "outputs": [
    {
     "name": "stdout",
     "output_type": "stream",
     "text": [
      "[[[3.79504998 2.44834898 2.7459411 ]\n",
      "  [2.90681987 2.37033072 2.09437103]\n",
      "  [2.78699704 3.48092727 1.08349197]]\n",
      "\n",
      " [[2.84129382 4.89483013 3.61120221]\n",
      "  [2.98131277 4.23401867 2.24216772]\n",
      "  [1.48385726 2.50471544 4.59910249]]\n",
      "\n",
      " [[2.00797779 1.91610174 1.45396896]\n",
      "  [4.8064436  2.58224723 1.14133993]\n",
      "  [4.84810839 3.84529181 2.94370446]]] <class 'numpy.ndarray'>\n"
     ]
    }
   ],
   "source": [
    "a = np.random.uniform(1,5,size=(3,3,3))\n",
    "print(a,type(a))"
   ]
  },
  {
   "cell_type": "code",
   "execution_count": 166,
   "id": "6bb9565a-cd5c-4e5c-8e71-d4009058125f",
   "metadata": {},
   "outputs": [
    {
     "name": "stdout",
     "output_type": "stream",
     "text": [
      "[[3.46556815 1.53488067 3.52919868]\n",
      " [2.3908192  1.83287152 3.96547427]\n",
      " [2.68498762 2.47609876 2.60977323]] <class 'numpy.ndarray'>\n"
     ]
    }
   ],
   "source": [
    "a = np.random.uniform(1,5,size=(3,3))\n",
    "print(a,type(a))"
   ]
  },
  {
   "cell_type": "code",
   "execution_count": 167,
   "id": "c4c4c23d-7c37-4520-bbd8-a9712f7213ac",
   "metadata": {},
   "outputs": [
    {
     "name": "stdout",
     "output_type": "stream",
     "text": [
      "[[[[3.11949252 3.13861424 3.88507043]\n",
      "   [4.01800115 4.55448395 3.46889317]\n",
      "   [2.41942606 1.21327236 4.85316281]]\n",
      "\n",
      "  [[4.75968372 1.06987689 2.32198557]\n",
      "   [2.7758316  3.34143264 4.65470783]\n",
      "   [1.59582442 4.35569444 3.47614288]]\n",
      "\n",
      "  [[4.9737367  1.07477645 2.18683483]\n",
      "   [2.50889687 1.64277866 1.03052227]\n",
      "   [2.35262803 1.9096516  2.87976247]]]\n",
      "\n",
      "\n",
      " [[[2.96713583 3.31586165 2.65989858]\n",
      "   [3.53741704 4.53498246 4.86099954]\n",
      "   [1.97516203 2.46439826 4.45391254]]\n",
      "\n",
      "  [[3.41589642 2.92378606 4.39906634]\n",
      "   [2.45141874 1.93662004 4.04976789]\n",
      "   [1.17957489 1.66587716 4.3557249 ]]\n",
      "\n",
      "  [[4.84488961 3.5845913  1.72410308]\n",
      "   [2.18076911 1.08959352 3.2641476 ]\n",
      "   [3.57703326 4.38401417 4.50182843]]]] <class 'numpy.ndarray'>\n"
     ]
    }
   ],
   "source": [
    "a = np.random.uniform(1,5,size=(2,3,3,3))\n",
    "print(a,type(a))"
   ]
  },
  {
   "cell_type": "code",
   "execution_count": null,
   "id": "19606c2a-d5d1-4636-a15a-ecf888a435bc",
   "metadata": {},
   "outputs": [],
   "source": []
  },
  {
   "cell_type": "markdown",
   "id": "d4f6302c-ae67-427f-bd9d-0a3c3b8656e2",
   "metadata": {},
   "source": [
    "# 4) randn()\n",
    "## It will Generate random integer values between 0.0 and 1.0 (Normal distribution)\n",
    "## Syntax: randn(d0,d1,d2,....,dn)"
   ]
  },
  {
   "cell_type": "code",
   "execution_count": 168,
   "id": "e60e7c41-8db3-4ad5-9ea0-54b0f137b8ce",
   "metadata": {},
   "outputs": [
    {
     "name": "stdout",
     "output_type": "stream",
     "text": [
      "-0.8791942978897859 <class 'float'>\n"
     ]
    }
   ],
   "source": [
    "a = np.random.randn() # gives single value -ve or +ve\n",
    "print(a,type(a))"
   ]
  },
  {
   "cell_type": "code",
   "execution_count": 169,
   "id": "1189475e-8700-49e2-bfa6-1dbb1fdc8b2d",
   "metadata": {},
   "outputs": [
    {
     "name": "stdout",
     "output_type": "stream",
     "text": [
      "0.16021208296700626 <class 'float'>\n"
     ]
    }
   ],
   "source": [
    "a = np.random.randn()\n",
    "print(a,type(a))"
   ]
  },
  {
   "cell_type": "code",
   "execution_count": 170,
   "id": "7c154e9c-9eee-437b-97ec-b9edd099d2af",
   "metadata": {},
   "outputs": [
    {
     "name": "stdout",
     "output_type": "stream",
     "text": [
      "-1.1844249346322295 <class 'float'>\n"
     ]
    }
   ],
   "source": [
    "a = np.random.randn()\n",
    "print(a,type(a))"
   ]
  },
  {
   "cell_type": "code",
   "execution_count": 171,
   "id": "11417ae0-4a63-416d-9f5d-7fdae660f6b3",
   "metadata": {},
   "outputs": [
    {
     "name": "stdout",
     "output_type": "stream",
     "text": [
      "[[ 0.64359863 -1.09094322  0.44361189]\n",
      " [ 1.07814266  0.88162202 -0.96289142]] <class 'numpy.ndarray'>\n"
     ]
    }
   ],
   "source": [
    "a = np.random.randn(2,3) # It gives 6 values 2 rows 3 col\n",
    "print(a,type(a))"
   ]
  },
  {
   "cell_type": "code",
   "execution_count": 172,
   "id": "a792e16e-91f8-490d-bd86-547aec4765e3",
   "metadata": {},
   "outputs": [
    {
     "name": "stdout",
     "output_type": "stream",
     "text": [
      "[[ 0.18273328  1.17127601 -1.47710493]\n",
      " [ 0.52518708  0.8550757  -0.19172042]\n",
      " [-0.34329759 -0.88217724  0.36406772]] <class 'numpy.ndarray'>\n"
     ]
    }
   ],
   "source": [
    "a = np.random.randn(3,3)\n",
    "print(a,type(a))"
   ]
  },
  {
   "cell_type": "code",
   "execution_count": 173,
   "id": "308de0dc-3ed5-4092-81d4-ae0b67f544a5",
   "metadata": {},
   "outputs": [
    {
     "name": "stdout",
     "output_type": "stream",
     "text": [
      "[[[-0.92920976  1.57826017  0.92126962]\n",
      "  [ 0.52146903 -1.06223861  0.7703057 ]\n",
      "  [ 1.15997642 -0.9273093   0.27687895]]\n",
      "\n",
      " [[-1.04436791  0.35106703 -0.64587375]\n",
      "  [-1.42332213  0.3870138  -2.18664109]\n",
      "  [-1.2696737  -0.38573302 -0.29332348]]\n",
      "\n",
      " [[-1.32832383  0.18428167  1.30281692]\n",
      "  [ 0.57179573  0.38315948 -1.2473908 ]\n",
      "  [ 0.69207311 -0.07683879  1.46121898]]] <class 'numpy.ndarray'>\n"
     ]
    }
   ],
   "source": [
    "a = np.random.randn(3,3,3)\n",
    "print(a,type(a))"
   ]
  },
  {
   "cell_type": "code",
   "execution_count": null,
   "id": "1595ea20-04e1-43ea-bd07-95f54a9d54aa",
   "metadata": {},
   "outputs": [],
   "source": []
  },
  {
   "cell_type": "markdown",
   "id": "5838a269-deee-4f5d-85da-1617b74c2c7f",
   "metadata": {},
   "source": [
    "# 5) normal()\n",
    "## It creates an array of random numbers that follow a normal (Gaussian) distribution — the classic bell curve!\n",
    "## syntax: normal(loc=0.0, scale=1.0, size=None)"
   ]
  },
  {
   "cell_type": "code",
   "execution_count": 174,
   "id": "6a2af8f7-d2e9-4367-92a7-37253ade19a3",
   "metadata": {},
   "outputs": [
    {
     "name": "stdout",
     "output_type": "stream",
     "text": [
      "0.5543902662411163 <class 'float'>\n"
     ]
    }
   ],
   "source": [
    "a = np.random.normal()\n",
    "print(a,type(a))"
   ]
  },
  {
   "cell_type": "code",
   "execution_count": 175,
   "id": "ac061736-11a0-4bc8-9554-7c9f9e2b0492",
   "metadata": {},
   "outputs": [
    {
     "name": "stdout",
     "output_type": "stream",
     "text": [
      "-1.2107760639287215 <class 'float'>\n"
     ]
    }
   ],
   "source": [
    "a = np.random.normal()\n",
    "print(a,type(a))"
   ]
  },
  {
   "cell_type": "code",
   "execution_count": 176,
   "id": "4286b75d-fe0e-469f-af44-86681457f7a4",
   "metadata": {},
   "outputs": [
    {
     "name": "stdout",
     "output_type": "stream",
     "text": [
      "[10.01328991 11.71976521 10.89734097 13.26122001  5.85972925 12.28088166] <class 'numpy.ndarray'>\n"
     ]
    }
   ],
   "source": [
    "a = np.random.normal(10,2,size=6)\n",
    "print(a,type(a))"
   ]
  },
  {
   "cell_type": "code",
   "execution_count": 178,
   "id": "a17f1fcd-85b6-4338-9416-dac746dbab70",
   "metadata": {},
   "outputs": [
    {
     "name": "stdout",
     "output_type": "stream",
     "text": [
      "[[ 9.89017155  8.8325059   8.78723298]\n",
      " [11.68341279  9.44674615 14.21044682]\n",
      " [ 9.58408525  7.40782024  5.52003906]] <class 'numpy.ndarray'>\n"
     ]
    }
   ],
   "source": [
    "a = np.random.normal(10,2,size=(3,3))\n",
    "print(a,type(a))"
   ]
  },
  {
   "cell_type": "code",
   "execution_count": 179,
   "id": "d78b0a04-13ea-4abb-92ea-254bc274d0ba",
   "metadata": {},
   "outputs": [
    {
     "name": "stdout",
     "output_type": "stream",
     "text": [
      "[[ 6.61183263 12.86052845  9.30309031]\n",
      " [ 9.99520071 10.17002788  9.56875203]\n",
      " [ 8.43871487 12.3826687  10.2312756 ]] <class 'numpy.ndarray'>\n"
     ]
    }
   ],
   "source": [
    "a = np.random.normal(10,2,size=(3,3))\n",
    "print(a,type(a))"
   ]
  },
  {
   "cell_type": "code",
   "execution_count": 180,
   "id": "4dc7ced5-f018-4295-ad05-595f689e512b",
   "metadata": {},
   "outputs": [
    {
     "name": "stdout",
     "output_type": "stream",
     "text": [
      "[[[ 9.13995039 11.28495562  7.33754944]\n",
      "  [ 9.81582975 10.02394447 10.69888152]\n",
      "  [ 9.9841975  12.82654857 12.37258296]]\n",
      "\n",
      " [[11.64572579 11.95215421 11.10100717]\n",
      "  [ 9.08824462 11.55606484 10.9400802 ]\n",
      "  [ 9.38413194 10.27552192 10.3911066 ]]] <class 'numpy.ndarray'>\n"
     ]
    }
   ],
   "source": [
    "a = np.random.normal(10,2,size=(2,3,3))\n",
    "print(a,type(a))"
   ]
  },
  {
   "cell_type": "code",
   "execution_count": 181,
   "id": "0afcbd2f-170c-481c-988a-9e09cb8f545d",
   "metadata": {},
   "outputs": [
    {
     "name": "stdout",
     "output_type": "stream",
     "text": [
      "[[[ 7.94710204 11.807253   12.36314482]\n",
      "  [ 9.94895347 12.51896685  6.5037563 ]\n",
      "  [10.01269509 11.22156996  6.84805925]]\n",
      "\n",
      " [[ 7.30864582 10.68579827 11.52998202]\n",
      "  [10.49807905 10.47239761 11.90610849]\n",
      "  [13.17955972  8.49195064 12.11069376]]\n",
      "\n",
      " [[ 7.12001748  8.56849802 11.17604101]\n",
      "  [11.96094658 12.23915734  9.30873207]\n",
      "  [10.99803008 10.28850413 10.17362186]]] <class 'numpy.ndarray'>\n"
     ]
    }
   ],
   "source": [
    "a = np.random.normal(10,2,size=(3,3,3))\n",
    "print(a,type(a))"
   ]
  },
  {
   "cell_type": "code",
   "execution_count": null,
   "id": "82f03530-1598-4165-9f65-5735c0baf9ad",
   "metadata": {},
   "outputs": [],
   "source": []
  },
  {
   "cell_type": "markdown",
   "id": "7eb95bbd-f791-456a-b77c-135a6bad52f1",
   "metadata": {},
   "source": [
    "# 6) shuffle()\n",
    "## It is nothing but re-organizing elements in the place of same element(mutable object)\n",
    "## syntax: shuffle(x)"
   ]
  },
  {
   "cell_type": "code",
   "execution_count": 183,
   "id": "25d5e6db-5018-4f23-b8c5-913f4d5e3947",
   "metadata": {},
   "outputs": [
    {
     "name": "stdout",
     "output_type": "stream",
     "text": [
      "[10 20 30 40 50] <class 'numpy.ndarray'>\n",
      "--------------------------\n",
      "Shuffled value= [10 40 30 20 50]\n"
     ]
    }
   ],
   "source": [
    "a = np.array([10,20,30,40,50])\n",
    "print(a,type(a))\n",
    "print(\"--------------------------\")\n",
    "np.random.shuffle(a)\n",
    "print(\"Shuffled value=\",a)"
   ]
  },
  {
   "cell_type": "code",
   "execution_count": 184,
   "id": "e8b7db1f-34d9-40ec-ac7c-060aec38f85e",
   "metadata": {},
   "outputs": [
    {
     "name": "stdout",
     "output_type": "stream",
     "text": [
      "Shuffled value= [10 30 20 40 50]\n"
     ]
    }
   ],
   "source": [
    "np.random.shuffle(a)\n",
    "print(\"Shuffled value=\",a)"
   ]
  },
  {
   "cell_type": "code",
   "execution_count": 185,
   "id": "893cd3c0-343e-4219-b967-6866c79eb05e",
   "metadata": {},
   "outputs": [
    {
     "name": "stdout",
     "output_type": "stream",
     "text": [
      "Shuffled value= [10 20 30 40 50]\n"
     ]
    }
   ],
   "source": [
    "np.random.shuffle(a)\n",
    "print(\"Shuffled value=\",a)"
   ]
  },
  {
   "cell_type": "code",
   "execution_count": 186,
   "id": "242fc0a8-5e61-49d5-ae67-f34b745ecf64",
   "metadata": {},
   "outputs": [
    {
     "data": {
      "text/plain": [
       "np.int64(30)"
      ]
     },
     "execution_count": 186,
     "metadata": {},
     "output_type": "execute_result"
    }
   ],
   "source": [
    "a[2]"
   ]
  },
  {
   "cell_type": "code",
   "execution_count": 187,
   "id": "85df198a-71e3-4be8-85c4-3cabc1950cad",
   "metadata": {},
   "outputs": [
    {
     "data": {
      "text/plain": [
       "np.int64(20)"
      ]
     },
     "execution_count": 187,
     "metadata": {},
     "output_type": "execute_result"
    }
   ],
   "source": [
    "a[1]"
   ]
  },
  {
   "cell_type": "code",
   "execution_count": 188,
   "id": "65807b58-65a0-463e-ae84-ffd917c08d71",
   "metadata": {},
   "outputs": [
    {
     "name": "stdout",
     "output_type": "stream",
     "text": [
      "[94 51 74 57 79 98 50 81  6 57 52 14 79 56 34  4 73 30 97 21  5 79 88 68\n",
      " 20 54 71 36 15 61]\n"
     ]
    }
   ],
   "source": [
    "a = np.random.randint(1,101,size=30)\n",
    "print(a)"
   ]
  },
  {
   "cell_type": "code",
   "execution_count": 189,
   "id": "3eaf69b7-d6f6-4229-9c6c-209c98d0e196",
   "metadata": {},
   "outputs": [
    {
     "name": "stdout",
     "output_type": "stream",
     "text": [
      "[73 81 15 98 79 79 61 57 51 57  5 34  6 97  4 21 94 56 79 71 30 54 74 88\n",
      " 36 50 20 68 14 52]\n"
     ]
    }
   ],
   "source": [
    "np.random.shuffle(a)\n",
    "print(a)"
   ]
  },
  {
   "cell_type": "code",
   "execution_count": 190,
   "id": "3784e950-5905-46bf-a9c8-9891ea8ebba3",
   "metadata": {},
   "outputs": [
    {
     "name": "stdout",
     "output_type": "stream",
     "text": [
      "[[30 27 21 54 14 85]\n",
      " [19 94 82 68 55 33]\n",
      " [51 33 59 26 46 38]\n",
      " [12 98 92 87 87 16]\n",
      " [92 91 94  9 64 79]] <class 'numpy.ndarray'>\n",
      "-----------------------------\n",
      "[[30 27 21 54 14 85]\n",
      " [51 33 59 26 46 38]\n",
      " [12 98 92 87 87 16]\n",
      " [19 94 82 68 55 33]\n",
      " [92 91 94  9 64 79]]\n"
     ]
    }
   ],
   "source": [
    "a = np.random.randint(1,101,size=(5,6))\n",
    "print(a,type(a))\n",
    "print(\"-----------------------------\")\n",
    "np.random.shuffle(a)\n",
    "print(a)"
   ]
  },
  {
   "cell_type": "code",
   "execution_count": 191,
   "id": "dbf40a4e-d0c7-40e5-b323-dc2f8bcb210a",
   "metadata": {},
   "outputs": [
    {
     "name": "stdout",
     "output_type": "stream",
     "text": [
      "[[ 9 37 77 30  8 34]\n",
      " [60 77 55 60 16 66]\n",
      " [54 39 81 49  8 76]\n",
      " [57 62 57  6 71 71]\n",
      " [48 36 44 10 84 70]] <class 'numpy.ndarray'>\n",
      "-----------------------------\n",
      "[[48 36 44 10 84 70]\n",
      " [54 39 81 49  8 76]\n",
      " [ 9 37 77 30  8 34]\n",
      " [60 77 55 60 16 66]\n",
      " [57 62 57  6 71 71]]\n"
     ]
    }
   ],
   "source": [
    "a = np.random.randint(1,101,size=(5,6))\n",
    "print(a,type(a))\n",
    "print(\"-----------------------------\")\n",
    "np.random.shuffle(a)\n",
    "print(a)"
   ]
  },
  {
   "cell_type": "code",
   "execution_count": null,
   "id": "c65f29d6-ff4d-4178-97cb-656af32c54ad",
   "metadata": {},
   "outputs": [],
   "source": []
  },
  {
   "cell_type": "markdown",
   "id": "9fa9fd9d-29da-459a-9792-0f1310fdef9d",
   "metadata": {},
   "source": [
    "# v & h & d stack()"
   ]
  },
  {
   "cell_type": "code",
   "execution_count": 193,
   "id": "799444d6-a1c2-4791-9f2e-6486f257cf00",
   "metadata": {},
   "outputs": [
    {
     "name": "stdout",
     "output_type": "stream",
     "text": [
      "[ 10  20  30  40 100 200 300 400] <class 'numpy.ndarray'>\n"
     ]
    }
   ],
   "source": [
    "a = np.array([10,20,30,40])\n",
    "b = np.array([100,200,300,400])\n",
    "c = np.hstack((a,b))\n",
    "print(c,type(c))"
   ]
  },
  {
   "cell_type": "code",
   "execution_count": 194,
   "id": "f22f2c68-450d-466d-a4f4-2e0130fb468f",
   "metadata": {},
   "outputs": [
    {
     "name": "stdout",
     "output_type": "stream",
     "text": [
      "[100 200 300 400 500 600 700 800] <class 'numpy.ndarray'>\n"
     ]
    }
   ],
   "source": [
    "a = np.array([100,200,300,400])\n",
    "b = np.array([500,600,700,800])\n",
    "c = np.hstack((a,b))\n",
    "print(c,type(c))"
   ]
  },
  {
   "cell_type": "code",
   "execution_count": 196,
   "id": "81925c14-d0b3-42d0-ba05-46c646d50a91",
   "metadata": {},
   "outputs": [
    {
     "name": "stdout",
     "output_type": "stream",
     "text": [
      "Matrix-A\n",
      "[[10 20 30 40]\n",
      " [50 60 70 80]\n",
      " [90 15 25 35]] <class 'numpy.ndarray'>\n",
      "--------------------------\n",
      "Matrix-B\n",
      "[[100 200 300]\n",
      " [500 600 700]\n",
      " [900 750 850]] <class 'numpy.ndarray'>\n",
      "--------------------------\n",
      "[[ 10  20  30  40 100 200 300]\n",
      " [ 50  60  70  80 500 600 700]\n",
      " [ 90  15  25  35 900 750 850]] <class 'numpy.ndarray'>\n"
     ]
    }
   ],
   "source": [
    "a = np.array([[10,20,30,40],[50,60,70,80],[90,15,25,35]])\n",
    "b = np.array([[100,200,300],[500,600,700],[900,750,850]])\n",
    "print(\"Matrix-A\")\n",
    "print(a,type(a))\n",
    "print(\"--------------------------\")\n",
    "print(\"Matrix-B\")\n",
    "print(b,type(b))\n",
    "print(\"--------------------------\")\n",
    "c = np.hstack((a,b))\n",
    "print(c,type(c))"
   ]
  },
  {
   "cell_type": "code",
   "execution_count": 199,
   "id": "d9e59dbf-7554-49e5-a9d8-eaf9266a5d75",
   "metadata": {},
   "outputs": [
    {
     "name": "stdout",
     "output_type": "stream",
     "text": [
      "Matrix-A\n",
      "[[10 20 30 40]\n",
      " [50 60 70 80]\n",
      " [90 15 25 35]] <class 'numpy.ndarray'>\n",
      "--------------------------\n",
      "Matrix-B\n",
      "[[100 200 300 790]\n",
      " [500 600 700 456]] <class 'numpy.ndarray'>\n",
      "--------------------------\n",
      "[[ 10  20  30  40]\n",
      " [ 50  60  70  80]\n",
      " [ 90  15  25  35]\n",
      " [100 200 300 790]\n",
      " [500 600 700 456]] <class 'numpy.ndarray'>\n"
     ]
    }
   ],
   "source": [
    "a = np.array([[10,20,30,40],[50,60,70,80],[90,15,25,35]])\n",
    "b = np.array([[100,200,300,790],[500,600,700,456]])\n",
    "print(\"Matrix-A\")\n",
    "print(a,type(a))\n",
    "print(\"--------------------------\")\n",
    "print(\"Matrix-B\")\n",
    "print(b,type(b))\n",
    "print(\"--------------------------\")\n",
    "c = np.vstack((a,b))\n",
    "print(c,type(c))"
   ]
  },
  {
   "cell_type": "code",
   "execution_count": null,
   "id": "39db180d-7ec3-43e3-ba5f-5b26f8610639",
   "metadata": {},
   "outputs": [],
   "source": []
  },
  {
   "cell_type": "code",
   "execution_count": null,
   "id": "9264f94a-f253-4e78-ae3c-761e0dffc2c9",
   "metadata": {},
   "outputs": [],
   "source": []
  }
 ],
 "metadata": {
  "kernelspec": {
   "display_name": "Python 3 (ipykernel)",
   "language": "python",
   "name": "python3"
  },
  "language_info": {
   "codemirror_mode": {
    "name": "ipython",
    "version": 3
   },
   "file_extension": ".py",
   "mimetype": "text/x-python",
   "name": "python",
   "nbconvert_exporter": "python",
   "pygments_lexer": "ipython3",
   "version": "3.13.5"
  }
 },
 "nbformat": 4,
 "nbformat_minor": 5
}
