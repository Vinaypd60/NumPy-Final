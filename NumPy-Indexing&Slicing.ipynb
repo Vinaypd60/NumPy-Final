{
 "cells": [
  {
   "cell_type": "markdown",
   "id": "0e62ca7e-1aaa-4f8b-872e-2ef884d37719",
   "metadata": {},
   "source": [
    "# NumPy Indexing:\n",
    "## Indexing is the process of obtaining single value from given iterable object(It contains multiple values)\n",
    "## The values of iterable object contains +ve and -ve indices.\n",
    "## Now an object of ndarray is also one of the iterable object.\n",
    "## The element of ndarray contains -ve and +ve indices.\n",
    "## In numpy programming , we can apply indexing operations on 3-types.\n",
    "### 1) 1-D\n",
    "### SYNTAX: 1darray[index]\n",
    "### 2) 2-D\n",
    "### SYNTAX: 2darrayobj[row-ind,col-ind]\n",
    "### 3) 3-D"
   ]
  },
  {
   "cell_type": "markdown",
   "id": "bdc855b5-15af-454e-ab80-c9c55f611b8c",
   "metadata": {},
   "source": [
    " # 1-D Indexing"
   ]
  },
  {
   "cell_type": "code",
   "execution_count": 1,
   "id": "7f92b720-802f-4739-a802-9ce4a43924ac",
   "metadata": {},
   "outputs": [],
   "source": [
    "import numpy as np"
   ]
  },
  {
   "cell_type": "code",
   "execution_count": 2,
   "id": "71a0338f-25ff-439b-9cb9-5253dacae7c2",
   "metadata": {},
   "outputs": [
    {
     "name": "stdout",
     "output_type": "stream",
     "text": [
      "[10 20 30 40 50 60] <class 'numpy.ndarray'>\n"
     ]
    }
   ],
   "source": [
    "a = np.array([10,20,30,40,50,60])\n",
    "print(a,type(a))"
   ]
  },
  {
   "cell_type": "code",
   "execution_count": 3,
   "id": "e36aef50-3f85-4bad-b1ef-1a356e785e64",
   "metadata": {},
   "outputs": [
    {
     "data": {
      "text/plain": [
       "np.int64(10)"
      ]
     },
     "execution_count": 3,
     "metadata": {},
     "output_type": "execute_result"
    }
   ],
   "source": [
    "a[0] # 10"
   ]
  },
  {
   "cell_type": "code",
   "execution_count": 4,
   "id": "aa85d9de-48f9-48bd-8934-9c391d1dec69",
   "metadata": {},
   "outputs": [
    {
     "data": {
      "text/plain": [
       "np.int64(20)"
      ]
     },
     "execution_count": 4,
     "metadata": {},
     "output_type": "execute_result"
    }
   ],
   "source": [
    "a[1] # 20"
   ]
  },
  {
   "cell_type": "code",
   "execution_count": 5,
   "id": "0df80ec7-7c14-4857-ba8c-aab7f027eea0",
   "metadata": {},
   "outputs": [
    {
     "data": {
      "text/plain": [
       "np.int64(30)"
      ]
     },
     "execution_count": 5,
     "metadata": {},
     "output_type": "execute_result"
    }
   ],
   "source": [
    "a[2] # 30"
   ]
  },
  {
   "cell_type": "code",
   "execution_count": 8,
   "id": "15f1fce9-1aef-4a22-96db-ba6d091e8f79",
   "metadata": {},
   "outputs": [
    {
     "data": {
      "text/plain": [
       "np.int64(60)"
      ]
     },
     "execution_count": 8,
     "metadata": {},
     "output_type": "execute_result"
    }
   ],
   "source": [
    "a[len(a)-1] # 60"
   ]
  },
  {
   "cell_type": "code",
   "execution_count": 9,
   "id": "bf340c0e-c9f1-4d10-b14e-f164481e5cb1",
   "metadata": {},
   "outputs": [
    {
     "data": {
      "text/plain": [
       "np.int64(10)"
      ]
     },
     "execution_count": 9,
     "metadata": {},
     "output_type": "execute_result"
    }
   ],
   "source": [
    "a[-len(a)] # 10"
   ]
  },
  {
   "cell_type": "code",
   "execution_count": 10,
   "id": "bad98400-8786-4781-adf9-b4932c77f5e4",
   "metadata": {},
   "outputs": [
    {
     "data": {
      "text/plain": [
       "np.int64(60)"
      ]
     },
     "execution_count": 10,
     "metadata": {},
     "output_type": "execute_result"
    }
   ],
   "source": [
    "a[-1]"
   ]
  },
  {
   "cell_type": "code",
   "execution_count": 11,
   "id": "2b1922b5-44ce-42ff-bb11-b164717c4690",
   "metadata": {},
   "outputs": [
    {
     "data": {
      "text/plain": [
       "np.int64(30)"
      ]
     },
     "execution_count": 11,
     "metadata": {},
     "output_type": "execute_result"
    }
   ],
   "source": [
    "a[-4]"
   ]
  },
  {
   "cell_type": "code",
   "execution_count": 12,
   "id": "f910b728-63bc-49e8-9687-0f331e2b79bf",
   "metadata": {},
   "outputs": [
    {
     "ename": "IndexError",
     "evalue": "index 100 is out of bounds for axis 0 with size 6",
     "output_type": "error",
     "traceback": [
      "\u001b[1;31m---------------------------------------------------------------------------\u001b[0m",
      "\u001b[1;31mIndexError\u001b[0m                                Traceback (most recent call last)",
      "Cell \u001b[1;32mIn[12], line 1\u001b[0m\n\u001b[1;32m----> 1\u001b[0m a[\u001b[38;5;241m100\u001b[39m]\n",
      "\u001b[1;31mIndexError\u001b[0m: index 100 is out of bounds for axis 0 with size 6"
     ]
    }
   ],
   "source": [
    "a[100] # IndexError: index 100 is out of bounds for axis 0 with size 6"
   ]
  },
  {
   "cell_type": "code",
   "execution_count": 14,
   "id": "4bccffc1-85d9-45cc-800b-1acc7f30d131",
   "metadata": {},
   "outputs": [
    {
     "ename": "IndexError",
     "evalue": "index -100 is out of bounds for axis 0 with size 6",
     "output_type": "error",
     "traceback": [
      "\u001b[1;31m---------------------------------------------------------------------------\u001b[0m",
      "\u001b[1;31mIndexError\u001b[0m                                Traceback (most recent call last)",
      "Cell \u001b[1;32mIn[14], line 1\u001b[0m\n\u001b[1;32m----> 1\u001b[0m a[\u001b[38;5;241m-\u001b[39m\u001b[38;5;241m100\u001b[39m]\n",
      "\u001b[1;31mIndexError\u001b[0m: index -100 is out of bounds for axis 0 with size 6"
     ]
    }
   ],
   "source": [
    "a[-100] #IndexError: index -100 is out of bounds for axis 0 with size 6"
   ]
  },
  {
   "cell_type": "code",
   "execution_count": 17,
   "id": "04877938-a7e0-4111-8b57-2bb463723e90",
   "metadata": {},
   "outputs": [
    {
     "name": "stdout",
     "output_type": "stream",
     "text": [
      "Content of a= [10 20 30 40 50 60]\n",
      "Dimensions= 1\n",
      "Shape= (6,)\n",
      "Size= 6\n"
     ]
    }
   ],
   "source": [
    "print(\"Content of a=\",a)\n",
    "print(\"Dimensions=\",a.ndim)\n",
    "print(\"Shape=\",a.shape)\n",
    "print(\"Size=\",a.size)"
   ]
  },
  {
   "cell_type": "code",
   "execution_count": 18,
   "id": "5319e158-6bfe-49ab-9d15-3e54252715c6",
   "metadata": {},
   "outputs": [
    {
     "name": "stdout",
     "output_type": "stream",
     "text": [
      "Item size of a= 8\n"
     ]
    }
   ],
   "source": [
    "print(\"Item size of a=\",a.itemsize) # here itemsize gives us size of the each value(bytes)"
   ]
  },
  {
   "cell_type": "code",
   "execution_count": 19,
   "id": "e94492d6-73ce-4647-9ac9-6e1888a6984a",
   "metadata": {},
   "outputs": [
    {
     "name": "stdout",
     "output_type": "stream",
     "text": [
      "[1. 2. 3. 4. 5. 6.] <class 'numpy.ndarray'>\n",
      "-------------------------------\n",
      "Content of a= [1. 2. 3. 4. 5. 6.]\n",
      "Dimensions= 1\n",
      "Shape= (6,)\n",
      "Size= 6\n",
      "Item size of a= 8\n"
     ]
    }
   ],
   "source": [
    "a = np.array([1.0,2.0,3.0,4.0,5.0,6.0])\n",
    "print(a,type(a))\n",
    "print(\"-------------------------------\")\n",
    "print(\"Content of a=\",a)\n",
    "print(\"Dimensions=\",a.ndim)\n",
    "print(\"Shape=\",a.shape)\n",
    "print(\"Size=\",a.size)\n",
    "print(\"Item size of a=\",a.itemsize) # here itemsize gives us size of the each value(bytes)"
   ]
  },
  {
   "cell_type": "code",
   "execution_count": null,
   "id": "01d7e481-12f4-4995-870a-5483413fba7d",
   "metadata": {},
   "outputs": [],
   "source": []
  },
  {
   "cell_type": "markdown",
   "id": "51207815-987a-4922-8528-1a76f868abc2",
   "metadata": {},
   "source": [
    "# 2D Indexing"
   ]
  },
  {
   "cell_type": "code",
   "execution_count": 20,
   "id": "457ba3a9-366f-4e03-81ff-65acc011767e",
   "metadata": {},
   "outputs": [
    {
     "name": "stdout",
     "output_type": "stream",
     "text": [
      "[[ 0  1  2  3]\n",
      " [ 4  5  6  7]\n",
      " [ 8  9 10 11]\n",
      " [12 13 14 15]] <class 'numpy.ndarray'>\n",
      "----------------------------\n"
     ]
    },
    {
     "data": {
      "text/plain": [
       "np.int64(5)"
      ]
     },
     "execution_count": 20,
     "metadata": {},
     "output_type": "execute_result"
    }
   ],
   "source": [
    "a = np.arange(16).reshape(4,4)\n",
    "print(a,type(a))\n",
    "print(\"----------------------------\")\n",
    "a[1,1]"
   ]
  },
  {
   "cell_type": "code",
   "execution_count": 21,
   "id": "9fb26c6a-b587-496c-9688-44b6bff3e486",
   "metadata": {},
   "outputs": [
    {
     "data": {
      "text/plain": [
       "np.int64(15)"
      ]
     },
     "execution_count": 21,
     "metadata": {},
     "output_type": "execute_result"
    }
   ],
   "source": [
    "a[3,3] # 15"
   ]
  },
  {
   "cell_type": "code",
   "execution_count": 22,
   "id": "2d778d6e-93d3-4b96-8d97-8f7ad8f5d85f",
   "metadata": {},
   "outputs": [
    {
     "data": {
      "text/plain": [
       "np.int64(13)"
      ]
     },
     "execution_count": 22,
     "metadata": {},
     "output_type": "execute_result"
    }
   ],
   "source": [
    "a[3,1] # 13"
   ]
  },
  {
   "cell_type": "code",
   "execution_count": 23,
   "id": "34abda9a-406f-4088-a8b5-39f744a56346",
   "metadata": {},
   "outputs": [
    {
     "data": {
      "text/plain": [
       "np.int64(7)"
      ]
     },
     "execution_count": 23,
     "metadata": {},
     "output_type": "execute_result"
    }
   ],
   "source": [
    "a[1,3] # 7"
   ]
  },
  {
   "cell_type": "code",
   "execution_count": 24,
   "id": "dcf5ca3f-2abd-4d4c-9892-565a7b5b7590",
   "metadata": {},
   "outputs": [
    {
     "name": "stdout",
     "output_type": "stream",
     "text": [
      "[[ 0  1  2  3]\n",
      " [ 4  5  6  7]\n",
      " [ 8  9 10 11]\n",
      " [12 13 14 15]]\n"
     ]
    }
   ],
   "source": [
    "print(a)"
   ]
  },
  {
   "cell_type": "code",
   "execution_count": 25,
   "id": "d8ad447a-7aa8-4208-b60e-c3432bbf6b2b",
   "metadata": {},
   "outputs": [
    {
     "data": {
      "text/plain": [
       "np.int64(0)"
      ]
     },
     "execution_count": 25,
     "metadata": {},
     "output_type": "execute_result"
    }
   ],
   "source": [
    "a[-4,-4]"
   ]
  },
  {
   "cell_type": "code",
   "execution_count": 26,
   "id": "ddebbe95-a26d-4270-bf1e-ba63a1529fcd",
   "metadata": {},
   "outputs": [
    {
     "data": {
      "text/plain": [
       "np.int64(6)"
      ]
     },
     "execution_count": 26,
     "metadata": {},
     "output_type": "execute_result"
    }
   ],
   "source": [
    "a[-3,-2]"
   ]
  },
  {
   "cell_type": "code",
   "execution_count": 27,
   "id": "d536605e-353b-43c1-af60-30ddc4227d19",
   "metadata": {},
   "outputs": [
    {
     "data": {
      "text/plain": [
       "np.int64(10)"
      ]
     },
     "execution_count": 27,
     "metadata": {},
     "output_type": "execute_result"
    }
   ],
   "source": [
    "a[-2,-2]"
   ]
  },
  {
   "cell_type": "code",
   "execution_count": 28,
   "id": "81e36257-f2c5-48d3-85cf-4665accc2c8f",
   "metadata": {},
   "outputs": [
    {
     "data": {
      "text/plain": [
       "np.int64(6)"
      ]
     },
     "execution_count": 28,
     "metadata": {},
     "output_type": "execute_result"
    }
   ],
   "source": [
    "a[1,-2]"
   ]
  },
  {
   "cell_type": "code",
   "execution_count": 29,
   "id": "bbb04e41-3c36-4947-8c69-b9a8a7242d58",
   "metadata": {},
   "outputs": [
    {
     "data": {
      "text/plain": [
       "np.int64(9)"
      ]
     },
     "execution_count": 29,
     "metadata": {},
     "output_type": "execute_result"
    }
   ],
   "source": [
    "a[2,-3]"
   ]
  },
  {
   "cell_type": "code",
   "execution_count": null,
   "id": "1aef3b9e-4e91-4903-8bf8-deedaf75520a",
   "metadata": {},
   "outputs": [],
   "source": []
  },
  {
   "cell_type": "markdown",
   "id": "ddfa2321-6a7b-481b-9d60-09e028e1971f",
   "metadata": {},
   "source": [
    "# ND -Indexing"
   ]
  },
  {
   "cell_type": "code",
   "execution_count": 30,
   "id": "14f6b802-e644-4557-a2da-238f4e78370b",
   "metadata": {},
   "outputs": [
    {
     "name": "stdout",
     "output_type": "stream",
     "text": [
      "[[[ 0  1  2]\n",
      "  [ 3  4  5]\n",
      "  [ 6  7  8]]\n",
      "\n",
      " [[ 9 10 11]\n",
      "  [12 13 14]\n",
      "  [15 16 17]]\n",
      "\n",
      " [[18 19 20]\n",
      "  [21 22 23]\n",
      "  [24 25 26]]] <class 'numpy.ndarray'>\n",
      "--------------------------\n",
      "Content of a= [[[ 0  1  2]\n",
      "  [ 3  4  5]\n",
      "  [ 6  7  8]]\n",
      "\n",
      " [[ 9 10 11]\n",
      "  [12 13 14]\n",
      "  [15 16 17]]\n",
      "\n",
      " [[18 19 20]\n",
      "  [21 22 23]\n",
      "  [24 25 26]]]\n",
      "Dimensions= 3\n",
      "Shape= (3, 3, 3)\n",
      "Size= 27\n",
      "Item size of a= 8\n"
     ]
    }
   ],
   "source": [
    "a = np.arange(27).reshape(3,3,3)\n",
    "print(a,type(a))\n",
    "print(\"--------------------------\")\n",
    "print(\"Content of a=\",a)\n",
    "print(\"Dimensions=\",a.ndim)\n",
    "print(\"Shape=\",a.shape)\n",
    "print(\"Size=\",a.size)\n",
    "print(\"Item size of a=\",a.itemsize) "
   ]
  },
  {
   "cell_type": "code",
   "execution_count": 31,
   "id": "66d73352-de5b-4c31-b50e-7e9251096aa4",
   "metadata": {},
   "outputs": [
    {
     "name": "stdout",
     "output_type": "stream",
     "text": [
      "[[[ 0  1  2]\n",
      "  [ 3  4  5]\n",
      "  [ 6  7  8]]\n",
      "\n",
      " [[ 9 10 11]\n",
      "  [12 13 14]\n",
      "  [15 16 17]]\n",
      "\n",
      " [[18 19 20]\n",
      "  [21 22 23]\n",
      "  [24 25 26]]]\n"
     ]
    }
   ],
   "source": [
    "print(a)"
   ]
  },
  {
   "cell_type": "code",
   "execution_count": 32,
   "id": "fba8f922-3bfb-4a36-b9d9-7c5d5d3b08da",
   "metadata": {},
   "outputs": [
    {
     "data": {
      "text/plain": [
       "np.int64(4)"
      ]
     },
     "execution_count": 32,
     "metadata": {},
     "output_type": "execute_result"
    }
   ],
   "source": [
    "a[0,1,1] # Matrix,row index, col index = 4"
   ]
  },
  {
   "cell_type": "code",
   "execution_count": 33,
   "id": "60c2f30c-003e-4a98-b34f-7fa0f9cf3037",
   "metadata": {},
   "outputs": [
    {
     "data": {
      "text/plain": [
       "np.int64(8)"
      ]
     },
     "execution_count": 33,
     "metadata": {},
     "output_type": "execute_result"
    }
   ],
   "source": [
    "a[0,2,2] # 8 "
   ]
  },
  {
   "cell_type": "code",
   "execution_count": 34,
   "id": "ee9fba9a-e777-4bb1-a0ae-64fcfae7ca6e",
   "metadata": {},
   "outputs": [
    {
     "data": {
      "text/plain": [
       "np.int64(11)"
      ]
     },
     "execution_count": 34,
     "metadata": {},
     "output_type": "execute_result"
    }
   ],
   "source": [
    "a[1,0,2] # 11"
   ]
  },
  {
   "cell_type": "code",
   "execution_count": 35,
   "id": "f22d6209-1b3d-449d-8261-5f48387b302b",
   "metadata": {},
   "outputs": [
    {
     "data": {
      "text/plain": [
       "np.int64(15)"
      ]
     },
     "execution_count": 35,
     "metadata": {},
     "output_type": "execute_result"
    }
   ],
   "source": [
    "a[1,2,0] # 15"
   ]
  },
  {
   "cell_type": "code",
   "execution_count": 36,
   "id": "f9465d4a-c845-48df-b8d7-59081876485b",
   "metadata": {},
   "outputs": [
    {
     "data": {
      "text/plain": [
       "np.int64(20)"
      ]
     },
     "execution_count": 36,
     "metadata": {},
     "output_type": "execute_result"
    }
   ],
   "source": [
    "a[2,0,2] # 20"
   ]
  },
  {
   "cell_type": "code",
   "execution_count": 37,
   "id": "000dca8b-0093-42b4-83d5-5b0031cfcdbc",
   "metadata": {},
   "outputs": [
    {
     "data": {
      "text/plain": [
       "np.int64(26)"
      ]
     },
     "execution_count": 37,
     "metadata": {},
     "output_type": "execute_result"
    }
   ],
   "source": [
    "a[2,2,2] # 26"
   ]
  },
  {
   "cell_type": "code",
   "execution_count": 38,
   "id": "3b630384-8739-4161-8072-639faee833da",
   "metadata": {},
   "outputs": [
    {
     "data": {
      "text/plain": [
       "np.int64(4)"
      ]
     },
     "execution_count": 38,
     "metadata": {},
     "output_type": "execute_result"
    }
   ],
   "source": [
    "a[-3,1,1]"
   ]
  },
  {
   "cell_type": "code",
   "execution_count": 39,
   "id": "5b974f20-201c-4f1a-b115-44bba5c97b7c",
   "metadata": {},
   "outputs": [
    {
     "data": {
      "text/plain": [
       "np.int64(13)"
      ]
     },
     "execution_count": 39,
     "metadata": {},
     "output_type": "execute_result"
    }
   ],
   "source": [
    "a[-2,1,1]"
   ]
  },
  {
   "cell_type": "code",
   "execution_count": 40,
   "id": "6881905b-4d01-4a92-bcb7-681986e7e4d4",
   "metadata": {},
   "outputs": [
    {
     "data": {
      "text/plain": [
       "array([[18, 19, 20],\n",
       "       [21, 22, 23],\n",
       "       [24, 25, 26]])"
      ]
     },
     "execution_count": 40,
     "metadata": {},
     "output_type": "execute_result"
    }
   ],
   "source": [
    "a[2]"
   ]
  },
  {
   "cell_type": "code",
   "execution_count": 41,
   "id": "7e7088a7-a7cb-4a6c-9253-026912d0554f",
   "metadata": {},
   "outputs": [
    {
     "data": {
      "text/plain": [
       "array([[ 9, 10, 11],\n",
       "       [12, 13, 14],\n",
       "       [15, 16, 17]])"
      ]
     },
     "execution_count": 41,
     "metadata": {},
     "output_type": "execute_result"
    }
   ],
   "source": [
    "a[-2]"
   ]
  },
  {
   "cell_type": "code",
   "execution_count": 42,
   "id": "fc8a13a7-1271-440d-bc39-a0423eb4c10c",
   "metadata": {},
   "outputs": [
    {
     "data": {
      "text/plain": [
       "array([[18, 19, 20],\n",
       "       [21, 22, 23],\n",
       "       [24, 25, 26]])"
      ]
     },
     "execution_count": 42,
     "metadata": {},
     "output_type": "execute_result"
    }
   ],
   "source": [
    "a[-1]"
   ]
  },
  {
   "cell_type": "code",
   "execution_count": null,
   "id": "0ca5e6a2-7af3-4ed3-a60e-f46c91aa7b2f",
   "metadata": {},
   "outputs": [],
   "source": []
  },
  {
   "cell_type": "markdown",
   "id": "8f71e19b-274c-4f7a-b01d-4fa6828821bb",
   "metadata": {},
   "source": [
    "# Slicing operations\n",
    "## The process of obtaining range of values or sub values from an iterable object is called \"Slicing\"\n",
    "## We can apply Slicing operation on 3 types if ndarray.\n",
    "### 1D ARRAY\n",
    "### Syntax: 1darray[Begin:End]\n",
    "### Syntax: 1darray[Begin:]\n",
    "### Syntax: 1darray[:End]\n",
    "### Syntax: 1darray[:]\n",
    "### Syntax: 1darray[Begin:End:step]\n",
    "## Here Begin, end, step can be either +ve or -ve \n",
    "### 2D ARRAY\n",
    "### Syntax:\n",
    "### 3D ARRAY\n",
    "### Syntax:"
   ]
  },
  {
   "cell_type": "code",
   "execution_count": 43,
   "id": "cf0f0f7a-983d-4523-b139-96cda78b8113",
   "metadata": {},
   "outputs": [
    {
     "name": "stdout",
     "output_type": "stream",
     "text": [
      "[10 20 30 40 50 60 70 80 90 15 25 35] <class 'numpy.ndarray'>\n"
     ]
    }
   ],
   "source": [
    "a = np.array([10,20,30,40,50,60,70,80,90,15,25,35])\n",
    "print(a,type(a))"
   ]
  },
  {
   "cell_type": "code",
   "execution_count": 44,
   "id": "200480e0-0f54-4ab1-bee2-f678599ddc48",
   "metadata": {},
   "outputs": [
    {
     "data": {
      "text/plain": [
       "array([10, 20, 30, 40])"
      ]
     },
     "execution_count": 44,
     "metadata": {},
     "output_type": "execute_result"
    }
   ],
   "source": [
    "a[0:4] # 10 20 30 40"
   ]
  },
  {
   "cell_type": "code",
   "execution_count": 45,
   "id": "c7a4fe55-be14-45dd-ad4e-78b42be63c8d",
   "metadata": {},
   "outputs": [
    {
     "data": {
      "text/plain": [
       "array([20, 30, 40, 50, 60])"
      ]
     },
     "execution_count": 45,
     "metadata": {},
     "output_type": "execute_result"
    }
   ],
   "source": [
    "a[1:6] # 20 30 40 50 60"
   ]
  },
  {
   "cell_type": "code",
   "execution_count": 46,
   "id": "7a6e258a-295e-46c6-8e70-fb422d669c3f",
   "metadata": {},
   "outputs": [
    {
     "data": {
      "text/plain": [
       "array([10, 20, 30, 40, 50, 60, 70, 80])"
      ]
     },
     "execution_count": 46,
     "metadata": {},
     "output_type": "execute_result"
    }
   ],
   "source": [
    "a[-12:-4]"
   ]
  },
  {
   "cell_type": "code",
   "execution_count": 47,
   "id": "06e9b1a8-6306-41db-a327-9c56fd99d259",
   "metadata": {},
   "outputs": [
    {
     "data": {
      "text/plain": [
       "array([40, 50, 60, 70, 80, 90, 15])"
      ]
     },
     "execution_count": 47,
     "metadata": {},
     "output_type": "execute_result"
    }
   ],
   "source": [
    "a[-9:-2]"
   ]
  },
  {
   "cell_type": "code",
   "execution_count": 48,
   "id": "b2f05011-70ce-4f84-bbca-3f25fa9688a6",
   "metadata": {},
   "outputs": [
    {
     "data": {
      "text/plain": [
       "array([], dtype=int64)"
      ]
     },
     "execution_count": 48,
     "metadata": {},
     "output_type": "execute_result"
    }
   ],
   "source": [
    "a[10:3]"
   ]
  },
  {
   "cell_type": "code",
   "execution_count": 49,
   "id": "07d4459e-8293-46b7-a86b-4e980d0234eb",
   "metadata": {},
   "outputs": [
    {
     "data": {
      "text/plain": [
       "array([], dtype=int64)"
      ]
     },
     "execution_count": 49,
     "metadata": {},
     "output_type": "execute_result"
    }
   ],
   "source": [
    "a[-2:-10]"
   ]
  },
  {
   "cell_type": "code",
   "execution_count": 50,
   "id": "2d8164d2-69ba-4342-a6f1-9cfc11a67003",
   "metadata": {},
   "outputs": [
    {
     "data": {
      "text/plain": [
       "array([50, 60, 70, 80, 90, 15, 25, 35])"
      ]
     },
     "execution_count": 50,
     "metadata": {},
     "output_type": "execute_result"
    }
   ],
   "source": [
    "a[4:]"
   ]
  },
  {
   "cell_type": "code",
   "execution_count": 51,
   "id": "6b849604-6910-43b2-9c7e-8c55b1a36476",
   "metadata": {},
   "outputs": [
    {
     "data": {
      "text/plain": [
       "array([20, 30, 40, 50, 60, 70, 80, 90, 15, 25, 35])"
      ]
     },
     "execution_count": 51,
     "metadata": {},
     "output_type": "execute_result"
    }
   ],
   "source": [
    "a[1:]"
   ]
  },
  {
   "cell_type": "code",
   "execution_count": 52,
   "id": "2de4d0bb-d856-4824-9ce2-42bdb708babb",
   "metadata": {},
   "outputs": [
    {
     "data": {
      "text/plain": [
       "array([90, 15, 25, 35])"
      ]
     },
     "execution_count": 52,
     "metadata": {},
     "output_type": "execute_result"
    }
   ],
   "source": [
    "a[-4:]"
   ]
  },
  {
   "cell_type": "code",
   "execution_count": 53,
   "id": "8509e223-2c31-4eb8-b1c9-b13a9297bba9",
   "metadata": {},
   "outputs": [
    {
     "data": {
      "text/plain": [
       "array([10, 20, 30, 40, 50, 60, 70, 80, 90])"
      ]
     },
     "execution_count": 53,
     "metadata": {},
     "output_type": "execute_result"
    }
   ],
   "source": [
    "a[:-3]"
   ]
  },
  {
   "cell_type": "code",
   "execution_count": 54,
   "id": "9aa7e9e3-bb56-444c-bf25-b0b3c8570115",
   "metadata": {},
   "outputs": [
    {
     "data": {
      "text/plain": [
       "array([10, 20, 30, 40, 50])"
      ]
     },
     "execution_count": 54,
     "metadata": {},
     "output_type": "execute_result"
    }
   ],
   "source": [
    "a[:5]"
   ]
  },
  {
   "cell_type": "code",
   "execution_count": 55,
   "id": "dedc5d6e-8cae-4e23-8619-888836638528",
   "metadata": {},
   "outputs": [
    {
     "name": "stdout",
     "output_type": "stream",
     "text": [
      "[10 20 30 40 50 60 70 80 90 15 25 35]\n"
     ]
    }
   ],
   "source": [
    "print(a)"
   ]
  },
  {
   "cell_type": "code",
   "execution_count": 56,
   "id": "c08dc6ed-09d9-43ab-9619-34b995808b42",
   "metadata": {},
   "outputs": [
    {
     "data": {
      "text/plain": [
       "array([20, 40, 60, 80])"
      ]
     },
     "execution_count": 56,
     "metadata": {},
     "output_type": "execute_result"
    }
   ],
   "source": [
    "a[1:9:2]"
   ]
  },
  {
   "cell_type": "code",
   "execution_count": 57,
   "id": "6f9d00c6-b323-4ac1-a8bb-ae07b7c835ee",
   "metadata": {},
   "outputs": [
    {
     "data": {
      "text/plain": [
       "array([10, 30, 50, 70, 90, 25])"
      ]
     },
     "execution_count": 57,
     "metadata": {},
     "output_type": "execute_result"
    }
   ],
   "source": [
    "a[0:12:2]"
   ]
  },
  {
   "cell_type": "code",
   "execution_count": 58,
   "id": "139fdcaf-bb3f-4f2c-a4da-14494cfd5511",
   "metadata": {},
   "outputs": [
    {
     "data": {
      "text/plain": [
       "array([10, 20, 30, 40, 50, 60, 70, 80, 90, 15, 25, 35])"
      ]
     },
     "execution_count": 58,
     "metadata": {},
     "output_type": "execute_result"
    }
   ],
   "source": [
    "a[::]"
   ]
  },
  {
   "cell_type": "code",
   "execution_count": 59,
   "id": "831a3211-b2d2-4bc0-90c9-402975fe52df",
   "metadata": {},
   "outputs": [
    {
     "data": {
      "text/plain": [
       "array([10, 30, 50, 70, 90, 25])"
      ]
     },
     "execution_count": 59,
     "metadata": {},
     "output_type": "execute_result"
    }
   ],
   "source": [
    "a[::2]"
   ]
  },
  {
   "cell_type": "code",
   "execution_count": 60,
   "id": "60d3872c-4870-46e2-ac13-083cb349fad1",
   "metadata": {},
   "outputs": [
    {
     "data": {
      "text/plain": [
       "array([20, 40, 60, 80, 15, 35])"
      ]
     },
     "execution_count": 60,
     "metadata": {},
     "output_type": "execute_result"
    }
   ],
   "source": [
    "a[1::2]"
   ]
  },
  {
   "cell_type": "code",
   "execution_count": 61,
   "id": "900f6ecd-e023-472b-8705-053de66bd51f",
   "metadata": {},
   "outputs": [
    {
     "data": {
      "text/plain": [
       "array([35, 25, 15, 90, 80, 70, 60, 50, 40, 30, 20, 10])"
      ]
     },
     "execution_count": 61,
     "metadata": {},
     "output_type": "execute_result"
    }
   ],
   "source": [
    "a[::-1]"
   ]
  },
  {
   "cell_type": "code",
   "execution_count": 62,
   "id": "c0a9e141-cf44-40bf-8652-57abd495eb8d",
   "metadata": {},
   "outputs": [
    {
     "data": {
      "text/plain": [
       "array([35, 15, 80, 60, 40, 20])"
      ]
     },
     "execution_count": 62,
     "metadata": {},
     "output_type": "execute_result"
    }
   ],
   "source": [
    "a[::-2]"
   ]
  },
  {
   "cell_type": "code",
   "execution_count": 63,
   "id": "1fe47145-a970-4526-ac34-57e035b6b35e",
   "metadata": {},
   "outputs": [
    {
     "data": {
      "text/plain": [
       "array([35, 90, 60, 30])"
      ]
     },
     "execution_count": 63,
     "metadata": {},
     "output_type": "execute_result"
    }
   ],
   "source": [
    "a[::-3]"
   ]
  },
  {
   "cell_type": "code",
   "execution_count": null,
   "id": "978ad6e3-c0ba-4235-94b8-36ce20fd8d2e",
   "metadata": {},
   "outputs": [],
   "source": []
  },
  {
   "cell_type": "markdown",
   "id": "fb397e43-ca80-4a7c-a53b-5e64a28f1205",
   "metadata": {},
   "source": [
    "# 2D slice"
   ]
  },
  {
   "cell_type": "code",
   "execution_count": 64,
   "id": "55a8d329-2c5d-4959-b840-d00119556c9a",
   "metadata": {},
   "outputs": [],
   "source": [
    "import numpy as np"
   ]
  },
  {
   "cell_type": "code",
   "execution_count": 66,
   "id": "be13d925-274b-4305-87b5-eff9307ffd56",
   "metadata": {},
   "outputs": [
    {
     "name": "stdout",
     "output_type": "stream",
     "text": [
      "[[ 0  1  2  3]\n",
      " [ 4  5  6  7]\n",
      " [ 8  9 10 11]\n",
      " [12 13 14 15]] <class 'numpy.ndarray'>\n"
     ]
    }
   ],
   "source": [
    "a = np.arange(16).reshape(4,4)\n",
    "print(a,type(a))"
   ]
  },
  {
   "cell_type": "code",
   "execution_count": 67,
   "id": "6b62572b-ba93-4cea-ade0-75788fe37905",
   "metadata": {},
   "outputs": [
    {
     "data": {
      "text/plain": [
       "array([[ 0],\n",
       "       [ 4],\n",
       "       [ 8],\n",
       "       [12]])"
      ]
     },
     "execution_count": 67,
     "metadata": {},
     "output_type": "execute_result"
    }
   ],
   "source": [
    "a[0:4,0:1]"
   ]
  },
  {
   "cell_type": "code",
   "execution_count": 68,
   "id": "567c992a-c51b-4c70-ace3-30af06d6ff20",
   "metadata": {},
   "outputs": [
    {
     "data": {
      "text/plain": [
       "array([[ 0],\n",
       "       [ 4],\n",
       "       [ 8],\n",
       "       [12]])"
      ]
     },
     "execution_count": 68,
     "metadata": {},
     "output_type": "execute_result"
    }
   ],
   "source": [
    "a[::1,:1]"
   ]
  },
  {
   "cell_type": "code",
   "execution_count": 69,
   "id": "5db1573e-a0c3-4f05-a287-419d1e5dcad0",
   "metadata": {},
   "outputs": [
    {
     "data": {
      "text/plain": [
       "array([[4, 5],\n",
       "       [8, 9]])"
      ]
     },
     "execution_count": 69,
     "metadata": {},
     "output_type": "execute_result"
    }
   ],
   "source": [
    "a[1:3,:2]"
   ]
  },
  {
   "cell_type": "code",
   "execution_count": 70,
   "id": "cdf858da-b69a-4f77-8fbc-bb4431a401cc",
   "metadata": {},
   "outputs": [
    {
     "data": {
      "text/plain": [
       "array([[4, 5],\n",
       "       [8, 9]])"
      ]
     },
     "execution_count": 70,
     "metadata": {},
     "output_type": "execute_result"
    }
   ],
   "source": [
    "a[1:3,0:2]"
   ]
  },
  {
   "cell_type": "code",
   "execution_count": 71,
   "id": "88e81105-4f5b-479f-afbe-81c6b0eccfed",
   "metadata": {},
   "outputs": [
    {
     "data": {
      "text/plain": [
       "array([[ 5,  6,  7],\n",
       "       [ 9, 10, 11],\n",
       "       [13, 14, 15]])"
      ]
     },
     "execution_count": 71,
     "metadata": {},
     "output_type": "execute_result"
    }
   ],
   "source": [
    "a[1:4,1:4]"
   ]
  },
  {
   "cell_type": "code",
   "execution_count": 72,
   "id": "8a91c45f-dbac-4f95-a4ee-ce69188f0dfc",
   "metadata": {},
   "outputs": [
    {
     "data": {
      "text/plain": [
       "array([[ 5,  6,  7],\n",
       "       [ 9, 10, 11],\n",
       "       [13, 14, 15]])"
      ]
     },
     "execution_count": 72,
     "metadata": {},
     "output_type": "execute_result"
    }
   ],
   "source": [
    "a[1:,1::]"
   ]
  },
  {
   "cell_type": "code",
   "execution_count": 73,
   "id": "1870d7bc-277f-4acb-ad37-b32ea94585d1",
   "metadata": {},
   "outputs": [
    {
     "data": {
      "text/plain": [
       "array([[ 4,  5,  6,  7],\n",
       "       [ 8,  9, 10, 11]])"
      ]
     },
     "execution_count": 73,
     "metadata": {},
     "output_type": "execute_result"
    }
   ],
   "source": [
    "a[1:3,::]"
   ]
  },
  {
   "cell_type": "code",
   "execution_count": 74,
   "id": "d9dfe2f6-0875-4074-a39a-39619d892b40",
   "metadata": {},
   "outputs": [
    {
     "data": {
      "text/plain": [
       "array([[ 0,  1,  2,  3],\n",
       "       [ 8,  9, 10, 11]])"
      ]
     },
     "execution_count": 74,
     "metadata": {},
     "output_type": "execute_result"
    }
   ],
   "source": [
    "a[0:4:2,0:4]"
   ]
  },
  {
   "cell_type": "code",
   "execution_count": 75,
   "id": "7d84359a-83f8-4031-ab30-a59e59c31386",
   "metadata": {},
   "outputs": [
    {
     "data": {
      "text/plain": [
       "array([[10, 11],\n",
       "       [14, 15]])"
      ]
     },
     "execution_count": 75,
     "metadata": {},
     "output_type": "execute_result"
    }
   ],
   "source": [
    "a[-2:,-2:]"
   ]
  },
  {
   "cell_type": "code",
   "execution_count": 76,
   "id": "5da323d2-b029-4b59-ad37-2045e1b6cfd0",
   "metadata": {},
   "outputs": [
    {
     "data": {
      "text/plain": [
       "array([[ 1,  2],\n",
       "       [ 5,  6],\n",
       "       [ 9, 10],\n",
       "       [13, 14]])"
      ]
     },
     "execution_count": 76,
     "metadata": {},
     "output_type": "execute_result"
    }
   ],
   "source": [
    "a[-4:,-3:-1]"
   ]
  },
  {
   "cell_type": "code",
   "execution_count": 77,
   "id": "1722fe22-c9a9-424f-9797-761955a9824f",
   "metadata": {},
   "outputs": [
    {
     "data": {
      "text/plain": [
       "array([[ 0,  3],\n",
       "       [12, 15]])"
      ]
     },
     "execution_count": 77,
     "metadata": {},
     "output_type": "execute_result"
    }
   ],
   "source": [
    "a[::3,::3]"
   ]
  },
  {
   "cell_type": "code",
   "execution_count": 78,
   "id": "f49c1da8-7a5f-4b3c-99af-aacda9864a97",
   "metadata": {},
   "outputs": [
    {
     "data": {
      "text/plain": [
       "array([[ 0,  3],\n",
       "       [12, 15]])"
      ]
     },
     "execution_count": 78,
     "metadata": {},
     "output_type": "execute_result"
    }
   ],
   "source": [
    "a[0:4:3,0:4:3]"
   ]
  },
  {
   "cell_type": "code",
   "execution_count": 80,
   "id": "6f9f2e13-527c-469d-82b1-ba47151d154b",
   "metadata": {},
   "outputs": [
    {
     "data": {
      "text/plain": [
       "array([[ 4,  6],\n",
       "       [12, 14]])"
      ]
     },
     "execution_count": 80,
     "metadata": {},
     "output_type": "execute_result"
    }
   ],
   "source": [
    "a[1::2,:3:2]"
   ]
  },
  {
   "cell_type": "code",
   "execution_count": null,
   "id": "d5af67fa-1c76-4798-a773-6ab0f35e5d3c",
   "metadata": {},
   "outputs": [],
   "source": []
  },
  {
   "cell_type": "markdown",
   "id": "5a9c95bb-57c9-46ca-b497-1b59b1df64bf",
   "metadata": {},
   "source": [
    "# ND slicing"
   ]
  },
  {
   "cell_type": "code",
   "execution_count": 82,
   "id": "ddc46078-7c7e-4553-afa1-8c897d465717",
   "metadata": {},
   "outputs": [
    {
     "name": "stdout",
     "output_type": "stream",
     "text": [
      "[[[ 0  1  2]\n",
      "  [ 3  4  5]\n",
      "  [ 6  7  8]]\n",
      "\n",
      " [[ 9 10 11]\n",
      "  [12 13 14]\n",
      "  [15 16 17]]\n",
      "\n",
      " [[18 19 20]\n",
      "  [21 22 23]\n",
      "  [24 25 26]]] <class 'numpy.ndarray'>\n"
     ]
    }
   ],
   "source": [
    "a = np.arange(27).reshape(3,3,3)\n",
    "print(a,type(a))"
   ]
  },
  {
   "cell_type": "code",
   "execution_count": 83,
   "id": "9889186a-77f7-4912-bb03-1bc5826be025",
   "metadata": {},
   "outputs": [
    {
     "data": {
      "text/plain": [
       "array([[0, 1, 2],\n",
       "       [3, 4, 5],\n",
       "       [6, 7, 8]])"
      ]
     },
     "execution_count": 83,
     "metadata": {},
     "output_type": "execute_result"
    }
   ],
   "source": [
    "a[0]"
   ]
  },
  {
   "cell_type": "code",
   "execution_count": 84,
   "id": "976c51f0-a0ee-4902-802d-f316e6993b2f",
   "metadata": {},
   "outputs": [
    {
     "data": {
      "text/plain": [
       "array([[ 9, 10, 11],\n",
       "       [12, 13, 14],\n",
       "       [15, 16, 17]])"
      ]
     },
     "execution_count": 84,
     "metadata": {},
     "output_type": "execute_result"
    }
   ],
   "source": [
    "a[1]"
   ]
  },
  {
   "cell_type": "code",
   "execution_count": 85,
   "id": "32bf6f36-fa65-4a41-8865-2c64dd8a100a",
   "metadata": {},
   "outputs": [
    {
     "data": {
      "text/plain": [
       "array([[18, 19, 20],\n",
       "       [21, 22, 23],\n",
       "       [24, 25, 26]])"
      ]
     },
     "execution_count": 85,
     "metadata": {},
     "output_type": "execute_result"
    }
   ],
   "source": [
    "a[2]"
   ]
  },
  {
   "cell_type": "code",
   "execution_count": 86,
   "id": "eddbd166-6614-4ed5-824e-4066f80479f2",
   "metadata": {},
   "outputs": [
    {
     "data": {
      "text/plain": [
       "array([[[ 0,  1,  2],\n",
       "        [ 3,  4,  5],\n",
       "        [ 6,  7,  8]],\n",
       "\n",
       "       [[ 9, 10, 11],\n",
       "        [12, 13, 14],\n",
       "        [15, 16, 17]],\n",
       "\n",
       "       [[18, 19, 20],\n",
       "        [21, 22, 23],\n",
       "        [24, 25, 26]]])"
      ]
     },
     "execution_count": 86,
     "metadata": {},
     "output_type": "execute_result"
    }
   ],
   "source": [
    "a[0:3]"
   ]
  },
  {
   "cell_type": "code",
   "execution_count": 90,
   "id": "24f0f39f-ba0b-4185-880c-c24337cbb674",
   "metadata": {},
   "outputs": [
    {
     "data": {
      "text/plain": [
       "array([0, 1, 2])"
      ]
     },
     "execution_count": 90,
     "metadata": {},
     "output_type": "execute_result"
    }
   ],
   "source": [
    "a[0,0]"
   ]
  },
  {
   "cell_type": "code",
   "execution_count": 91,
   "id": "042155b3-79e6-4352-9d70-cb956293ce94",
   "metadata": {},
   "outputs": [
    {
     "data": {
      "text/plain": [
       "array([3, 4, 5])"
      ]
     },
     "execution_count": 91,
     "metadata": {},
     "output_type": "execute_result"
    }
   ],
   "source": [
    "a[0,1]"
   ]
  },
  {
   "cell_type": "code",
   "execution_count": 92,
   "id": "eade9911-707e-4d84-8c7d-5bacd58f20f0",
   "metadata": {},
   "outputs": [
    {
     "data": {
      "text/plain": [
       "array([6, 7, 8])"
      ]
     },
     "execution_count": 92,
     "metadata": {},
     "output_type": "execute_result"
    }
   ],
   "source": [
    "a[0,2]"
   ]
  },
  {
   "cell_type": "code",
   "execution_count": 93,
   "id": "18cbbf6b-42d5-4df8-b2bf-2d0f93195971",
   "metadata": {},
   "outputs": [
    {
     "data": {
      "text/plain": [
       "array([ 9, 10, 11])"
      ]
     },
     "execution_count": 93,
     "metadata": {},
     "output_type": "execute_result"
    }
   ],
   "source": [
    "a[1,0]"
   ]
  },
  {
   "cell_type": "code",
   "execution_count": 94,
   "id": "a61a97bb-f19a-438f-8f08-b4b6758d477a",
   "metadata": {},
   "outputs": [
    {
     "data": {
      "text/plain": [
       "array([12, 13, 14])"
      ]
     },
     "execution_count": 94,
     "metadata": {},
     "output_type": "execute_result"
    }
   ],
   "source": [
    "a[1,1]"
   ]
  },
  {
   "cell_type": "code",
   "execution_count": 95,
   "id": "d4c3e3d2-1779-4918-85a2-419a8b3e8e78",
   "metadata": {},
   "outputs": [
    {
     "data": {
      "text/plain": [
       "array([[[ 0,  1,  2],\n",
       "        [ 3,  4,  5],\n",
       "        [ 6,  7,  8]],\n",
       "\n",
       "       [[18, 19, 20],\n",
       "        [21, 22, 23],\n",
       "        [24, 25, 26]]])"
      ]
     },
     "execution_count": 95,
     "metadata": {},
     "output_type": "execute_result"
    }
   ],
   "source": [
    "a[0:3:2]"
   ]
  },
  {
   "cell_type": "code",
   "execution_count": 96,
   "id": "ce4dbc3e-8c85-4003-8621-744325331b77",
   "metadata": {},
   "outputs": [
    {
     "data": {
      "text/plain": [
       "array([[[ 0,  1]],\n",
       "\n",
       "       [[ 9, 10]]])"
      ]
     },
     "execution_count": 96,
     "metadata": {},
     "output_type": "execute_result"
    }
   ],
   "source": [
    "a[0:2,0:1,0:2]"
   ]
  },
  {
   "cell_type": "code",
   "execution_count": 97,
   "id": "fad23044-b8b2-4c5d-8bed-ea5d7fd8b8e0",
   "metadata": {},
   "outputs": [
    {
     "data": {
      "text/plain": [
       "array([[[ 0,  1]],\n",
       "\n",
       "       [[ 9, 10]]])"
      ]
     },
     "execution_count": 97,
     "metadata": {},
     "output_type": "execute_result"
    }
   ],
   "source": [
    " a[-3:-1,-3:-2,-3:-1]"
   ]
  },
  {
   "cell_type": "code",
   "execution_count": null,
   "id": "c4e60556-7095-4192-a8f9-ed77407f4c15",
   "metadata": {},
   "outputs": [],
   "source": []
  },
  {
   "cell_type": "markdown",
   "id": "35b663d5-f537-412b-8cab-6e90ca26c850",
   "metadata": {},
   "source": [
    "# advanced indexing & slicing on 1D 2D ND"
   ]
  },
  {
   "cell_type": "code",
   "execution_count": 100,
   "id": "462e6d59-70f2-4b1a-829a-f90d7983f983",
   "metadata": {},
   "outputs": [
    {
     "name": "stdout",
     "output_type": "stream",
     "text": [
      "[10 20 30 40 50 60 70 80 90] <class 'numpy.ndarray'>\n"
     ]
    }
   ],
   "source": [
    "ind = np.array([10,20,30,40,50,60,70,80,90])\n",
    "print(ind,type(ind))"
   ]
  },
  {
   "cell_type": "code",
   "execution_count": 101,
   "id": "46b6b51c-69e4-48bb-975c-b8172a3c4a05",
   "metadata": {},
   "outputs": [
    {
     "data": {
      "text/plain": [
       "array([10, 80, 90])"
      ]
     },
     "execution_count": 101,
     "metadata": {},
     "output_type": "execute_result"
    }
   ],
   "source": [
    "# We want to get 10 80 90 (nothing but randon elements)\n",
    "ind=np.array([0,7,8]) # [0:-2,-1]\n",
    "a[ind]"
   ]
  },
  {
   "cell_type": "code",
   "execution_count": 103,
   "id": "8f650206-000c-492a-a0b1-b933fcbce79c",
   "metadata": {},
   "outputs": [
    {
     "data": {
      "text/plain": [
       "array([10, 80, 90])"
      ]
     },
     "execution_count": 103,
     "metadata": {},
     "output_type": "execute_result"
    }
   ],
   "source": [
    "ind = np.array([0,-2,-1])\n",
    "a[ind]"
   ]
  },
  {
   "cell_type": "code",
   "execution_count": null,
   "id": "4a9c4948-459e-4775-bdcb-dcf70dece26f",
   "metadata": {},
   "outputs": [],
   "source": []
  },
  {
   "cell_type": "code",
   "execution_count": null,
   "id": "dd8efc37-b0dc-4df9-8db8-bf404f9cfe3f",
   "metadata": {},
   "outputs": [],
   "source": []
  },
  {
   "cell_type": "code",
   "execution_count": null,
   "id": "2371e19b-57e2-49aa-afe8-1d76fcd12dfe",
   "metadata": {},
   "outputs": [],
   "source": []
  },
  {
   "cell_type": "code",
   "execution_count": null,
   "id": "a395e01a-ffd1-40ff-8525-e0cc6221efed",
   "metadata": {},
   "outputs": [],
   "source": []
  },
  {
   "cell_type": "code",
   "execution_count": null,
   "id": "33eb53a7-fad5-4d1b-8ac9-03aea35f3002",
   "metadata": {},
   "outputs": [],
   "source": []
  },
  {
   "cell_type": "code",
   "execution_count": null,
   "id": "2097028e-8a73-4fab-8301-a474610634e7",
   "metadata": {},
   "outputs": [],
   "source": []
  },
  {
   "cell_type": "code",
   "execution_count": null,
   "id": "14173062-51c1-4366-a585-3fa82fcd9096",
   "metadata": {},
   "outputs": [],
   "source": []
  }
 ],
 "metadata": {
  "kernelspec": {
   "display_name": "Python 3 (ipykernel)",
   "language": "python",
   "name": "python3"
  },
  "language_info": {
   "codemirror_mode": {
    "name": "ipython",
    "version": 3
   },
   "file_extension": ".py",
   "mimetype": "text/x-python",
   "name": "python",
   "nbconvert_exporter": "python",
   "pygments_lexer": "ipython3",
   "version": "3.13.5"
  }
 },
 "nbformat": 4,
 "nbformat_minor": 5
}
