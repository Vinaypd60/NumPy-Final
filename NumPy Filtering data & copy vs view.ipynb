{
 "cells": [
  {
   "cell_type": "code",
   "execution_count": null,
   "id": "062bbd10-6ecf-4034-82f3-71668281c2b1",
   "metadata": {},
   "outputs": [],
   "source": []
  },
  {
   "cell_type": "code",
   "execution_count": 1,
   "id": "07298461-6ee5-4656-a00c-38a059f57643",
   "metadata": {},
   "outputs": [],
   "source": [
    "import numpy as np"
   ]
  },
  {
   "cell_type": "code",
   "execution_count": 3,
   "id": "36405999-5cf2-4968-95e8-a24c50db7264",
   "metadata": {},
   "outputs": [
    {
     "name": "stdout",
     "output_type": "stream",
     "text": [
      "[[10 20 30]\n",
      " [40 50 60]\n",
      " [70 80 90]]\n"
     ]
    }
   ],
   "source": [
    "a = np.array([[10,20,30],[40,50,60],[70,80,90]])\n",
    "print(a)"
   ]
  },
  {
   "cell_type": "code",
   "execution_count": 6,
   "id": "fcff3b1a-753a-44c7-9bda-9a2d443772bf",
   "metadata": {},
   "outputs": [],
   "source": [
    "a.shape=(9,)"
   ]
  },
  {
   "cell_type": "code",
   "execution_count": 7,
   "id": "cddb6441-4b04-4270-9107-8b7e51f695eb",
   "metadata": {},
   "outputs": [
    {
     "name": "stdout",
     "output_type": "stream",
     "text": [
      "[10 20 30 40 50 60 70 80 90]\n"
     ]
    }
   ],
   "source": [
    "print(a)"
   ]
  },
  {
   "cell_type": "markdown",
   "id": "5fabf42a-0099-4d76-a4b3-16df4ded18d9",
   "metadata": {},
   "source": [
    "# Today my requirement is multiples of 3"
   ]
  },
  {
   "cell_type": "code",
   "execution_count": 10,
   "id": "e97598db-2daf-4de7-831d-79d8bae21718",
   "metadata": {},
   "outputs": [
    {
     "name": "stdout",
     "output_type": "stream",
     "text": [
      "[False False  True False False  True False False  True] <class 'numpy.ndarray'>\n"
     ]
    }
   ],
   "source": [
    "ba =a%3==0\n",
    "print(ba,type(ba))"
   ]
  },
  {
   "cell_type": "code",
   "execution_count": 11,
   "id": "43855d93-8411-4284-afeb-cc72df6c62eb",
   "metadata": {},
   "outputs": [
    {
     "name": "stdout",
     "output_type": "stream",
     "text": [
      "[ True  True  True  True  True  True  True  True  True]\n"
     ]
    }
   ],
   "source": [
    "ba = a%5==0\n",
    "print(ba)"
   ]
  },
  {
   "cell_type": "code",
   "execution_count": 13,
   "id": "cdae50e8-175b-45b1-bf6a-f036b0a3859f",
   "metadata": {},
   "outputs": [
    {
     "data": {
      "text/plain": [
       "array([10, 20, 30, 40, 50, 60, 70, 80, 90])"
      ]
     },
     "execution_count": 13,
     "metadata": {},
     "output_type": "execute_result"
    }
   ],
   "source": [
    "# pass boolean to ndarray object\n",
    "a[ba]"
   ]
  },
  {
   "cell_type": "code",
   "execution_count": 14,
   "id": "aa5f0702-3c0a-482d-b403-c4074d3b472b",
   "metadata": {},
   "outputs": [
    {
     "data": {
      "text/plain": [
       "array([30, 60, 90])"
      ]
     },
     "execution_count": 14,
     "metadata": {},
     "output_type": "execute_result"
    }
   ],
   "source": [
    "# get the multiples of 3\n",
    "a[a%3==0]"
   ]
  },
  {
   "cell_type": "code",
   "execution_count": 15,
   "id": "7096a5a2-0e36-4d63-acad-6e1d3e54d516",
   "metadata": {},
   "outputs": [
    {
     "data": {
      "text/plain": [
       "array([20, 40, 60, 80])"
      ]
     },
     "execution_count": 15,
     "metadata": {},
     "output_type": "execute_result"
    }
   ],
   "source": [
    "# get the multiples of 4\n",
    "a[a%4==0]"
   ]
  },
  {
   "cell_type": "code",
   "execution_count": 16,
   "id": "32ad5c24-36be-4a89-b617-1f206353d084",
   "metadata": {},
   "outputs": [
    {
     "data": {
      "text/plain": [
       "array([10, 20, 30, 40, 50, 60, 70, 80, 90])"
      ]
     },
     "execution_count": 16,
     "metadata": {},
     "output_type": "execute_result"
    }
   ],
   "source": [
    "# get the multiples of 5\n",
    "a[a%5==0]"
   ]
  },
  {
   "cell_type": "code",
   "execution_count": 17,
   "id": "4a80fed6-a83d-4282-99af-25085a93a48f",
   "metadata": {},
   "outputs": [
    {
     "name": "stdout",
     "output_type": "stream",
     "text": [
      "[[ 10 -20 -30]\n",
      " [-40  50 -60]\n",
      " [-70 -80  90]]\n"
     ]
    }
   ],
   "source": [
    "a = np.array([[10,-20,-30],[-40,50,-60],[-70,-80,90]])\n",
    "print(a)"
   ]
  },
  {
   "cell_type": "code",
   "execution_count": 20,
   "id": "e23aa1e9-9566-4b7f-b56d-0809a6366955",
   "metadata": {},
   "outputs": [
    {
     "name": "stdout",
     "output_type": "stream",
     "text": [
      "[10 50 90] <class 'numpy.ndarray'>\n"
     ]
    }
   ],
   "source": [
    "# get all +ve numbers\n",
    "pa = a[a>0] \n",
    "print(pa,type(pa))"
   ]
  },
  {
   "cell_type": "code",
   "execution_count": 21,
   "id": "00ed7362-e5a9-4234-8808-4cf9f44379fc",
   "metadata": {},
   "outputs": [
    {
     "name": "stdout",
     "output_type": "stream",
     "text": [
      "[-20 -30 -40 -60 -70 -80] <class 'numpy.ndarray'>\n"
     ]
    }
   ],
   "source": [
    "#Get all -ve numbers\n",
    "pa = a[a<0]\n",
    "print(pa,type(pa))"
   ]
  },
  {
   "cell_type": "code",
   "execution_count": null,
   "id": "2a05029c-e95c-4ba6-b7da-beaf04d4e732",
   "metadata": {},
   "outputs": [],
   "source": []
  },
  {
   "cell_type": "markdown",
   "id": "69d07a94-193f-4740-92bc-5710643eb7a0",
   "metadata": {},
   "source": [
    "# copy() vs view()"
   ]
  },
  {
   "cell_type": "code",
   "execution_count": 22,
   "id": "1093651f-59c9-4713-b647-8f1d9ffc6c12",
   "metadata": {},
   "outputs": [],
   "source": [
    "import numpy as np"
   ]
  },
  {
   "cell_type": "code",
   "execution_count": 23,
   "id": "7f2faa15-810e-4fa1-bcd7-a0861d793702",
   "metadata": {},
   "outputs": [
    {
     "name": "stdout",
     "output_type": "stream",
     "text": [
      "[20 30 40 50] <class 'numpy.ndarray'>\n"
     ]
    }
   ],
   "source": [
    "a = np.array([20,30,40,50])\n",
    "print(a,type(a))"
   ]
  },
  {
   "cell_type": "code",
   "execution_count": 24,
   "id": "b1ac7574-ebf8-4dea-b52a-b0844d910a2d",
   "metadata": {},
   "outputs": [
    {
     "name": "stdout",
     "output_type": "stream",
     "text": [
      "[20 30 40 50] <class 'numpy.ndarray'>\n"
     ]
    }
   ],
   "source": [
    "b = a.copy()\n",
    "print(b,type(b))"
   ]
  },
  {
   "cell_type": "code",
   "execution_count": 25,
   "id": "6e2fbf15-1743-4ced-ae4d-0fe2943e9b05",
   "metadata": {},
   "outputs": [
    {
     "data": {
      "text/plain": [
       "np.int64(20)"
      ]
     },
     "execution_count": 25,
     "metadata": {},
     "output_type": "execute_result"
    }
   ],
   "source": [
    "a[0]"
   ]
  },
  {
   "cell_type": "code",
   "execution_count": 26,
   "id": "1e209895-0342-42d6-8cb4-15c9743d9fa3",
   "metadata": {},
   "outputs": [
    {
     "data": {
      "text/plain": [
       "np.int64(20)"
      ]
     },
     "execution_count": 26,
     "metadata": {},
     "output_type": "execute_result"
    }
   ],
   "source": [
    "b[0]"
   ]
  },
  {
   "cell_type": "code",
   "execution_count": 27,
   "id": "2ed44f39-92f4-4933-b78b-d5614a650e46",
   "metadata": {},
   "outputs": [],
   "source": [
    "a[0]=100 # modified original array"
   ]
  },
  {
   "cell_type": "code",
   "execution_count": 28,
   "id": "b7c70114-2e33-4556-afa2-16f7589ba805",
   "metadata": {},
   "outputs": [
    {
     "name": "stdout",
     "output_type": "stream",
     "text": [
      "[100  30  40  50]\n"
     ]
    }
   ],
   "source": [
    "print(a)"
   ]
  },
  {
   "cell_type": "code",
   "execution_count": 29,
   "id": "84562232-7e61-48d8-b8bd-b9aaa1afba1a",
   "metadata": {},
   "outputs": [
    {
     "name": "stdout",
     "output_type": "stream",
     "text": [
      "[20 30 40 50]\n"
     ]
    }
   ],
   "source": [
    "print(b)"
   ]
  },
  {
   "cell_type": "code",
   "execution_count": 30,
   "id": "e9b7076b-46bd-42a9-9d2c-ef793202e86f",
   "metadata": {},
   "outputs": [
    {
     "name": "stdout",
     "output_type": "stream",
     "text": [
      "[200  30  40  50]\n"
     ]
    }
   ],
   "source": [
    "b[0]=200 # copied array modified\n",
    "print(b)"
   ]
  },
  {
   "cell_type": "markdown",
   "id": "b2601ebf-c026-4825-b25b-a3d3baf7b7c1",
   "metadata": {},
   "source": [
    "# view()"
   ]
  },
  {
   "cell_type": "code",
   "execution_count": 31,
   "id": "9791065f-a4c1-4754-8a08-e18a7ceda0bd",
   "metadata": {},
   "outputs": [
    {
     "name": "stdout",
     "output_type": "stream",
     "text": [
      "[20 30 40 50] <class 'numpy.ndarray'>\n"
     ]
    }
   ],
   "source": [
    "a = np.array([20,30,40,50])\n",
    "print(a,type(a))"
   ]
  },
  {
   "cell_type": "code",
   "execution_count": 32,
   "id": "74a41ade-5bea-4993-a1d1-37ec26943c1e",
   "metadata": {},
   "outputs": [
    {
     "name": "stdout",
     "output_type": "stream",
     "text": [
      "[20 30 40 50]\n"
     ]
    }
   ],
   "source": [
    "b=a.view()\n",
    "print(b)"
   ]
  },
  {
   "cell_type": "code",
   "execution_count": 33,
   "id": "d97f2f95-a1d0-4396-bc01-5247c13400df",
   "metadata": {},
   "outputs": [
    {
     "name": "stdout",
     "output_type": "stream",
     "text": [
      "[100  30  40  50]\n"
     ]
    }
   ],
   "source": [
    "a[0]=100 # original array modified it will reflect dup copy as well\n",
    "print(a)"
   ]
  },
  {
   "cell_type": "code",
   "execution_count": 34,
   "id": "23c0a651-408f-4269-8739-d4d153baaae4",
   "metadata": {},
   "outputs": [
    {
     "name": "stdout",
     "output_type": "stream",
     "text": [
      "[100  30  40  50]\n"
     ]
    }
   ],
   "source": [
    "print(b)"
   ]
  },
  {
   "cell_type": "code",
   "execution_count": null,
   "id": "6b7a06f4-b185-4679-ad10-1236b675c9d1",
   "metadata": {},
   "outputs": [],
   "source": []
  },
  {
   "cell_type": "code",
   "execution_count": 35,
   "id": "530b83ae-77e6-404c-822b-83b577dfb1d4",
   "metadata": {},
   "outputs": [
    {
     "name": "stdout",
     "output_type": "stream",
     "text": [
      "[20 30 40 50] <class 'numpy.ndarray'>\n",
      "[20 30 40 50] None\n",
      "[20 30 40 50] None\n"
     ]
    }
   ],
   "source": [
    "a = np.array([20,30,40,50])\n",
    "print(a,type(a))\n",
    "b = a.copy()\n",
    "print(a,a.base)\n",
    "print(b,b.base)"
   ]
  },
  {
   "cell_type": "code",
   "execution_count": 36,
   "id": "26dc4943-ed96-42ea-8fc6-9b22b1d6b800",
   "metadata": {},
   "outputs": [
    {
     "name": "stdout",
     "output_type": "stream",
     "text": [
      "[20 30 40 50] <class 'numpy.ndarray'>\n",
      "[20 30 40 50] None\n",
      "[20 30 40 50] [20 30 40 50]\n"
     ]
    }
   ],
   "source": [
    "a = np.array([20,30,40,50])\n",
    "print(a,type(a))\n",
    "b = a.view()\n",
    "print(a,a.base)\n",
    "print(b,b.base)"
   ]
  },
  {
   "cell_type": "code",
   "execution_count": null,
   "id": "98ca567f-77b6-4206-9544-18cd8481492c",
   "metadata": {},
   "outputs": [],
   "source": []
  },
  {
   "cell_type": "code",
   "execution_count": null,
   "id": "505fb120-7227-46f0-a8c0-5f0efb0f35a2",
   "metadata": {},
   "outputs": [],
   "source": []
  },
  {
   "cell_type": "code",
   "execution_count": null,
   "id": "16497d97-090b-4998-8d88-e97d3e5f49b9",
   "metadata": {},
   "outputs": [],
   "source": []
  },
  {
   "cell_type": "code",
   "execution_count": null,
   "id": "564a83a6-fdff-498b-ad28-8ddfba9cf219",
   "metadata": {},
   "outputs": [],
   "source": []
  },
  {
   "cell_type": "code",
   "execution_count": null,
   "id": "280eaa90-6046-42ec-b4bb-0987a559ba0a",
   "metadata": {},
   "outputs": [],
   "source": []
  }
 ],
 "metadata": {
  "kernelspec": {
   "display_name": "Python 3 (ipykernel)",
   "language": "python",
   "name": "python3"
  },
  "language_info": {
   "codemirror_mode": {
    "name": "ipython",
    "version": 3
   },
   "file_extension": ".py",
   "mimetype": "text/x-python",
   "name": "python",
   "nbconvert_exporter": "python",
   "pygments_lexer": "ipython3",
   "version": "3.13.5"
  }
 },
 "nbformat": 4,
 "nbformat_minor": 5
}
