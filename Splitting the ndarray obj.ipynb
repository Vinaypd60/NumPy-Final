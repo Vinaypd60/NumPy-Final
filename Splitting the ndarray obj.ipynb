{
 "cells": [
  {
   "cell_type": "markdown",
   "id": "a2ed3d02-0655-4b7f-ab85-11c4312b52ea",
   "metadata": {},
   "source": [
    "## The array splitting in numpy is like a slice of cake.\n",
    "## Think of each element in numpy array as a slice of cake.\n",
    "## Splitting divide the cake into smaller slices often along specific dimensions or based on certain cretiria.\n",
    "## we can split horizontal, vertical or even diagonally depending on our needs.\n",
    "## The split() , v&h&d split() functions are important tools for dividing arrays along various axes and dimensional.\n",
    "## These functions are particularly useful  when working with one-dimensional array, matrices (or) high dimensional datasets.\n",
    "### split()\n",
    "### array_split()\n",
    "### hsplit()\n",
    "### vsplit()\n",
    "### dsplit()"
   ]
  },
  {
   "cell_type": "markdown",
   "id": "e9d9fc73-15fe-4805-9dae-5233b6dd5a6c",
   "metadata": {},
   "source": [
    "# a) split()"
   ]
  },
  {
   "cell_type": "code",
   "execution_count": 2,
   "id": "8fab1fde-320c-4c54-8830-69c6047c18bf",
   "metadata": {},
   "outputs": [
    {
     "name": "stdout",
     "output_type": "stream",
     "text": [
      "[0 1 2 3 4 5] <class 'numpy.ndarray'>\n",
      "------------------\n",
      "[array([0, 1, 2]), array([3, 4, 5])] <class 'list'>\n"
     ]
    }
   ],
   "source": [
    "import numpy as np\n",
    "a = np.arange(6)\n",
    "print(a,type(a))\n",
    "print(\"------------------\")\n",
    "b = np.split(a,2) # Here 2 is how many splits we want\n",
    "print(b,type(b))"
   ]
  },
  {
   "cell_type": "code",
   "execution_count": 3,
   "id": "70843149-4857-4b2e-affe-f1a3273f4f39",
   "metadata": {},
   "outputs": [
    {
     "name": "stdout",
     "output_type": "stream",
     "text": [
      "[0 1 2 3 4 5 6 7 8 9] <class 'numpy.ndarray'>\n",
      "------------------\n",
      "[array([0, 1]), array([2, 3]), array([4, 5]), array([6, 7]), array([8, 9])] <class 'list'>\n"
     ]
    }
   ],
   "source": [
    "import numpy as np\n",
    "a = np.arange(10)\n",
    "print(a,type(a))\n",
    "print(\"------------------\")\n",
    "b = np.split(a,5) # Here 2 is how many splits we want\n",
    "print(b,type(b))"
   ]
  },
  {
   "cell_type": "code",
   "execution_count": 4,
   "id": "9a81e1b6-c610-40ca-b350-a1d6d1aaaf88",
   "metadata": {},
   "outputs": [
    {
     "name": "stdout",
     "output_type": "stream",
     "text": [
      "[0 1] <class 'numpy.ndarray'>\n",
      "[2 3] <class 'numpy.ndarray'>\n",
      "[4 5] <class 'numpy.ndarray'>\n",
      "[6 7] <class 'numpy.ndarray'>\n",
      "[8 9] <class 'numpy.ndarray'>\n"
     ]
    }
   ],
   "source": [
    "for val in b:\n",
    "    print(val,type(val))"
   ]
  },
  {
   "cell_type": "code",
   "execution_count": 5,
   "id": "7a24e3a4-8e3d-42fc-af55-b4660d5ba001",
   "metadata": {},
   "outputs": [
    {
     "name": "stdout",
     "output_type": "stream",
     "text": [
      "[0 1 2 3 4 5 6 7] <class 'numpy.ndarray'>\n",
      "-------------------\n",
      "[array([0, 1, 2]), array([3, 4]), array([5]), array([6, 7]), array([], dtype=int64)] <class 'list'>\n"
     ]
    }
   ],
   "source": [
    "a = np.arange(8)\n",
    "print(a,type(a))\n",
    "print(\"-------------------\")\n",
    "b = np.split(a,[3,5,6,10]) # Here it will split accordingly indexes\n",
    "print(b,type(b))"
   ]
  },
  {
   "cell_type": "code",
   "execution_count": 6,
   "id": "37011fe3-cfd8-458b-92b8-34be9adcd3e0",
   "metadata": {},
   "outputs": [
    {
     "name": "stdout",
     "output_type": "stream",
     "text": [
      "[array([0, 1]), array([2, 3]), array([4, 5]), array([6, 7])] <class 'list'>\n"
     ]
    }
   ],
   "source": [
    "b = np.split(a,4)\n",
    "print(b,type(b))"
   ]
  },
  {
   "cell_type": "code",
   "execution_count": null,
   "id": "9c6cd716-4c3b-4001-b1c7-2a9b0dc44f14",
   "metadata": {},
   "outputs": [],
   "source": []
  },
  {
   "cell_type": "markdown",
   "id": "18c81991-9e1a-4acf-9093-9eb48ce34718",
   "metadata": {},
   "source": [
    "# b) array_split()"
   ]
  },
  {
   "cell_type": "code",
   "execution_count": 8,
   "id": "65c86ba3-c8ee-4af0-8ffc-f806f795d9bc",
   "metadata": {},
   "outputs": [
    {
     "name": "stdout",
     "output_type": "stream",
     "text": [
      "[ 0  1  2  3  4  5  6  7  8  9 10 11 12] <class 'numpy.ndarray'>\n",
      "---------------------------\n",
      "[array([0, 1, 2]), array([3, 4, 5]), array([6, 7, 8]), array([ 9, 10]), array([11, 12])] <class 'list'>\n"
     ]
    }
   ],
   "source": [
    "a = np.arange(13)\n",
    "print(a,type(a))\n",
    "print(\"---------------------------\")\n",
    "b = np.array_split(a,5)\n",
    "print(b,type(b))"
   ]
  },
  {
   "cell_type": "code",
   "execution_count": 9,
   "id": "4012fdb8-84f5-4b74-8952-ce82a3d8c382",
   "metadata": {},
   "outputs": [
    {
     "name": "stdout",
     "output_type": "stream",
     "text": [
      "[ 0  1  2  3  4  5  6  7  8  9 10 11 12] <class 'numpy.ndarray'>\n",
      "---------------------------\n",
      "[array([0, 1, 2, 3]), array([4]), array([5, 6]), array([7, 8]), array([ 9, 10, 11, 12])] <class 'list'>\n"
     ]
    }
   ],
   "source": [
    "a = np.arange(13)\n",
    "print(a,type(a))\n",
    "print(\"---------------------------\")\n",
    "b = np.array_split(a,[4,5,7,9])\n",
    "print(b,type(b))"
   ]
  },
  {
   "cell_type": "code",
   "execution_count": 10,
   "id": "c864c041-2b9e-4f26-afde-e12de12297b6",
   "metadata": {},
   "outputs": [
    {
     "name": "stdout",
     "output_type": "stream",
     "text": [
      "[ 0  1  2  3  4  5  6  7  8  9 10 11 12] <class 'numpy.ndarray'>\n",
      "---------------------------\n",
      "[array([0, 1, 2, 3, 4, 5, 6, 7]), array([ 8,  9, 10, 11]), array([12])] <class 'list'>\n"
     ]
    }
   ],
   "source": [
    "a = np.arange(13)\n",
    "print(a,type(a))\n",
    "print(\"---------------------------\")\n",
    "b = np.array_split(a,[8,12])\n",
    "print(b,type(b))"
   ]
  },
  {
   "cell_type": "code",
   "execution_count": null,
   "id": "7cc63bca-c5f5-4c3f-9913-74d04ee753ca",
   "metadata": {},
   "outputs": [],
   "source": []
  },
  {
   "cell_type": "markdown",
   "id": "c57ca179-ff00-4c76-b560-4a47f1ac5c75",
   "metadata": {},
   "source": [
    "# Splitting NumPy 2D arrays"
   ]
  },
  {
   "cell_type": "code",
   "execution_count": 11,
   "id": "77f3a22f-0e56-4f44-85c9-fbd1105d7aa6",
   "metadata": {},
   "outputs": [
    {
     "name": "stdout",
     "output_type": "stream",
     "text": [
      "[[3 2 1]\n",
      " [8 9 7]\n",
      " [4 6 5]]\n"
     ]
    }
   ],
   "source": [
    "array = np.array([[3,2,1],[8,9,7],[4,6,5]])\n",
    "print(array)"
   ]
  },
  {
   "cell_type": "code",
   "execution_count": 14,
   "id": "1e3c44db-7ea5-4bf4-88b3-84bbc29be92f",
   "metadata": {},
   "outputs": [
    {
     "name": "stdout",
     "output_type": "stream",
     "text": [
      "2D array\n",
      "[[3 2 1]\n",
      " [8 9 7]\n",
      " [4 6 5]]\n",
      "\n",
      "Result after numpy.split() along axis=1:\n",
      "[array([[3],\n",
      "       [8],\n",
      "       [4]]), array([[2],\n",
      "       [9],\n",
      "       [6]]), array([[1],\n",
      "       [7],\n",
      "       [5]])]\n"
     ]
    }
   ],
   "source": [
    "import numpy as np\n",
    "array = np.array([[3,2,1],[8,9,7],[4,6,5]])\n",
    "result = np.split(array,3,axis=1) # \n",
    "print(\"2D array\")\n",
    "print(array)\n",
    "print(\"\\nResult after numpy.split() along axis=1:\")\n",
    "print(result)"
   ]
  },
  {
   "cell_type": "code",
   "execution_count": null,
   "id": "b740588f-c906-49a9-b060-70572b5fd0ea",
   "metadata": {},
   "outputs": [],
   "source": [
    "import numpy as np\n",
    "array = np.array([[3,2,1],[8,9,7],[4,6,5]])\n",
    "result = np.split(array,3,axis=0) # \n",
    "print(\"2D array\")\n",
    "print(array)\n",
    "print(\"\\nResult after numpy.split() along axis=0:\")\n",
    "print(result)"
   ]
  },
  {
   "cell_type": "markdown",
   "id": "89d9e937-48d8-45a2-b6e3-4faf512db1d4",
   "metadata": {},
   "source": [
    "# Vsplit()"
   ]
  },
  {
   "cell_type": "code",
   "execution_count": 17,
   "id": "284639e5-dd0f-4804-861f-fb47385c3b11",
   "metadata": {},
   "outputs": [
    {
     "name": "stdout",
     "output_type": "stream",
     "text": [
      "Matrix:\n",
      "[[ 1  2  3]\n",
      " [ 4  5  6]\n",
      " [ 7  8  9]\n",
      " [10 11 12]]\n",
      "------------------------------\n",
      "\n",
      "Result after numpy.vsplit() along:\n",
      "[array([[1, 2, 3],\n",
      "       [4, 5, 6]]), array([[ 7,  8,  9],\n",
      "       [10, 11, 12]])]\n"
     ]
    }
   ],
   "source": [
    "Matrix = np.array([[1,2,3],[4,5,6],[7,8,9],[10,11,12]])\n",
    "result = np.vsplit(Matrix,2)\n",
    "print(\"Matrix:\")\n",
    "print(Matrix)\n",
    "print(\"------------------------------\")\n",
    "print(\"\\nResult after numpy.vsplit() along:\")\n",
    "print(result)"
   ]
  },
  {
   "cell_type": "code",
   "execution_count": 18,
   "id": "eeca30f4-d55a-4018-a0d1-4a7bb1b37a39",
   "metadata": {},
   "outputs": [
    {
     "name": "stdout",
     "output_type": "stream",
     "text": [
      "[[[0. 1.]\n",
      "  [2. 3.]]\n",
      "\n",
      " [[4. 5.]\n",
      "  [6. 7.]]]\n",
      "--------------\n",
      "[array([[[0., 1.],\n",
      "        [2., 3.]]]), array([[[4., 5.],\n",
      "        [6., 7.]]])]\n"
     ]
    }
   ],
   "source": [
    "x = np.arange(8.0).reshape(2,2,2)\n",
    "print(x)\n",
    "print(\"--------------\")\n",
    "z = np.vsplit(x,2)\n",
    "print(z)"
   ]
  },
  {
   "cell_type": "code",
   "execution_count": null,
   "id": "5dc8f4d8-dc88-4b26-b216-83dd3ea7b467",
   "metadata": {},
   "outputs": [],
   "source": []
  },
  {
   "cell_type": "markdown",
   "id": "a97c37ca-22ef-46c5-8aa7-2350654f6dc1",
   "metadata": {},
   "source": [
    "# hsplit()"
   ]
  },
  {
   "cell_type": "code",
   "execution_count": 19,
   "id": "a0567845-f8d5-4b87-b18a-36b25911131c",
   "metadata": {},
   "outputs": [
    {
     "name": "stdout",
     "output_type": "stream",
     "text": [
      "[[ 1  2  3  4]\n",
      " [ 5  6  7  8]\n",
      " [ 9 10 11 12]] <class 'numpy.ndarray'>\n",
      "------------------------------------\n",
      "2D array\n",
      "[[ 1  2  3  4]\n",
      " [ 5  6  7  8]\n",
      " [ 9 10 11 12]]\n",
      "\n",
      "Result after numpy.hsplit() along:\n",
      "[array([[ 1,  2],\n",
      "       [ 5,  6],\n",
      "       [ 9, 10]]), array([[ 3,  4],\n",
      "       [ 7,  8],\n",
      "       [11, 12]])]\n"
     ]
    }
   ],
   "source": [
    "a = np.array([[1,2,3,4],[5,6,7,8],[9,10,11,12]])\n",
    "print(a,type(a))\n",
    "print(\"------------------------------------\")\n",
    "result = np.hsplit(a,2)\n",
    "print(\"2D array\")\n",
    "print(a)\n",
    "print(\"\\nResult after numpy.hsplit() along:\")\n",
    "print(result)"
   ]
  },
  {
   "cell_type": "code",
   "execution_count": 20,
   "id": "a52091fd-4683-416f-bbfa-b9c52a5f5763",
   "metadata": {},
   "outputs": [
    {
     "name": "stdout",
     "output_type": "stream",
     "text": [
      "[[[0. 1.]\n",
      "  [2. 3.]]\n",
      "\n",
      " [[4. 5.]\n",
      "  [6. 7.]]]\n",
      "--------------\n",
      "[array([[[0., 1.]],\n",
      "\n",
      "       [[4., 5.]]]), array([[[2., 3.]],\n",
      "\n",
      "       [[6., 7.]]])]\n"
     ]
    }
   ],
   "source": [
    "x = np.arange(8.0).reshape(2,2,2)\n",
    "print(x)\n",
    "print(\"--------------\")\n",
    "z = np.hsplit(x,2)\n",
    "print(z)"
   ]
  },
  {
   "cell_type": "code",
   "execution_count": null,
   "id": "f4127a27-f02e-4029-8628-729a8af07e96",
   "metadata": {},
   "outputs": [],
   "source": []
  },
  {
   "cell_type": "markdown",
   "id": "ef173ed6-4205-45c3-8a74-5958c358f2ff",
   "metadata": {},
   "source": [
    "# dsplit() -- 3D onwords"
   ]
  },
  {
   "cell_type": "code",
   "execution_count": 21,
   "id": "6b00bd14-44d4-4174-8080-ee74c2d406bc",
   "metadata": {},
   "outputs": [
    {
     "name": "stdout",
     "output_type": "stream",
     "text": [
      "Original 3D array:\n",
      "[[[ 0  1  2  3]\n",
      "  [ 4  5  6  7]\n",
      "  [ 8  9 10 11]]\n",
      "\n",
      " [[12 13 14 15]\n",
      "  [16 17 18 19]\n",
      "  [20 21 22 23]]]\n",
      "\n",
      "Result after numpy.dsplit():\n",
      "[array([[[ 0,  1],\n",
      "        [ 4,  5],\n",
      "        [ 8,  9]],\n",
      "\n",
      "       [[12, 13],\n",
      "        [16, 17],\n",
      "        [20, 21]]]), array([[[ 2,  3],\n",
      "        [ 6,  7],\n",
      "        [10, 11]],\n",
      "\n",
      "       [[14, 15],\n",
      "        [18, 19],\n",
      "        [22, 23]]])]\n"
     ]
    }
   ],
   "source": [
    "import numpy as np\n",
    "original_3d_array = np.arange(24).reshape((2,3,4))\n",
    "result = np.dsplit(original_3d_array,2)\n",
    "\n",
    "print(\"Original 3D array:\")\n",
    "print(original_3d_array)\n",
    "print(\"\\nResult after numpy.dsplit():\")\n",
    "print(result)"
   ]
  },
  {
   "cell_type": "code",
   "execution_count": null,
   "id": "38d52234-729d-437b-8511-6c28520bd31f",
   "metadata": {},
   "outputs": [],
   "source": []
  },
  {
   "cell_type": "code",
   "execution_count": null,
   "id": "9612fffc-d469-4095-bca6-9bd705b763d3",
   "metadata": {},
   "outputs": [],
   "source": []
  },
  {
   "cell_type": "code",
   "execution_count": null,
   "id": "15744fb5-2c68-48c5-ab91-f36497fe9b2a",
   "metadata": {},
   "outputs": [],
   "source": []
  },
  {
   "cell_type": "code",
   "execution_count": null,
   "id": "5f26db27-4bf2-4a7c-9194-91bae47cd246",
   "metadata": {},
   "outputs": [],
   "source": []
  },
  {
   "cell_type": "code",
   "execution_count": null,
   "id": "25f36d2f-6718-4041-bdf9-418435e4ed8a",
   "metadata": {},
   "outputs": [],
   "source": []
  },
  {
   "cell_type": "code",
   "execution_count": null,
   "id": "9638e32c-e598-4f48-b1c5-a0be0dca6a3c",
   "metadata": {},
   "outputs": [],
   "source": []
  },
  {
   "cell_type": "code",
   "execution_count": null,
   "id": "70175b26-06a1-43bf-89c4-e4a374590d92",
   "metadata": {},
   "outputs": [],
   "source": []
  },
  {
   "cell_type": "code",
   "execution_count": null,
   "id": "568a79a7-f6ec-4fa7-9fdc-f1f458b1e02e",
   "metadata": {},
   "outputs": [],
   "source": []
  }
 ],
 "metadata": {
  "kernelspec": {
   "display_name": "Python 3 (ipykernel)",
   "language": "python",
   "name": "python3"
  },
  "language_info": {
   "codemirror_mode": {
    "name": "ipython",
    "version": 3
   },
   "file_extension": ".py",
   "mimetype": "text/x-python",
   "name": "python",
   "nbconvert_exporter": "python",
   "pygments_lexer": "ipython3",
   "version": "3.13.5"
  }
 },
 "nbformat": 4,
 "nbformat_minor": 5
}
